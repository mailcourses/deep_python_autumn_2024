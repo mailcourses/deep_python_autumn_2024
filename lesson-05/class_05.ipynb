{
 "cells": [
  {
   "cell_type": "markdown",
   "id": "9eabdc98-8972-4825-bed2-61c0077cd244",
   "metadata": {},
   "source": [
    "# ABC"
   ]
  },
  {
   "cell_type": "code",
   "execution_count": 4,
   "id": "9a5ec569-9ece-4945-a688-818441af7d36",
   "metadata": {},
   "outputs": [],
   "source": [
    "import abc\n",
    "from collections import abc as bc"
   ]
  },
  {
   "cell_type": "code",
   "execution_count": 14,
   "id": "708d7e1a-a786-40ef-bb51-1dc1e1f3a224",
   "metadata": {},
   "outputs": [],
   "source": [
    "class Person(abc.ABC):\n",
    "    \n",
    "    @abc.abstractmethod\n",
    "    def eat(self, food):\n",
    "        print(\"Person.eat\", food)\n",
    "\n",
    "        return \"tasty\"\n",
    "\n",
    "    @abc.abstractmethod\n",
    "    def sleep(self):\n",
    "        pass\n",
    "\n",
    "    def study(self, *args, **kwargs):\n",
    "        print(\"Person.study\")\n",
    "        self.eat(*args, **kwargs)\n",
    "        self.sleep()"
   ]
  },
  {
   "cell_type": "code",
   "execution_count": 15,
   "id": "e701ec93-0293-42a5-9a46-201a3078ef08",
   "metadata": {},
   "outputs": [
    {
     "ename": "TypeError",
     "evalue": "Can't instantiate abstract class Person without an implementation for abstract methods 'eat', 'sleep'",
     "output_type": "error",
     "traceback": [
      "\u001b[0;31m---------------------------------------------------------------------------\u001b[0m",
      "\u001b[0;31mTypeError\u001b[0m                                 Traceback (most recent call last)",
      "Cell \u001b[0;32mIn[15], line 1\u001b[0m\n\u001b[0;32m----> 1\u001b[0m steve \u001b[38;5;241m=\u001b[39m \u001b[43mPerson\u001b[49m\u001b[43m(\u001b[49m\u001b[43m)\u001b[49m\n",
      "\u001b[0;31mTypeError\u001b[0m: Can't instantiate abstract class Person without an implementation for abstract methods 'eat', 'sleep'"
     ]
    }
   ],
   "source": [
    "steve = Person()"
   ]
  },
  {
   "cell_type": "code",
   "execution_count": 16,
   "id": "05c22d14-3a6e-42e4-a227-dcfd27e3f002",
   "metadata": {},
   "outputs": [],
   "source": [
    "class Student(Person):\n",
    "    def sleep(self):\n",
    "        print(\"Student.sleep\")"
   ]
  },
  {
   "cell_type": "code",
   "execution_count": 17,
   "id": "519a9bb9-3917-4ee0-b3dc-1e0f28e43873",
   "metadata": {},
   "outputs": [
    {
     "ename": "TypeError",
     "evalue": "Can't instantiate abstract class Student without an implementation for abstract method 'eat'",
     "output_type": "error",
     "traceback": [
      "\u001b[0;31m---------------------------------------------------------------------------\u001b[0m",
      "\u001b[0;31mTypeError\u001b[0m                                 Traceback (most recent call last)",
      "Cell \u001b[0;32mIn[17], line 1\u001b[0m\n\u001b[0;32m----> 1\u001b[0m steve \u001b[38;5;241m=\u001b[39m \u001b[43mStudent\u001b[49m\u001b[43m(\u001b[49m\u001b[43m)\u001b[49m\n",
      "\u001b[0;31mTypeError\u001b[0m: Can't instantiate abstract class Student without an implementation for abstract method 'eat'"
     ]
    }
   ],
   "source": [
    "steve = Student()"
   ]
  },
  {
   "cell_type": "code",
   "execution_count": 18,
   "id": "a98cb090-8de4-4002-a03a-cf04d8c5d831",
   "metadata": {},
   "outputs": [],
   "source": [
    "class StudentEater(Student):\n",
    "    def eat(self, food, amount):\n",
    "        print(\"StudentEater.eat\", food, amount)\n",
    "        return super().eat(food)"
   ]
  },
  {
   "cell_type": "code",
   "execution_count": 19,
   "id": "6da1b52a-9db6-49a8-be55-b9ef697a585a",
   "metadata": {},
   "outputs": [],
   "source": [
    "steve = StudentEater()"
   ]
  },
  {
   "cell_type": "code",
   "execution_count": 20,
   "id": "16871887-5d88-4381-bc6f-c2a06558cea7",
   "metadata": {},
   "outputs": [
    {
     "name": "stdout",
     "output_type": "stream",
     "text": [
      "Student.sleep\n"
     ]
    }
   ],
   "source": [
    "steve.sleep()"
   ]
  },
  {
   "cell_type": "code",
   "execution_count": 21,
   "id": "52287e11-3af4-493a-b901-bb4d00b605a4",
   "metadata": {},
   "outputs": [
    {
     "name": "stdout",
     "output_type": "stream",
     "text": [
      "StudentEater.eat apple 10\n",
      "Person.eat apple\n"
     ]
    },
    {
     "data": {
      "text/plain": [
       "'tasty'"
      ]
     },
     "execution_count": 21,
     "metadata": {},
     "output_type": "execute_result"
    }
   ],
   "source": [
    "steve.eat(\"apple\", 10)"
   ]
  },
  {
   "cell_type": "code",
   "execution_count": 22,
   "id": "56707bbb-8990-47d9-8caf-504c85b7ef65",
   "metadata": {},
   "outputs": [
    {
     "name": "stdout",
     "output_type": "stream",
     "text": [
      "Person.study\n",
      "StudentEater.eat apple 42\n",
      "Person.eat apple\n",
      "Student.sleep\n"
     ]
    }
   ],
   "source": [
    "steve.study(\"apple\", 42)"
   ]
  },
  {
   "cell_type": "code",
   "execution_count": null,
   "id": "49848b79-8cc6-4f2b-9ded-4d3830841400",
   "metadata": {},
   "outputs": [],
   "source": []
  },
  {
   "cell_type": "code",
   "execution_count": null,
   "id": "a0013b02-19c3-4f78-8dcb-7f9a2ef77d75",
   "metadata": {},
   "outputs": [],
   "source": []
  },
  {
   "cell_type": "code",
   "execution_count": 23,
   "id": "45b7d1cf-756a-455e-b634-17d394799cc4",
   "metadata": {},
   "outputs": [],
   "source": [
    "phrase = \"some data\""
   ]
  },
  {
   "cell_type": "code",
   "execution_count": 24,
   "id": "bc33ae8f-3a4b-4905-9ecc-b4a7f65ea722",
   "metadata": {},
   "outputs": [
    {
     "data": {
      "text/plain": [
       "(False, False)"
      ]
     },
     "execution_count": 24,
     "metadata": {},
     "output_type": "execute_result"
    }
   ],
   "source": [
    "isinstance(phrase, Person), issubclass(str, Person)"
   ]
  },
  {
   "cell_type": "code",
   "execution_count": 26,
   "id": "f4e365e1-bfbd-46ee-9cb8-9b6ad5e54ede",
   "metadata": {},
   "outputs": [
    {
     "data": {
      "text/plain": [
       "str"
      ]
     },
     "execution_count": 26,
     "metadata": {},
     "output_type": "execute_result"
    }
   ],
   "source": [
    "Person.register(str)"
   ]
  },
  {
   "cell_type": "code",
   "execution_count": 27,
   "id": "bfa03771-217a-448e-90b2-ab6d27b123b6",
   "metadata": {},
   "outputs": [
    {
     "data": {
      "text/plain": [
       "(True, True)"
      ]
     },
     "execution_count": 27,
     "metadata": {},
     "output_type": "execute_result"
    }
   ],
   "source": [
    "isinstance(phrase, Person), issubclass(str, Person)"
   ]
  },
  {
   "cell_type": "code",
   "execution_count": 28,
   "id": "2998417a-d8c7-4335-9593-a84b47f7492e",
   "metadata": {},
   "outputs": [
    {
     "data": {
      "text/plain": [
       "[str, object]"
      ]
     },
     "execution_count": 28,
     "metadata": {},
     "output_type": "execute_result"
    }
   ],
   "source": [
    "str.mro()"
   ]
  },
  {
   "cell_type": "code",
   "execution_count": 29,
   "id": "e17689ae-a416-48a1-8be8-5ec99cdf9b43",
   "metadata": {},
   "outputs": [
    {
     "ename": "AttributeError",
     "evalue": "type object 'str' has no attribute 'sleep'",
     "output_type": "error",
     "traceback": [
      "\u001b[0;31m---------------------------------------------------------------------------\u001b[0m",
      "\u001b[0;31mAttributeError\u001b[0m                            Traceback (most recent call last)",
      "Cell \u001b[0;32mIn[29], line 1\u001b[0m\n\u001b[0;32m----> 1\u001b[0m \u001b[38;5;28;43mstr\u001b[39;49m\u001b[38;5;241;43m.\u001b[39;49m\u001b[43msleep\u001b[49m()\n",
      "\u001b[0;31mAttributeError\u001b[0m: type object 'str' has no attribute 'sleep'"
     ]
    }
   ],
   "source": [
    "str.sleep()"
   ]
  },
  {
   "cell_type": "code",
   "execution_count": null,
   "id": "d05b4e99-6471-4e84-93f8-629bd2e2bff4",
   "metadata": {},
   "outputs": [],
   "source": []
  },
  {
   "cell_type": "code",
   "execution_count": 30,
   "id": "be97a247-375f-43ee-a17f-4133a1d33e69",
   "metadata": {},
   "outputs": [],
   "source": [
    "class SomeIterable:\n",
    "    def __iter__(self):\n",
    "        pass\n",
    "\n",
    "\n",
    "class SomeIterator:\n",
    "    def __next__(self):\n",
    "        pass\n",
    "\n",
    "\n",
    "class Some(SomeIterable, SomeIterator):\n",
    "    pass"
   ]
  },
  {
   "cell_type": "code",
   "execution_count": 31,
   "id": "4a20c1d4-57c6-4772-bd58-e24b76f139c7",
   "metadata": {},
   "outputs": [
    {
     "name": "stdout",
     "output_type": "stream",
     "text": [
      "cls.__name__='SomeIterable', issubclass(cls, bc.Iterable)=True, issubclass(cls, bc.Iterator)=False\n",
      "cls.__name__='SomeIterator', issubclass(cls, bc.Iterable)=False, issubclass(cls, bc.Iterator)=False\n",
      "cls.__name__='Some', issubclass(cls, bc.Iterable)=True, issubclass(cls, bc.Iterator)=True\n"
     ]
    }
   ],
   "source": [
    "for cls in (SomeIterable, SomeIterator, Some):\n",
    "    print(f\"{cls.__name__=}, {issubclass(cls, bc.Iterable)=}, {issubclass(cls, bc.Iterator)=}\")"
   ]
  },
  {
   "cell_type": "code",
   "execution_count": null,
   "id": "0be235b9-d968-4afa-807b-15338c031649",
   "metadata": {},
   "outputs": [],
   "source": []
  },
  {
   "cell_type": "code",
   "execution_count": null,
   "id": "0747a521-c935-419b-9d03-772054da78b0",
   "metadata": {},
   "outputs": [],
   "source": []
  },
  {
   "cell_type": "code",
   "execution_count": null,
   "id": "664c7a55-25a0-4b93-a20e-7a0b69f7ded2",
   "metadata": {},
   "outputs": [],
   "source": []
  },
  {
   "cell_type": "code",
   "execution_count": 32,
   "id": "b4443af9-94b2-4e48-82c3-900caadc8908",
   "metadata": {},
   "outputs": [],
   "source": [
    "class Predictable(metaclass=abc.ABCMeta):\n",
    "\n",
    "    @abc.abstractmethod\n",
    "    def predict(self):\n",
    "        pass\n",
    "\n",
    "    @classmethod\n",
    "    def __subclasshook__(cls, C):\n",
    "        print(f\"Predictable.hook {cls=} {C=}\")\n",
    "\n",
    "        if cls is not Predictable:\n",
    "            return NotImplemented\n",
    "\n",
    "        name = \"predict\"\n",
    "        for class_ in C.__mro__:\n",
    "            if name in class_.__dict__ and callable(class_.__dict__[name]):\n",
    "                return True\n",
    "\n",
    "        return NotImplemented"
   ]
  },
  {
   "cell_type": "code",
   "execution_count": 34,
   "id": "ff621f7b-8d0d-44f3-9aca-8c3ee627a901",
   "metadata": {},
   "outputs": [],
   "source": [
    "class LLMModel:\n",
    "    def predict(self):\n",
    "        pass\n",
    "\n",
    "\n",
    "class NotModel:\n",
    "    predict = 154\n",
    "\n",
    "\n",
    "llm = LLMModel()\n",
    "nm = NotModel()"
   ]
  },
  {
   "cell_type": "code",
   "execution_count": 35,
   "id": "82643d11-684c-40bf-ac02-cb5149f657d4",
   "metadata": {},
   "outputs": [
    {
     "data": {
      "text/plain": [
       "([__main__.LLMModel, object], [__main__.NotModel, object])"
      ]
     },
     "execution_count": 35,
     "metadata": {},
     "output_type": "execute_result"
    }
   ],
   "source": [
    "LLMModel.mro(), NotModel.mro()"
   ]
  },
  {
   "cell_type": "code",
   "execution_count": 36,
   "id": "1083d924-264e-4712-aee1-5bfdd7e67f05",
   "metadata": {},
   "outputs": [
    {
     "name": "stdout",
     "output_type": "stream",
     "text": [
      "Predictable.hook cls=<class '__main__.Predictable'> C=<class '__main__.LLMModel'>\n"
     ]
    },
    {
     "data": {
      "text/plain": [
       "(True, True)"
      ]
     },
     "execution_count": 36,
     "metadata": {},
     "output_type": "execute_result"
    }
   ],
   "source": [
    "isinstance(llm, Predictable), issubclass(LLMModel, Predictable)"
   ]
  },
  {
   "cell_type": "code",
   "execution_count": 37,
   "id": "f875822f-7e99-4c0a-8b5a-67cf8eb6cf50",
   "metadata": {},
   "outputs": [
    {
     "name": "stdout",
     "output_type": "stream",
     "text": [
      "Predictable.hook cls=<class '__main__.Predictable'> C=<class '__main__.NotModel'>\n"
     ]
    },
    {
     "data": {
      "text/plain": [
       "(False, False)"
      ]
     },
     "execution_count": 37,
     "metadata": {},
     "output_type": "execute_result"
    }
   ],
   "source": [
    "isinstance(nm, Predictable), issubclass(NotModel, Predictable)"
   ]
  },
  {
   "cell_type": "code",
   "execution_count": 38,
   "id": "d19c4a02-50c8-4075-b905-4c162fdbdd33",
   "metadata": {},
   "outputs": [
    {
     "name": "stdout",
     "output_type": "stream",
     "text": [
      "Predictable.hook cls=<class '__main__.Predictable'> C=<class '__main__.StudentEater'>\n"
     ]
    },
    {
     "data": {
      "text/plain": [
       "(False, False)"
      ]
     },
     "execution_count": 38,
     "metadata": {},
     "output_type": "execute_result"
    }
   ],
   "source": [
    "isinstance(steve, Predictable), issubclass(StudentEater, Predictable)"
   ]
  },
  {
   "cell_type": "code",
   "execution_count": null,
   "id": "1b3577cb-c3b1-492a-9434-13530498f91b",
   "metadata": {},
   "outputs": [],
   "source": []
  },
  {
   "cell_type": "code",
   "execution_count": 47,
   "id": "171bc66d-4a0a-496f-8232-653027b1f17c",
   "metadata": {},
   "outputs": [],
   "source": [
    "class Predictable(metaclass=abc.ABCMeta):\n",
    "\n",
    "    @abc.abstractmethod\n",
    "    def predict(self):\n",
    "        pass\n",
    "\n",
    "    @classmethod\n",
    "    def __subclasshook__(cls, C):\n",
    "        print(f\"Predictable.hook {cls=} {C=}\")\n",
    "\n",
    "        if cls is not Predictable:\n",
    "            return NotImplemented\n",
    "\n",
    "        name = \"predict\"\n",
    "        for class_ in C.__mro__:\n",
    "            if name in class_.__dict__ and callable(class_.__dict__[name]):\n",
    "                return True\n",
    "\n",
    "        return NotImplemented\n",
    "\n",
    "\n",
    "class TrainPredictable(Predictable):\n",
    "    @abc.abstractmethod\n",
    "    def train(self):\n",
    "        pass\n",
    "\n",
    "    @classmethod\n",
    "    def __subclasshook__(cls, C):\n",
    "        print(f\"TrainPredictable.hook {cls=} {C=}\")\n",
    "\n",
    "        if cls is not TrainPredictable:\n",
    "            return NotImplemented\n",
    "\n",
    "        for name in (\"predict\", \"train\"):\n",
    "            for class_ in C.__mro__:\n",
    "                if name in class_.__dict__ and callable(class_.__dict__[name]):\n",
    "                    break\n",
    "            else:\n",
    "                 return NotImplemented\n",
    "        return True"
   ]
  },
  {
   "cell_type": "code",
   "execution_count": 41,
   "id": "5bd5729c-e197-4a7c-aa69-0c0f14692730",
   "metadata": {},
   "outputs": [],
   "source": [
    "class LinearModel:\n",
    "    def predict(self):\n",
    "        pass\n",
    "\n",
    "    def train(self):\n",
    "        pass\n",
    "\n",
    "lin = LinearModel()"
   ]
  },
  {
   "cell_type": "code",
   "execution_count": 44,
   "id": "4cade305-4a96-44ca-afd4-1cf2bf29e7bd",
   "metadata": {},
   "outputs": [
    {
     "name": "stdout",
     "output_type": "stream",
     "text": [
      "Predictable.hook cls=<class '__main__.TrainPredictable'> C=<class '__main__.LinearModel'>\n"
     ]
    },
    {
     "data": {
      "text/plain": [
       "(False, False)"
      ]
     },
     "execution_count": 44,
     "metadata": {},
     "output_type": "execute_result"
    }
   ],
   "source": [
    "isinstance(lin, TrainPredictable), issubclass(LinearModel, TrainPredictable)"
   ]
  },
  {
   "cell_type": "code",
   "execution_count": 48,
   "id": "56b3133d-e6de-48a3-a967-b492d73f6c7b",
   "metadata": {},
   "outputs": [
    {
     "name": "stdout",
     "output_type": "stream",
     "text": [
      "TrainPredictable.hook cls=<class '__main__.TrainPredictable'> C=<class '__main__.LinearModel'>\n"
     ]
    },
    {
     "data": {
      "text/plain": [
       "(True, True)"
      ]
     },
     "execution_count": 48,
     "metadata": {},
     "output_type": "execute_result"
    }
   ],
   "source": [
    "isinstance(lin, TrainPredictable), issubclass(LinearModel, TrainPredictable)"
   ]
  },
  {
   "cell_type": "code",
   "execution_count": 49,
   "id": "1353abf0-73af-4e28-820b-beace7d5e01c",
   "metadata": {},
   "outputs": [
    {
     "name": "stdout",
     "output_type": "stream",
     "text": [
      "TrainPredictable.hook cls=<class '__main__.TrainPredictable'> C=<class '__main__.LLMModel'>\n"
     ]
    },
    {
     "data": {
      "text/plain": [
       "(False, False)"
      ]
     },
     "execution_count": 49,
     "metadata": {},
     "output_type": "execute_result"
    }
   ],
   "source": [
    "isinstance(llm, TrainPredictable), issubclass(LLMModel, TrainPredictable)"
   ]
  },
  {
   "cell_type": "code",
   "execution_count": null,
   "id": "138e1988-a390-4de9-be64-1a4b0a3e6a3e",
   "metadata": {},
   "outputs": [],
   "source": []
  },
  {
   "cell_type": "code",
   "execution_count": null,
   "id": "d5d07168-f74a-4590-a2f7-ab1819b490ce",
   "metadata": {},
   "outputs": [],
   "source": []
  },
  {
   "cell_type": "code",
   "execution_count": null,
   "id": "af58cee5-f512-4ed2-a4d2-219b31f55d0b",
   "metadata": {},
   "outputs": [],
   "source": []
  },
  {
   "cell_type": "markdown",
   "id": "88e6e4a0-bd56-4b3e-a3de-8cccad3fe9d9",
   "metadata": {},
   "source": [
    "# Numbers: int, float, round"
   ]
  },
  {
   "cell_type": "code",
   "execution_count": 50,
   "id": "1d31a1ff-a8a7-490a-8098-0f4285381053",
   "metadata": {},
   "outputs": [
    {
     "data": {
      "text/plain": [
       "42"
      ]
     },
     "execution_count": 50,
     "metadata": {},
     "output_type": "execute_result"
    }
   ],
   "source": [
    "42"
   ]
  },
  {
   "cell_type": "code",
   "execution_count": 7,
   "id": "f4260b0b-462c-4e1e-a8e7-b22e44bf0c9c",
   "metadata": {},
   "outputs": [
    {
     "data": {
      "text/plain": [
       "42"
      ]
     },
     "execution_count": 7,
     "metadata": {},
     "output_type": "execute_result"
    }
   ],
   "source": [
    "int(42)"
   ]
  },
  {
   "cell_type": "code",
   "execution_count": 51,
   "id": "40735647-5d37-4a3e-9947-947771c3d52c",
   "metadata": {},
   "outputs": [
    {
     "data": {
      "text/plain": [
       "42"
      ]
     },
     "execution_count": 51,
     "metadata": {},
     "output_type": "execute_result"
    }
   ],
   "source": [
    "int(\"42\")"
   ]
  },
  {
   "cell_type": "code",
   "execution_count": 52,
   "id": "8d5f8dc6-77e4-4719-9f44-c51df1c8597e",
   "metadata": {},
   "outputs": [
    {
     "ename": "ValueError",
     "evalue": "invalid literal for int() with base 10: '42.5'",
     "output_type": "error",
     "traceback": [
      "\u001b[0;31m---------------------------------------------------------------------------\u001b[0m",
      "\u001b[0;31mValueError\u001b[0m                                Traceback (most recent call last)",
      "Cell \u001b[0;32mIn[52], line 1\u001b[0m\n\u001b[0;32m----> 1\u001b[0m \u001b[38;5;28;43mint\u001b[39;49m\u001b[43m(\u001b[49m\u001b[38;5;124;43m\"\u001b[39;49m\u001b[38;5;124;43m42.5\u001b[39;49m\u001b[38;5;124;43m\"\u001b[39;49m\u001b[43m)\u001b[49m\n",
      "\u001b[0;31mValueError\u001b[0m: invalid literal for int() with base 10: '42.5'"
     ]
    }
   ],
   "source": [
    "int(\"42.5\")"
   ]
  },
  {
   "cell_type": "code",
   "execution_count": 54,
   "id": "8e3cf308-e96e-4500-823b-fde791761ec8",
   "metadata": {},
   "outputs": [
    {
     "data": {
      "text/plain": [
       "17043521"
      ]
     },
     "execution_count": 54,
     "metadata": {},
     "output_type": "execute_result"
    }
   ],
   "source": [
    "int(\"101010101\", 8)"
   ]
  },
  {
   "cell_type": "code",
   "execution_count": 55,
   "id": "02faf507-4b0d-495c-8463-ab5a1c3da770",
   "metadata": {},
   "outputs": [
    {
     "data": {
      "text/plain": [
       "(5, 5, 6, 6)"
      ]
     },
     "execution_count": 55,
     "metadata": {},
     "output_type": "execute_result"
    }
   ],
   "source": [
    "int(5.9), int(5.1), int(6.7), int(6.1)"
   ]
  },
  {
   "cell_type": "code",
   "execution_count": 56,
   "id": "0ae174bb-88bf-452f-80a0-931c27666af6",
   "metadata": {},
   "outputs": [
    {
     "data": {
      "text/plain": [
       "(-5, -5, -6, -6)"
      ]
     },
     "execution_count": 56,
     "metadata": {},
     "output_type": "execute_result"
    }
   ],
   "source": [
    "int(-5.9), int(-5.1), int(-6.7), int(-6.1)"
   ]
  },
  {
   "cell_type": "code",
   "execution_count": 59,
   "id": "f8e56a81-a09d-467d-b5ec-6858e1bf91b9",
   "metadata": {},
   "outputs": [
    {
     "data": {
      "text/plain": [
       "(6.79, 6.79, 6.76, 6.79)"
      ]
     },
     "execution_count": 59,
     "metadata": {},
     "output_type": "execute_result"
    }
   ],
   "source": [
    "round(6.789, 2), round(6.785, 2), round(6.765, 2), round(6.785, 2)"
   ]
  },
  {
   "cell_type": "code",
   "execution_count": 60,
   "id": "ab580d5a-bf53-4eb2-8918-d5076b37a24f",
   "metadata": {},
   "outputs": [
    {
     "data": {
      "text/plain": [
       "(7, 6, 6)"
      ]
     },
     "execution_count": 60,
     "metadata": {},
     "output_type": "execute_result"
    }
   ],
   "source": [
    "round(6.7), round(6.5), round(6.4)"
   ]
  },
  {
   "cell_type": "code",
   "execution_count": 61,
   "id": "8f4421a7-377c-408d-a2e4-8a79c6a09a7a",
   "metadata": {},
   "outputs": [
    {
     "data": {
      "text/plain": [
       "(8, 8, 7)"
      ]
     },
     "execution_count": 61,
     "metadata": {},
     "output_type": "execute_result"
    }
   ],
   "source": [
    "round(7.7), round(7.5), round(7.4)"
   ]
  },
  {
   "cell_type": "code",
   "execution_count": null,
   "id": "f3b9d018-4d96-4bfc-99d5-6f6edb724f3d",
   "metadata": {},
   "outputs": [],
   "source": []
  },
  {
   "cell_type": "code",
   "execution_count": 62,
   "id": "d4721a7b-5605-4ad7-a366-e0a82ab50d45",
   "metadata": {},
   "outputs": [
    {
     "data": {
      "text/plain": [
       "False"
      ]
     },
     "execution_count": 62,
     "metadata": {},
     "output_type": "execute_result"
    }
   ],
   "source": [
    "0.1 + 0.2 == 0.3"
   ]
  },
  {
   "cell_type": "code",
   "execution_count": 65,
   "id": "eda79d88-612e-4ecd-ad97-2e7a52e67b16",
   "metadata": {},
   "outputs": [
    {
     "data": {
      "text/plain": [
       "0.30000000000000004"
      ]
     },
     "execution_count": 65,
     "metadata": {},
     "output_type": "execute_result"
    }
   ],
   "source": [
    "0.1 + 0.2"
   ]
  },
  {
   "cell_type": "code",
   "execution_count": 66,
   "id": "9098c18d-9ae7-4e11-bab1-74cd0210c99a",
   "metadata": {},
   "outputs": [],
   "source": [
    "from decimal import Decimal\n",
    "from fractions import Fraction"
   ]
  },
  {
   "cell_type": "code",
   "execution_count": 67,
   "id": "adf2fa84-236b-4934-b76e-7c7b05b020e1",
   "metadata": {},
   "outputs": [
    {
     "data": {
      "text/plain": [
       "False"
      ]
     },
     "execution_count": 67,
     "metadata": {},
     "output_type": "execute_result"
    }
   ],
   "source": [
    "d1 = Decimal(0.1)\n",
    "d2 = Decimal(0.2)\n",
    "d3 = Decimal(0.3)\n",
    "\n",
    "d1 + d2 == d3"
   ]
  },
  {
   "cell_type": "code",
   "execution_count": 68,
   "id": "c8ffd24d-394c-408b-9d18-047117f6d672",
   "metadata": {},
   "outputs": [
    {
     "data": {
      "text/plain": [
       "True"
      ]
     },
     "execution_count": 68,
     "metadata": {},
     "output_type": "execute_result"
    }
   ],
   "source": [
    "d1 = Decimal(\"0.1\")\n",
    "d2 = Decimal(\"0.2\")\n",
    "d3 = Decimal(\"0.3\")\n",
    "\n",
    "d1 + d2 == d3"
   ]
  },
  {
   "cell_type": "code",
   "execution_count": 69,
   "id": "9d1e3dbb-8369-4cf3-b6f7-78c3973fe505",
   "metadata": {},
   "outputs": [
    {
     "data": {
      "text/plain": [
       "0.3"
      ]
     },
     "execution_count": 69,
     "metadata": {},
     "output_type": "execute_result"
    }
   ],
   "source": [
    "float(d3)"
   ]
  },
  {
   "cell_type": "code",
   "execution_count": 70,
   "id": "eec720d9-7322-4b4f-8e86-1b25921966ec",
   "metadata": {},
   "outputs": [
    {
     "data": {
      "text/plain": [
       "Decimal('0.1428571428571428571428571429')"
      ]
     },
     "execution_count": 70,
     "metadata": {},
     "output_type": "execute_result"
    }
   ],
   "source": [
    "Decimal(1) / Decimal(7)"
   ]
  },
  {
   "cell_type": "code",
   "execution_count": 71,
   "id": "0be2325b-fcad-4364-a42e-8cb107e03b10",
   "metadata": {},
   "outputs": [],
   "source": [
    "f1 = Fraction(1, 7)"
   ]
  },
  {
   "cell_type": "code",
   "execution_count": 72,
   "id": "d1ba0c55-0e29-4ef8-8e8c-0c92a497c0d7",
   "metadata": {},
   "outputs": [
    {
     "data": {
      "text/plain": [
       "0.14285714285714285"
      ]
     },
     "execution_count": 72,
     "metadata": {},
     "output_type": "execute_result"
    }
   ],
   "source": [
    "float(f1)"
   ]
  },
  {
   "cell_type": "code",
   "execution_count": 73,
   "id": "03fb1afb-bc66-4bff-9a88-6cca135341b0",
   "metadata": {},
   "outputs": [],
   "source": [
    "f2 = Fraction(5, 9)"
   ]
  },
  {
   "cell_type": "code",
   "execution_count": 74,
   "id": "8f479d1a-1412-4f14-8420-1d9233764c96",
   "metadata": {},
   "outputs": [
    {
     "data": {
      "text/plain": [
       "Fraction(44, 63)"
      ]
     },
     "execution_count": 74,
     "metadata": {},
     "output_type": "execute_result"
    }
   ],
   "source": [
    "f1 + f2"
   ]
  },
  {
   "cell_type": "code",
   "execution_count": 75,
   "id": "6bfe0967-33f6-4bc2-9fc7-0920c70e5e1b",
   "metadata": {},
   "outputs": [
    {
     "data": {
      "text/plain": [
       "0.6984126984126984"
      ]
     },
     "execution_count": 75,
     "metadata": {},
     "output_type": "execute_result"
    }
   ],
   "source": [
    "float(f1 + f2)"
   ]
  },
  {
   "cell_type": "code",
   "execution_count": null,
   "id": "21cba935-bf01-4328-8d6d-c170dd861b77",
   "metadata": {},
   "outputs": [],
   "source": []
  },
  {
   "cell_type": "code",
   "execution_count": null,
   "id": "59033a97-734e-4c7b-9300-238e59748204",
   "metadata": {},
   "outputs": [],
   "source": []
  },
  {
   "cell_type": "code",
   "execution_count": null,
   "id": "453f8971-d4f6-4cdc-90da-1c395597d791",
   "metadata": {},
   "outputs": [],
   "source": []
  },
  {
   "cell_type": "code",
   "execution_count": null,
   "id": "6768d82d-14d6-4a4d-b351-4c0b7732c6e7",
   "metadata": {},
   "outputs": [],
   "source": []
  },
  {
   "cell_type": "code",
   "execution_count": null,
   "id": "532537fb-6a9b-4096-be8c-9c052f1fc333",
   "metadata": {},
   "outputs": [],
   "source": []
  },
  {
   "cell_type": "markdown",
   "id": "47a5d8ed-0d28-44da-abdb-de4ae6149d1b",
   "metadata": {},
   "source": [
    "# String"
   ]
  },
  {
   "cell_type": "code",
   "execution_count": 76,
   "id": "9417ccf2-cc7f-4596-9dc2-bfab70e857cf",
   "metadata": {},
   "outputs": [
    {
     "data": {
      "text/plain": [
       "(True, False, True, True)"
      ]
     },
     "execution_count": 76,
     "metadata": {},
     "output_type": "execute_result"
    }
   ],
   "source": [
    "\"abc\".isalpha(), \"abc\".isdigit(), \"5554\".isdigit(), \"abc123\".isalnum()"
   ]
  },
  {
   "cell_type": "code",
   "execution_count": 77,
   "id": "b4cf7353-be53-4287-bc3d-1ac39571ae32",
   "metadata": {},
   "outputs": [
    {
     "data": {
      "text/plain": [
       "(True, True, True)"
      ]
     },
     "execution_count": 77,
     "metadata": {},
     "output_type": "execute_result"
    }
   ],
   "source": [
    "\"5554\".isdigit(), \"5554\".isnumeric(), \"5554\".isdecimal()"
   ]
  },
  {
   "cell_type": "code",
   "execution_count": null,
   "id": "8ddce268-7f37-4269-9445-cff8172d4e17",
   "metadata": {},
   "outputs": [],
   "source": []
  },
  {
   "cell_type": "code",
   "execution_count": null,
   "id": "4d0229f2-0fdc-4944-a76a-f482feac64cf",
   "metadata": {},
   "outputs": [],
   "source": []
  },
  {
   "cell_type": "code",
   "execution_count": null,
   "id": "5e4157ff-a509-4787-a355-d05126273c7b",
   "metadata": {},
   "outputs": [],
   "source": []
  },
  {
   "cell_type": "code",
   "execution_count": 78,
   "id": "90317e69-bf6b-40f4-a4b7-0816db885853",
   "metadata": {},
   "outputs": [
    {
     "data": {
      "text/plain": [
       "(True, True, False)"
      ]
     },
     "execution_count": 78,
     "metadata": {},
     "output_type": "execute_result"
    }
   ],
   "source": [
    "strange = \"1¹²²³⁴⁴\"\n",
    "strange.isdigit(), strange.isnumeric(), strange.isdecimal()"
   ]
  },
  {
   "cell_type": "code",
   "execution_count": 79,
   "id": "82bf5ca8-0702-4ce8-83c9-99b857db915e",
   "metadata": {},
   "outputs": [
    {
     "ename": "ValueError",
     "evalue": "invalid literal for int() with base 10: '1¹²²³⁴⁴'",
     "output_type": "error",
     "traceback": [
      "\u001b[0;31m---------------------------------------------------------------------------\u001b[0m",
      "\u001b[0;31mValueError\u001b[0m                                Traceback (most recent call last)",
      "Cell \u001b[0;32mIn[79], line 1\u001b[0m\n\u001b[0;32m----> 1\u001b[0m \u001b[38;5;28;43mint\u001b[39;49m\u001b[43m(\u001b[49m\u001b[43mstrange\u001b[49m\u001b[43m)\u001b[49m\n",
      "\u001b[0;31mValueError\u001b[0m: invalid literal for int() with base 10: '1¹²²³⁴⁴'"
     ]
    }
   ],
   "source": [
    "int(strange)"
   ]
  },
  {
   "cell_type": "code",
   "execution_count": null,
   "id": "f7447808-2d15-45c6-b09b-d70b7cea2700",
   "metadata": {},
   "outputs": [],
   "source": []
  },
  {
   "cell_type": "code",
   "execution_count": null,
   "id": "e1b8f17f-0732-4cb2-a5f0-325c6313f0f7",
   "metadata": {},
   "outputs": [],
   "source": []
  },
  {
   "cell_type": "code",
   "execution_count": 80,
   "id": "24d9fcc3-74ba-4c26-b0df-32cbf42b1973",
   "metadata": {},
   "outputs": [],
   "source": [
    "phrase = \"Кабы не было зимы\""
   ]
  },
  {
   "cell_type": "code",
   "execution_count": 81,
   "id": "c05d845c-2a1f-4ec8-8216-acfa9e12b455",
   "metadata": {},
   "outputs": [
    {
     "data": {
      "text/plain": [
       "'Кабы не было зимы'"
      ]
     },
     "execution_count": 81,
     "metadata": {},
     "output_type": "execute_result"
    }
   ],
   "source": [
    "phrase"
   ]
  },
  {
   "cell_type": "code",
   "execution_count": 82,
   "id": "6ef6c94c-a5f3-462d-8019-656cbb4794a5",
   "metadata": {},
   "outputs": [
    {
     "data": {
      "text/plain": [
       "(False, True, False)"
      ]
     },
     "execution_count": 82,
     "metadata": {},
     "output_type": "execute_result"
    }
   ],
   "source": [
    "\"зима\" in phrase, \"зимы\" in phrase, \"Зимы\" in phrase"
   ]
  },
  {
   "cell_type": "code",
   "execution_count": null,
   "id": "9cba9da8-6a65-41aa-8967-68c4561bbd8e",
   "metadata": {},
   "outputs": [],
   "source": []
  },
  {
   "cell_type": "code",
   "execution_count": 87,
   "id": "3679a66d-a843-40f9-b509-fb4fb23eddb4",
   "metadata": {},
   "outputs": [
    {
     "name": "stdout",
     "output_type": "stream",
     "text": [
      "'Кабы не было зимы'.lower() == кабы не было зимы\n",
      "\n",
      "'Кабы не было зимы'.upper() == КАБЫ НЕ БЫЛО ЗИМЫ\n",
      "\n",
      "'Кабы не было зимы'.islower() == False\n",
      "\n",
      "'Кабы не было зимы'.isupper() == False\n",
      "\n",
      "'Кабы не было зимы'.title() == Кабы Не Было Зимы\n",
      "\n",
      "'Кабы не было зимы'.capitalize() == Кабы не было зимы\n",
      "\n",
      "'Кабы не было зимы'.startswith('кабы',) == False\n",
      "\n",
      "'Кабы не было зимы'.startswith('абы',) == False\n",
      "\n",
      "'Кабы не было зимы'.startswith('Кабы',) == True\n",
      "\n",
      "'Кабы не было зимы'.endswith('зимы',) == True\n",
      "\n",
      "'Кабы не было зимы'.endswith('зим',) == False\n",
      "\n",
      "'Кабы не было зимы'.count('ы',) == 3\n",
      "\n",
      "'Кабы не было зимы'.count('не',) == 1\n",
      "\n",
      "'Кабы не было зимы'.count('123',) == 0\n",
      "\n",
      "'Кабы не было зимы'.find('не',) == 5\n",
      "\n",
      "'Кабы не было зимы'.find('лето',) == -1\n",
      "\n",
      "'Кабы не было зимы'.index('не',) == 5\n",
      "\n",
      "'Кабы не было зимы'.rindex('не',) == 5\n",
      "\n",
      "'Кабы не было зимы'.find('ы',) == 3\n",
      "\n",
      "'Кабы не было зимы'.find('ы', 10) == 16\n",
      "\n",
      "'Кабы не было зимы'.rfind('ы',) == 16\n",
      "\n",
      "'Кабы не было зимы'.split() == ['Кабы', 'не', 'было', 'зимы']\n",
      "\n",
      "'Кабы не было зимы'.split('не',) == ['Кабы ', ' было зимы']\n",
      "\n",
      "'Кабы не было зимы'.split('не',) == ['Кабы ', ' было зимы']\n",
      "\n",
      "'Кабы не было зимы'.rsplit('ы', 2) == ['Кабы не б', 'ло зим', '']\n",
      "\n",
      "'Кабы не было зимы'.partition(' ',) == ('Кабы', ' ', 'не было зимы')\n",
      "\n",
      "'Кабы не было зимы'.rpartition(' ',) == ('Кабы не было', ' ', 'зимы')\n",
      "\n",
      "'Кабы не было зимы'.join(['123_', '_456'],) == 123_Кабы не было зимы_456\n",
      "\n",
      "'Кабы не было зимы'.strip('Кзыма',) == бы не было зи\n",
      "\n",
      "'Кабы не было зимы'.removeprefix('Кабы',) ==  не было зимы\n",
      "\n",
      "'Кабы не было зимы'.removeprefix('Ка1',) == Кабы не было зимы\n",
      "\n",
      "'Кабы не было зимы'.removeprefix('Каыб',) == Кабы не было зимы\n",
      "\n",
      "'Кабы не было зимы'.removesuffix('м',) == Кабы не было зимы\n",
      "\n",
      "'Кабы не было зимы'.removesuffix('мы',) == Кабы не было зи\n",
      "\n",
      "'Кабы не было зимы'.removesuffix('ым',) == Кабы не было зимы\n",
      "\n"
     ]
    }
   ],
   "source": [
    "for meth, params in (\n",
    "    (\"lower\", ()),\n",
    "    (\"upper\", ()),\n",
    "    (\"islower\", ()),\n",
    "    (\"isupper\", ()),\n",
    "    (\"title\", ()),\n",
    "    (\"capitalize\", ()),\n",
    "    (\"startswith\", (\"кабы\",)),\n",
    "    (\"startswith\", (\"абы\",)),\n",
    "    (\"startswith\", (\"Кабы\",)),\n",
    "    (\"endswith\", (\"зимы\",)),\n",
    "    (\"endswith\", (\"зим\",)),\n",
    "    (\"count\", (\"ы\",)),\n",
    "    (\"count\", (\"не\",)),\n",
    "    (\"count\", (\"123\",)),\n",
    "    (\"find\", (\"не\",)),\n",
    "    (\"find\", (\"лето\",)),\n",
    "    (\"index\", (\"не\",)),\n",
    "    (\"rindex\", (\"не\",)),\n",
    "    (\"find\", (\"ы\",)),\n",
    "    (\"find\", (\"ы\", 10)),\n",
    "    (\"rfind\", (\"ы\",)),\n",
    "    (\"split\", ()),\n",
    "    (\"split\", (\"не\",)),\n",
    "    (\"split\", (\"не\",)),\n",
    "    (\"rsplit\", (\"ы\", 2)),\n",
    "    (\"partition\", (\" \",)),\n",
    "    (\"rpartition\", (\" \",)),\n",
    "    (\"join\", ([\"123_\", \"_456\"],)),\n",
    "    (\"strip\", (\"Кзыма\",)),\n",
    "    (\"removeprefix\", (\"Кабы\",)),\n",
    "    (\"removeprefix\", (\"Ка1\",)),\n",
    "    (\"removeprefix\", (\"Каыб\",)),\n",
    "    (\"removesuffix\", (\"м\",)),\n",
    "    (\"removesuffix\", (\"мы\",)),\n",
    "    (\"removesuffix\", (\"ым\",)),\n",
    "):\n",
    "    print(f\"'{phrase}'.{meth}{params} == {getattr(phrase, meth)(*params)}\\n\")"
   ]
  },
  {
   "cell_type": "code",
   "execution_count": null,
   "id": "9e509ac8-255e-441c-adc5-65f824f7d4fc",
   "metadata": {},
   "outputs": [],
   "source": []
  },
  {
   "cell_type": "code",
   "execution_count": null,
   "id": "250ed2ad-1ccb-4feb-a9a5-f0f95d2d0034",
   "metadata": {},
   "outputs": [],
   "source": []
  },
  {
   "cell_type": "code",
   "execution_count": null,
   "id": "c2e86e3d-f0fa-4916-91ef-1be16759cfa1",
   "metadata": {},
   "outputs": [],
   "source": []
  },
  {
   "cell_type": "code",
   "execution_count": null,
   "id": "e56c0cfb-3383-4286-9edc-7578d7d174d9",
   "metadata": {},
   "outputs": [],
   "source": []
  },
  {
   "cell_type": "code",
   "execution_count": 88,
   "id": "bbca63e3-f05b-48c7-a5ea-6b9c62602e50",
   "metadata": {},
   "outputs": [],
   "source": [
    "import collections"
   ]
  },
  {
   "cell_type": "code",
   "execution_count": 89,
   "id": "fcf303c9-c3e1-4e65-b670-68020d51f705",
   "metadata": {},
   "outputs": [],
   "source": [
    "Point = collections.namedtuple(\"Point\", [\"x\", \"y\"])"
   ]
  },
  {
   "cell_type": "code",
   "execution_count": 90,
   "id": "8815be59-1803-4eae-8281-77a16d1fa374",
   "metadata": {},
   "outputs": [],
   "source": [
    "p1 = Point(10, 20)"
   ]
  },
  {
   "cell_type": "code",
   "execution_count": 92,
   "id": "3f38dac0-b1b3-4331-b834-74943f4f6811",
   "metadata": {},
   "outputs": [
    {
     "data": {
      "text/plain": [
       "(10, 20)"
      ]
     },
     "execution_count": 92,
     "metadata": {},
     "output_type": "execute_result"
    }
   ],
   "source": [
    "p1.x, p1.y"
   ]
  },
  {
   "cell_type": "code",
   "execution_count": 93,
   "id": "e37259ed-4960-4aaf-9eb3-4b7dc3faa168",
   "metadata": {},
   "outputs": [
    {
     "ename": "AttributeError",
     "evalue": "can't set attribute",
     "output_type": "error",
     "traceback": [
      "\u001b[0;31m---------------------------------------------------------------------------\u001b[0m",
      "\u001b[0;31mAttributeError\u001b[0m                            Traceback (most recent call last)",
      "Cell \u001b[0;32mIn[93], line 1\u001b[0m\n\u001b[0;32m----> 1\u001b[0m \u001b[43mp1\u001b[49m\u001b[38;5;241;43m.\u001b[39;49m\u001b[43mx\u001b[49m \u001b[38;5;241m=\u001b[39m \u001b[38;5;241m30\u001b[39m\n",
      "\u001b[0;31mAttributeError\u001b[0m: can't set attribute"
     ]
    }
   ],
   "source": [
    "p1.x = 30"
   ]
  },
  {
   "cell_type": "code",
   "execution_count": 94,
   "id": "99df98ff-6005-433f-a25d-b154d8aa0659",
   "metadata": {},
   "outputs": [
    {
     "data": {
      "text/plain": [
       "(10, 20)"
      ]
     },
     "execution_count": 94,
     "metadata": {},
     "output_type": "execute_result"
    }
   ],
   "source": [
    "p1[0], p1[1]"
   ]
  },
  {
   "cell_type": "code",
   "execution_count": null,
   "id": "3994726b-792f-4fcd-bbe8-81caef7c1124",
   "metadata": {},
   "outputs": [],
   "source": []
  },
  {
   "cell_type": "code",
   "execution_count": 95,
   "id": "c3fa5386-0d8c-4fbf-aed4-76eda5a9b2a9",
   "metadata": {},
   "outputs": [],
   "source": [
    "import dataclasses"
   ]
  },
  {
   "cell_type": "code",
   "execution_count": 98,
   "id": "00862805-39c4-4052-bf46-9807e16cc154",
   "metadata": {},
   "outputs": [],
   "source": [
    "@dataclasses.dataclass\n",
    "class State:\n",
    "    name: str\n",
    "    count: int = 0"
   ]
  },
  {
   "cell_type": "code",
   "execution_count": 100,
   "id": "cc5034b6-c8c5-4848-a7d1-c61b340ca5ca",
   "metadata": {},
   "outputs": [],
   "source": [
    "s1 = State(\"steve\")"
   ]
  },
  {
   "cell_type": "code",
   "execution_count": 102,
   "id": "e3c1f7a6-b72c-4970-b86b-4783d0edc1b0",
   "metadata": {},
   "outputs": [
    {
     "data": {
      "text/plain": [
       "('steve', 0)"
      ]
     },
     "execution_count": 102,
     "metadata": {},
     "output_type": "execute_result"
    }
   ],
   "source": [
    "s1.name, s1.count"
   ]
  },
  {
   "cell_type": "code",
   "execution_count": 103,
   "id": "63070374-9d5a-44b3-9859-470f7d04bfcd",
   "metadata": {},
   "outputs": [],
   "source": [
    "s1.count += 1"
   ]
  },
  {
   "cell_type": "code",
   "execution_count": 104,
   "id": "e05e2511-8ec4-43db-a8e1-6503619bc7f1",
   "metadata": {},
   "outputs": [
    {
     "data": {
      "text/plain": [
       "State(name='steve', count=1)"
      ]
     },
     "execution_count": 104,
     "metadata": {},
     "output_type": "execute_result"
    }
   ],
   "source": [
    "s1"
   ]
  },
  {
   "cell_type": "code",
   "execution_count": 105,
   "id": "2b5940e5-e4f7-46ba-8a55-b59c473f2b51",
   "metadata": {},
   "outputs": [],
   "source": [
    "s1.age = 99"
   ]
  },
  {
   "cell_type": "code",
   "execution_count": 106,
   "id": "d32d7675-0194-4ca9-9c2b-9c751692bf13",
   "metadata": {},
   "outputs": [
    {
     "data": {
      "text/plain": [
       "State(name='steve', count=1)"
      ]
     },
     "execution_count": 106,
     "metadata": {},
     "output_type": "execute_result"
    }
   ],
   "source": [
    "s1"
   ]
  },
  {
   "cell_type": "code",
   "execution_count": 107,
   "id": "0e517acb-fcd9-4a59-9be2-e5438f749d68",
   "metadata": {},
   "outputs": [
    {
     "data": {
      "text/plain": [
       "99"
      ]
     },
     "execution_count": 107,
     "metadata": {},
     "output_type": "execute_result"
    }
   ],
   "source": [
    "s1.age"
   ]
  },
  {
   "cell_type": "code",
   "execution_count": 108,
   "id": "a53390df-d9c1-49a3-babc-2b66ce8c6f46",
   "metadata": {},
   "outputs": [],
   "source": [
    "@dataclasses.dataclass(slots=True)\n",
    "class StateSlots:\n",
    "    name: str\n",
    "    count: int = 0"
   ]
  },
  {
   "cell_type": "code",
   "execution_count": 109,
   "id": "282a008e-57ba-46ad-b126-356e3e9f4be6",
   "metadata": {},
   "outputs": [],
   "source": [
    "s2 = StateSlots(\"alice\")"
   ]
  },
  {
   "cell_type": "code",
   "execution_count": 110,
   "id": "ea5e513f-48d6-4107-95c2-1ccb1450ad56",
   "metadata": {},
   "outputs": [
    {
     "data": {
      "text/plain": [
       "StateSlots(name='alice', count=0)"
      ]
     },
     "execution_count": 110,
     "metadata": {},
     "output_type": "execute_result"
    }
   ],
   "source": [
    "s2"
   ]
  },
  {
   "cell_type": "code",
   "execution_count": 111,
   "id": "c8ffa926-aac5-40c6-8344-d2f7abb92768",
   "metadata": {},
   "outputs": [],
   "source": [
    "s2.count += 1"
   ]
  },
  {
   "cell_type": "code",
   "execution_count": 112,
   "id": "3af12500-7a00-4745-a2df-2c108f5d445b",
   "metadata": {},
   "outputs": [
    {
     "data": {
      "text/plain": [
       "StateSlots(name='alice', count=1)"
      ]
     },
     "execution_count": 112,
     "metadata": {},
     "output_type": "execute_result"
    }
   ],
   "source": [
    "s2"
   ]
  },
  {
   "cell_type": "code",
   "execution_count": 113,
   "id": "1811c30e-9f95-45c6-9ce4-0295fcd7109a",
   "metadata": {},
   "outputs": [
    {
     "ename": "AttributeError",
     "evalue": "'StateSlots' object has no attribute 'age'",
     "output_type": "error",
     "traceback": [
      "\u001b[0;31m---------------------------------------------------------------------------\u001b[0m",
      "\u001b[0;31mAttributeError\u001b[0m                            Traceback (most recent call last)",
      "Cell \u001b[0;32mIn[113], line 1\u001b[0m\n\u001b[0;32m----> 1\u001b[0m \u001b[43ms2\u001b[49m\u001b[38;5;241;43m.\u001b[39;49m\u001b[43mage\u001b[49m \u001b[38;5;241m=\u001b[39m \u001b[38;5;241m99\u001b[39m\n",
      "\u001b[0;31mAttributeError\u001b[0m: 'StateSlots' object has no attribute 'age'"
     ]
    }
   ],
   "source": [
    "s2.age = 99"
   ]
  },
  {
   "cell_type": "code",
   "execution_count": 114,
   "id": "754ac0de-c0a1-463e-ab39-8bd1d45539f3",
   "metadata": {},
   "outputs": [],
   "source": [
    "@dataclasses.dataclass(frozen=True)\n",
    "class StateFrozen:\n",
    "    name: str\n",
    "    count: int = 0"
   ]
  },
  {
   "cell_type": "code",
   "execution_count": 115,
   "id": "5cbbf030-fec5-4b26-9eb1-26ccb529213b",
   "metadata": {},
   "outputs": [],
   "source": [
    "s3 = StateFrozen(\"bob\")"
   ]
  },
  {
   "cell_type": "code",
   "execution_count": 116,
   "id": "44de4f7b-009e-4284-8471-5b36e2c7d1e7",
   "metadata": {},
   "outputs": [
    {
     "data": {
      "text/plain": [
       "StateFrozen(name='bob', count=0)"
      ]
     },
     "execution_count": 116,
     "metadata": {},
     "output_type": "execute_result"
    }
   ],
   "source": [
    "s3"
   ]
  },
  {
   "cell_type": "code",
   "execution_count": 117,
   "id": "41f04d0f-aa46-4a5a-9e9c-05bf60d09465",
   "metadata": {},
   "outputs": [
    {
     "ename": "FrozenInstanceError",
     "evalue": "cannot assign to field 'count'",
     "output_type": "error",
     "traceback": [
      "\u001b[0;31m---------------------------------------------------------------------------\u001b[0m",
      "\u001b[0;31mFrozenInstanceError\u001b[0m                       Traceback (most recent call last)",
      "Cell \u001b[0;32mIn[117], line 1\u001b[0m\n\u001b[0;32m----> 1\u001b[0m \u001b[43ms3\u001b[49m\u001b[38;5;241;43m.\u001b[39;49m\u001b[43mcount\u001b[49m \u001b[38;5;241m+\u001b[39m\u001b[38;5;241m=\u001b[39m \u001b[38;5;241m1\u001b[39m\n",
      "File \u001b[0;32m<string>:4\u001b[0m, in \u001b[0;36m__setattr__\u001b[0;34m(self, name, value)\u001b[0m\n",
      "\u001b[0;31mFrozenInstanceError\u001b[0m: cannot assign to field 'count'"
     ]
    }
   ],
   "source": [
    "s3.count += 1"
   ]
  },
  {
   "cell_type": "code",
   "execution_count": null,
   "id": "43badbd4-6119-4a28-905f-d974ca0615c4",
   "metadata": {},
   "outputs": [],
   "source": []
  },
  {
   "cell_type": "code",
   "execution_count": null,
   "id": "ce0a2d63-67e6-4c89-99b9-beaaae2f5e04",
   "metadata": {},
   "outputs": [],
   "source": []
  },
  {
   "cell_type": "code",
   "execution_count": null,
   "id": "ea8f5979-4c74-4044-99f4-ae6ceaba8c05",
   "metadata": {},
   "outputs": [],
   "source": []
  },
  {
   "cell_type": "code",
   "execution_count": 118,
   "id": "7af2b041-d720-4fec-8fbe-dfda2f08561c",
   "metadata": {},
   "outputs": [
    {
     "name": "stdout",
     "output_type": "stream",
     "text": [
      "alice State(count=3)\n",
      "bob State(count=1)\n",
      "steve State(count=1)\n"
     ]
    }
   ],
   "source": [
    "@dataclasses.dataclass\n",
    "class State:\n",
    "    count: int = 0\n",
    "\n",
    "\n",
    "names = [\"alice\", \"bob\", \"alice\", \"steve\", \"alice\"]\n",
    "\n",
    "income = collections.defaultdict(State)\n",
    "\n",
    "for name in names:\n",
    "    income[name].count += 1\n",
    "\n",
    "for k, v in income.items():\n",
    "    print(k, v)"
   ]
  },
  {
   "cell_type": "code",
   "execution_count": null,
   "id": "aa9a43aa-bfa0-428a-80bb-63c5c6975bd0",
   "metadata": {},
   "outputs": [],
   "source": []
  },
  {
   "cell_type": "code",
   "execution_count": 155,
   "id": "686dc377-8bb5-44e1-84f3-93b1754dc952",
   "metadata": {},
   "outputs": [
    {
     "name": "stdout",
     "output_type": "stream",
     "text": [
      "CPU times: user 749 ms, sys: 22.7 ms, total: 772 ms\n",
      "Wall time: 1.1 s\n"
     ]
    }
   ],
   "source": [
    "%%time\n",
    "\n",
    "def fib(n):\n",
    "    if n <= 1:\n",
    "        return 1\n",
    "    return fib(n - 1) + fib(n - 2)\n",
    "\n",
    "x = fib(33)"
   ]
  },
  {
   "cell_type": "code",
   "execution_count": 157,
   "id": "07501b28-b402-4be0-bc1e-0b838a75aab3",
   "metadata": {},
   "outputs": [],
   "source": [
    "from functools import cache, lru_cache"
   ]
  },
  {
   "cell_type": "code",
   "execution_count": 161,
   "id": "8c938a86-63f8-4dac-8bc1-e04b65327241",
   "metadata": {},
   "outputs": [
    {
     "name": "stdout",
     "output_type": "stream",
     "text": [
      "CPU times: user 57 μs, sys: 5 μs, total: 62 μs\n",
      "Wall time: 75.1 μs\n"
     ]
    }
   ],
   "source": [
    "%%time\n",
    "\n",
    "@lru_cache(maxsize=5)\n",
    "def fib(n):\n",
    "    if n <= 1:\n",
    "        return 1\n",
    "    return fib(n - 1) + fib(n - 2)\n",
    "\n",
    "x = fib(33)"
   ]
  },
  {
   "cell_type": "code",
   "execution_count": null,
   "id": "fe0a958c-e50c-4411-8fcb-879f689da280",
   "metadata": {},
   "outputs": [],
   "source": []
  }
 ],
 "metadata": {
  "kernelspec": {
   "display_name": "Python 3 (ipykernel)",
   "language": "python",
   "name": "python3"
  },
  "language_info": {
   "codemirror_mode": {
    "name": "ipython",
    "version": 3
   },
   "file_extension": ".py",
   "mimetype": "text/x-python",
   "name": "python",
   "nbconvert_exporter": "python",
   "pygments_lexer": "ipython3",
   "version": "3.12.5"
  }
 },
 "nbformat": 4,
 "nbformat_minor": 5
}
