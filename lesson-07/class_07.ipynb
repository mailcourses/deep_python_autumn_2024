{
 "cells": [
  {
   "cell_type": "markdown",
   "id": "90d1023e-7b14-42d8-9310-bcc87d206c2a",
   "metadata": {},
   "source": [
    "# client-server"
   ]
  },
  {
   "cell_type": "code",
   "execution_count": 1,
   "id": "b11d85d8-3d0c-4d0b-83b2-fded3628bf18",
   "metadata": {},
   "outputs": [],
   "source": [
    "import multiprocessing as mp\n",
    "import socket\n",
    "import time"
   ]
  },
  {
   "cell_type": "code",
   "execution_count": 2,
   "id": "f44d3b44-8cea-4ed6-aab3-ef3f993de260",
   "metadata": {},
   "outputs": [
    {
     "data": {
      "text/plain": [
       "(['spawn', 'fork', 'forkserver'], 'spawn')"
      ]
     },
     "execution_count": 2,
     "metadata": {},
     "output_type": "execute_result"
    }
   ],
   "source": [
    "mp.get_all_start_methods(), mp.get_start_method()"
   ]
  },
  {
   "cell_type": "code",
   "execution_count": 3,
   "id": "023d21a2-d618-45cb-bfae-0892be4890a1",
   "metadata": {},
   "outputs": [],
   "source": [
    "ctx = mp.get_context(\"fork\")"
   ]
  },
  {
   "cell_type": "code",
   "execution_count": 5,
   "id": "e2b60054-00df-4e41-9465-dd2a12decfd3",
   "metadata": {},
   "outputs": [
    {
     "name": "stdout",
     "output_type": "stream",
     "text": [
      "start server\n",
      "start client\n",
      "client sent dataaccept client  властелин колец('127.0.0.1', 60509)\n",
      " <socket.socket fd=45, family=2, type=1, proto=0, laddr=('127.0.0.1', 20000), raddr=('127.0.0.1', 60509)>\n",
      "server recv data властелин колец\n",
      "server sent all!client recv data \n",
      "ВЛАСТЕЛИН КОЛЕЦ\n",
      "accept client ('127.0.0.1', 60551) <socket.socket fd=45, family=2, type=1, proto=0, laddr=('127.0.0.1', 20000), raddr=('127.0.0.1', 60551)>\n",
      "server recv data матрица\n",
      "server sent all!\n",
      "accept client ('127.0.0.1', 60584) <socket.socket fd=45, family=2, type=1, proto=0, laddr=('127.0.0.1', 20000), raddr=('127.0.0.1', 60584)>\n",
      "server recv data матрица\n",
      "server sent all!\n",
      "accept client ('127.0.0.1', 60610) <socket.socket fd=45, family=2, type=1, proto=0, laddr=('127.0.0.1', 20000), raddr=('127.0.0.1', 60610)>\n",
      "server recv data матрица\n",
      "server sent all!\n",
      "accept client ('127.0.0.1', 60655) <socket.socket fd=45, family=2, type=1, proto=0, laddr=('127.0.0.1', 20000), raddr=('127.0.0.1', 60655)>\n",
      "server recv data last of us\n",
      "server sent all!\n"
     ]
    }
   ],
   "source": [
    "def client(data):\n",
    "    print(\"start client\")\n",
    "    with socket.socket(socket.AF_INET, socket.SOCK_STREAM) as sock:\n",
    "        sock.connect((\"localhost\", 20_000))\n",
    "        sock.sendall(data.encode())\n",
    "        print(\"client sent data\", data)\n",
    "\n",
    "        data = sock.recv(1024)\n",
    "        print(\"client recv data\", data.decode())\n",
    "\n",
    "\n",
    "def server():\n",
    "    print(\"start server\")\n",
    "    with socket.socket(socket.AF_INET, socket.SOCK_STREAM) as sock:\n",
    "        sock.setsockopt(socket.SOL_SOCKET, socket.SO_REUSEPORT, 1)\n",
    "\n",
    "        sock.bind((\"localhost\", 20_000))\n",
    "        sock.listen(5)\n",
    "\n",
    "        i = 0\n",
    "        while i < 5:\n",
    "            i += 1\n",
    "\n",
    "            client_sock, addr = sock.accept()\n",
    "            print(\"accept client\", addr, client_sock)\n",
    "    \n",
    "            with client_sock:\n",
    "                data = client_sock.recv(1024)\n",
    "                data = data.decode()\n",
    "                print(\"server recv data\", data)\n",
    "                client_sock.sendall(data.upper().encode())\n",
    "                print(\"server sent all!\")\n",
    "\n",
    "\n",
    "client_proc = ctx.Process(target=client, args=(\"властелин колец\",))\n",
    "server_proc = ctx.Process(target=server)\n",
    "\n",
    "server_proc.start()\n",
    "time.sleep(1)\n",
    "client_proc.start()\n",
    "\n",
    "client_proc.join()\n",
    "# server_proc.join()"
   ]
  },
  {
   "cell_type": "code",
   "execution_count": 6,
   "id": "ca506c8a-100e-45f5-a669-6e9d20a7c994",
   "metadata": {},
   "outputs": [
    {
     "name": "stdout",
     "output_type": "stream",
     "text": [
      "start client\n",
      "client sent data матрица\n",
      "client recv data МАТРИЦА\n"
     ]
    }
   ],
   "source": [
    "client_proc = ctx.Process(target=client, args=(\"матрица\",))\n",
    "client_proc.start()\n",
    "client_proc.join()"
   ]
  },
  {
   "cell_type": "code",
   "execution_count": 7,
   "id": "960b858f-cdf5-45bd-801e-ab58dbc51bfb",
   "metadata": {},
   "outputs": [
    {
     "name": "stdout",
     "output_type": "stream",
     "text": [
      "start client\n",
      "client sent data матрица\n",
      "client recv data МАТРИЦА\n"
     ]
    }
   ],
   "source": [
    "client_proc = ctx.Process(target=client, args=(\"матрица\",))\n",
    "client_proc.start()\n",
    "client_proc.join()"
   ]
  },
  {
   "cell_type": "code",
   "execution_count": 8,
   "id": "87f52737-85f3-4a02-9c3c-2cad190b0b76",
   "metadata": {},
   "outputs": [
    {
     "name": "stdout",
     "output_type": "stream",
     "text": [
      "start client\n",
      "client sent data матрица\n",
      "client recv data МАТРИЦА\n"
     ]
    }
   ],
   "source": [
    "client_proc = ctx.Process(target=client, args=(\"матрица\",))\n",
    "client_proc.start()\n",
    "client_proc.join()"
   ]
  },
  {
   "cell_type": "code",
   "execution_count": 9,
   "id": "444214fe-531f-4a9e-8061-3e79a0fe157a",
   "metadata": {},
   "outputs": [
    {
     "name": "stdout",
     "output_type": "stream",
     "text": [
      "start client\n",
      "client sent data last of us\n",
      "client recv data LAST OF US\n"
     ]
    }
   ],
   "source": [
    "client_proc = ctx.Process(target=client, args=(\"last of us\",))\n",
    "client_proc.start()\n",
    "client_proc.join()"
   ]
  },
  {
   "cell_type": "code",
   "execution_count": null,
   "id": "1a73441c-e168-4df9-9657-9f02eb2837e6",
   "metadata": {},
   "outputs": [],
   "source": [
    "client_proc = ctx.Process(target=client, args=(\"last of us\",))\n",
    "client_proc.start()\n",
    "client_proc.join()"
   ]
  },
  {
   "cell_type": "code",
   "execution_count": 10,
   "id": "782c385e-1784-477b-b91c-617f381dcc29",
   "metadata": {},
   "outputs": [
    {
     "name": "stdout",
     "output_type": "stream",
     "text": [
      "start client\n"
     ]
    },
    {
     "name": "stderr",
     "output_type": "stream",
     "text": [
      "Process ForkProcess-9:\n",
      "Traceback (most recent call last):\n",
      "  File \"/Library/Frameworks/Python.framework/Versions/3.12/lib/python3.12/multiprocessing/process.py\", line 314, in _bootstrap\n",
      "    self.run()\n",
      "  File \"/Library/Frameworks/Python.framework/Versions/3.12/lib/python3.12/multiprocessing/process.py\", line 108, in run\n",
      "    self._target(*self._args, **self._kwargs)\n",
      "  File \"/var/folders/c1/9wdb7dps2x332c6l1y2hrqkh0000gp/T/ipykernel_21906/3857572068.py\", line 4, in client\n",
      "    sock.connect((\"localhost\", 20_000))\n",
      "ConnectionRefusedError: [Errno 61] Connection refused\n"
     ]
    }
   ],
   "source": [
    "client_proc = ctx.Process(target=client, args=(\"last of us\",))\n",
    "client_proc.start()\n",
    "client_proc.join()"
   ]
  },
  {
   "cell_type": "code",
   "execution_count": null,
   "id": "abfcc072-689c-4476-a102-454ee3642487",
   "metadata": {},
   "outputs": [],
   "source": []
  },
  {
   "cell_type": "code",
   "execution_count": null,
   "id": "5771662f-27da-4461-a036-89da63a002cb",
   "metadata": {},
   "outputs": [],
   "source": []
  },
  {
   "cell_type": "code",
   "execution_count": null,
   "id": "d1728122-39fb-44c7-af72-928c1e91a363",
   "metadata": {},
   "outputs": [],
   "source": []
  },
  {
   "cell_type": "code",
   "execution_count": null,
   "id": "693d7c72-193f-4e20-bee9-ba41202fa956",
   "metadata": {},
   "outputs": [],
   "source": []
  },
  {
   "cell_type": "markdown",
   "id": "78d4216c-c6df-4b77-a0cc-f0d9e497c09f",
   "metadata": {},
   "source": [
    "# generator-coroutine"
   ]
  },
  {
   "cell_type": "code",
   "execution_count": 12,
   "id": "5dbae5c0-bc49-4c9d-ad3b-ffc6b8df3d53",
   "metadata": {},
   "outputs": [],
   "source": [
    "def grep_gen(pattern):\n",
    "    print(\"start grep for\", pattern)\n",
    "    i = 0\n",
    "    while True:\n",
    "        s = yield i\n",
    "        i += 1\n",
    "        if pattern in s:\n",
    "            print(\"found!\", s)\n",
    "        else:\n",
    "            print(\"no %s in %s\" % (pattern, s))"
   ]
  },
  {
   "cell_type": "code",
   "execution_count": 13,
   "id": "ca55f4da-5989-4d41-9239-0ff7632d8229",
   "metadata": {},
   "outputs": [],
   "source": [
    "grep = grep_gen(\"abc\")"
   ]
  },
  {
   "cell_type": "code",
   "execution_count": 14,
   "id": "aa541f05-3260-4810-bfc9-15297c809961",
   "metadata": {},
   "outputs": [
    {
     "data": {
      "text/plain": [
       "<generator object grep_gen at 0x1096c56c0>"
      ]
     },
     "execution_count": 14,
     "metadata": {},
     "output_type": "execute_result"
    }
   ],
   "source": [
    "grep"
   ]
  },
  {
   "cell_type": "code",
   "execution_count": 15,
   "id": "5b549ffa-00c3-48b7-98e5-e2e88751416b",
   "metadata": {},
   "outputs": [
    {
     "name": "stdout",
     "output_type": "stream",
     "text": [
      "start grep for abc\n"
     ]
    },
    {
     "data": {
      "text/plain": [
       "0"
      ]
     },
     "execution_count": 15,
     "metadata": {},
     "output_type": "execute_result"
    }
   ],
   "source": [
    "next(grep)"
   ]
  },
  {
   "cell_type": "code",
   "execution_count": 16,
   "id": "48579106-c1e1-4be0-af69-dc6bf157da45",
   "metadata": {},
   "outputs": [
    {
     "name": "stdout",
     "output_type": "stream",
     "text": [
      "found! abc\n"
     ]
    },
    {
     "data": {
      "text/plain": [
       "1"
      ]
     },
     "execution_count": 16,
     "metadata": {},
     "output_type": "execute_result"
    }
   ],
   "source": [
    "grep.send(\"abc\")"
   ]
  },
  {
   "cell_type": "code",
   "execution_count": 17,
   "id": "3ffe246e-c6f0-445a-bb02-760cd8bfbabc",
   "metadata": {},
   "outputs": [
    {
     "name": "stdout",
     "output_type": "stream",
     "text": [
      "found! abcd\n"
     ]
    },
    {
     "data": {
      "text/plain": [
       "2"
      ]
     },
     "execution_count": 17,
     "metadata": {},
     "output_type": "execute_result"
    }
   ],
   "source": [
    "grep.send(\"abcd\")"
   ]
  },
  {
   "cell_type": "code",
   "execution_count": 18,
   "id": "cab56f8b-023b-4119-85b1-1754f2d155eb",
   "metadata": {},
   "outputs": [
    {
     "name": "stdout",
     "output_type": "stream",
     "text": [
      "no abc in bcd\n"
     ]
    },
    {
     "data": {
      "text/plain": [
       "3"
      ]
     },
     "execution_count": 18,
     "metadata": {},
     "output_type": "execute_result"
    }
   ],
   "source": [
    "grep.send(\"bcd\")"
   ]
  },
  {
   "cell_type": "code",
   "execution_count": 19,
   "id": "4c6a0eea-e001-456b-9ba4-0f3deba8a7f2",
   "metadata": {},
   "outputs": [
    {
     "ename": "TypeError",
     "evalue": "argument of type 'NoneType' is not iterable",
     "output_type": "error",
     "traceback": [
      "\u001b[0;31m---------------------------------------------------------------------------\u001b[0m",
      "\u001b[0;31mTypeError\u001b[0m                                 Traceback (most recent call last)",
      "Cell \u001b[0;32mIn[19], line 1\u001b[0m\n\u001b[0;32m----> 1\u001b[0m \u001b[38;5;28;43mnext\u001b[39;49m\u001b[43m(\u001b[49m\u001b[43mgrep\u001b[49m\u001b[43m)\u001b[49m\n",
      "Cell \u001b[0;32mIn[12], line 7\u001b[0m, in \u001b[0;36mgrep_gen\u001b[0;34m(pattern)\u001b[0m\n\u001b[1;32m      5\u001b[0m s \u001b[38;5;241m=\u001b[39m \u001b[38;5;28;01myield\u001b[39;00m i\n\u001b[1;32m      6\u001b[0m i \u001b[38;5;241m+\u001b[39m\u001b[38;5;241m=\u001b[39m \u001b[38;5;241m1\u001b[39m\n\u001b[0;32m----> 7\u001b[0m \u001b[38;5;28;01mif\u001b[39;00m \u001b[43mpattern\u001b[49m\u001b[43m \u001b[49m\u001b[38;5;129;43;01min\u001b[39;49;00m\u001b[43m \u001b[49m\u001b[43ms\u001b[49m:\n\u001b[1;32m      8\u001b[0m     \u001b[38;5;28mprint\u001b[39m(\u001b[38;5;124m\"\u001b[39m\u001b[38;5;124mfound!\u001b[39m\u001b[38;5;124m\"\u001b[39m, s)\n\u001b[1;32m      9\u001b[0m \u001b[38;5;28;01melse\u001b[39;00m:\n",
      "\u001b[0;31mTypeError\u001b[0m: argument of type 'NoneType' is not iterable"
     ]
    }
   ],
   "source": [
    "next(grep)"
   ]
  },
  {
   "cell_type": "code",
   "execution_count": 20,
   "id": "2adfd5b2-7ffa-41a6-9c1c-9797f43ac392",
   "metadata": {},
   "outputs": [
    {
     "ename": "StopIteration",
     "evalue": "",
     "output_type": "error",
     "traceback": [
      "\u001b[0;31m---------------------------------------------------------------------------\u001b[0m",
      "\u001b[0;31mStopIteration\u001b[0m                             Traceback (most recent call last)",
      "Cell \u001b[0;32mIn[20], line 1\u001b[0m\n\u001b[0;32m----> 1\u001b[0m \u001b[43mgrep\u001b[49m\u001b[38;5;241;43m.\u001b[39;49m\u001b[43msend\u001b[49m\u001b[43m(\u001b[49m\u001b[38;5;124;43m\"\u001b[39;49m\u001b[38;5;124;43mbcd\u001b[39;49m\u001b[38;5;124;43m\"\u001b[39;49m\u001b[43m)\u001b[49m\n",
      "\u001b[0;31mStopIteration\u001b[0m: "
     ]
    }
   ],
   "source": [
    "grep.send(\"bcd\")"
   ]
  },
  {
   "cell_type": "code",
   "execution_count": 21,
   "id": "ac229f2e-0f8a-4c18-ad9d-af28f66514e6",
   "metadata": {},
   "outputs": [],
   "source": [
    "grep = grep_gen(\"abcd\")"
   ]
  },
  {
   "cell_type": "code",
   "execution_count": 22,
   "id": "26154e2b-f23c-4257-b4ad-3ccd60e85aa5",
   "metadata": {},
   "outputs": [
    {
     "ename": "TypeError",
     "evalue": "can't send non-None value to a just-started generator",
     "output_type": "error",
     "traceback": [
      "\u001b[0;31m---------------------------------------------------------------------------\u001b[0m",
      "\u001b[0;31mTypeError\u001b[0m                                 Traceback (most recent call last)",
      "Cell \u001b[0;32mIn[22], line 1\u001b[0m\n\u001b[0;32m----> 1\u001b[0m \u001b[43mgrep\u001b[49m\u001b[38;5;241;43m.\u001b[39;49m\u001b[43msend\u001b[49m\u001b[43m(\u001b[49m\u001b[38;5;124;43m\"\u001b[39;49m\u001b[38;5;124;43mabdwkdj\u001b[39;49m\u001b[38;5;124;43m\"\u001b[39;49m\u001b[43m)\u001b[49m\n",
      "\u001b[0;31mTypeError\u001b[0m: can't send non-None value to a just-started generator"
     ]
    }
   ],
   "source": [
    "grep.send(\"abdwkdj\")"
   ]
  },
  {
   "cell_type": "code",
   "execution_count": 23,
   "id": "6531c02f-2a1b-4f14-a333-e462cd29aee1",
   "metadata": {},
   "outputs": [
    {
     "name": "stdout",
     "output_type": "stream",
     "text": [
      "start grep for abcd\n"
     ]
    },
    {
     "data": {
      "text/plain": [
       "0"
      ]
     },
     "execution_count": 23,
     "metadata": {},
     "output_type": "execute_result"
    }
   ],
   "source": [
    "next(grep)"
   ]
  },
  {
   "cell_type": "code",
   "execution_count": 24,
   "id": "33b6b35b-daa0-4c4f-9492-84cb6169d51b",
   "metadata": {},
   "outputs": [
    {
     "name": "stdout",
     "output_type": "stream",
     "text": [
      "no abcd in abdwkdj\n"
     ]
    },
    {
     "data": {
      "text/plain": [
       "1"
      ]
     },
     "execution_count": 24,
     "metadata": {},
     "output_type": "execute_result"
    }
   ],
   "source": [
    "grep.send(\"abdwkdj\")"
   ]
  },
  {
   "cell_type": "code",
   "execution_count": 25,
   "id": "6f1563a2-eaff-46b4-9923-ddb7e3abe4a7",
   "metadata": {},
   "outputs": [],
   "source": [
    "grep = grep_gen(\"abcd\")"
   ]
  },
  {
   "cell_type": "code",
   "execution_count": 26,
   "id": "a05c5d7d-748e-469c-a686-4a1cc609ba9c",
   "metadata": {},
   "outputs": [
    {
     "name": "stdout",
     "output_type": "stream",
     "text": [
      "start grep for abcd\n"
     ]
    },
    {
     "data": {
      "text/plain": [
       "0"
      ]
     },
     "execution_count": 26,
     "metadata": {},
     "output_type": "execute_result"
    }
   ],
   "source": [
    "grep.send(None)"
   ]
  },
  {
   "cell_type": "code",
   "execution_count": 27,
   "id": "c237d4d0-3b92-4674-8be3-50f9b4ff20de",
   "metadata": {},
   "outputs": [
    {
     "name": "stdout",
     "output_type": "stream",
     "text": [
      "no abcd in abdwkdj\n"
     ]
    },
    {
     "data": {
      "text/plain": [
       "1"
      ]
     },
     "execution_count": 27,
     "metadata": {},
     "output_type": "execute_result"
    }
   ],
   "source": [
    "grep.send(\"abdwkdj\")"
   ]
  },
  {
   "cell_type": "code",
   "execution_count": 28,
   "id": "66518b6d-af9b-44d5-9753-75cdebeccec8",
   "metadata": {},
   "outputs": [
    {
     "ename": "Exception",
     "evalue": "wrong",
     "output_type": "error",
     "traceback": [
      "\u001b[0;31m---------------------------------------------------------------------------\u001b[0m",
      "\u001b[0;31mException\u001b[0m                                 Traceback (most recent call last)",
      "Cell \u001b[0;32mIn[28], line 1\u001b[0m\n\u001b[0;32m----> 1\u001b[0m \u001b[43mgrep\u001b[49m\u001b[38;5;241;43m.\u001b[39;49m\u001b[43mthrow\u001b[49m\u001b[43m(\u001b[49m\u001b[38;5;167;43;01mException\u001b[39;49;00m\u001b[43m(\u001b[49m\u001b[38;5;124;43m\"\u001b[39;49m\u001b[38;5;124;43mwrong\u001b[39;49m\u001b[38;5;124;43m\"\u001b[39;49m\u001b[43m)\u001b[49m\u001b[43m)\u001b[49m\n",
      "Cell \u001b[0;32mIn[12], line 5\u001b[0m, in \u001b[0;36mgrep_gen\u001b[0;34m(pattern)\u001b[0m\n\u001b[1;32m      3\u001b[0m i \u001b[38;5;241m=\u001b[39m \u001b[38;5;241m0\u001b[39m\n\u001b[1;32m      4\u001b[0m \u001b[38;5;28;01mwhile\u001b[39;00m \u001b[38;5;28;01mTrue\u001b[39;00m:\n\u001b[0;32m----> 5\u001b[0m     s \u001b[38;5;241m=\u001b[39m \u001b[38;5;28;01myield\u001b[39;00m i\n\u001b[1;32m      6\u001b[0m     i \u001b[38;5;241m+\u001b[39m\u001b[38;5;241m=\u001b[39m \u001b[38;5;241m1\u001b[39m\n\u001b[1;32m      7\u001b[0m     \u001b[38;5;28;01mif\u001b[39;00m pattern \u001b[38;5;129;01min\u001b[39;00m s:\n",
      "\u001b[0;31mException\u001b[0m: wrong"
     ]
    }
   ],
   "source": [
    "grep.throw(Exception(\"wrong\"))"
   ]
  },
  {
   "cell_type": "code",
   "execution_count": null,
   "id": "b4dc0d46-a997-4fd8-b209-17b10b8a3ad7",
   "metadata": {},
   "outputs": [],
   "source": []
  },
  {
   "cell_type": "code",
   "execution_count": null,
   "id": "c5881c7a-69b2-4a3f-b9d1-80986612cef5",
   "metadata": {},
   "outputs": [],
   "source": []
  },
  {
   "cell_type": "code",
   "execution_count": null,
   "id": "ed9d5482-24e2-4ec1-ac98-bcc3ec87cdc2",
   "metadata": {},
   "outputs": [],
   "source": []
  },
  {
   "cell_type": "code",
   "execution_count": 29,
   "id": "a14e049c-dce3-4bc6-b7f8-3a14d8a9f0ee",
   "metadata": {},
   "outputs": [
    {
     "name": "stdout",
     "output_type": "stream",
     "text": [
      "1: 0\n",
      "2: 1\n",
      "3: 11\n",
      "4: 21\n"
     ]
    }
   ],
   "source": [
    "def counter(start, stop, step):\n",
    "    while start < stop:\n",
    "        step_cand = yield start\n",
    "        \n",
    "        if step_cand is not None:\n",
    "            step = step_cand\n",
    "\n",
    "        start += step\n",
    "\n",
    "\n",
    "cnt = counter(0, 100, 1)\n",
    "print(\"1:\", next(cnt))\n",
    "print(\"2:\", next(cnt))\n",
    "\n",
    "print(\"3:\", cnt.send(10))\n",
    "print(\"4:\", next(cnt))"
   ]
  },
  {
   "cell_type": "code",
   "execution_count": 30,
   "id": "e0cf8d42-f2b4-4c55-922b-ba47641db22f",
   "metadata": {},
   "outputs": [
    {
     "data": {
      "text/plain": [
       "31"
      ]
     },
     "execution_count": 30,
     "metadata": {},
     "output_type": "execute_result"
    }
   ],
   "source": [
    "next(cnt)"
   ]
  },
  {
   "cell_type": "code",
   "execution_count": 31,
   "id": "3bde912c-1355-4763-81ed-31228f116a23",
   "metadata": {},
   "outputs": [
    {
     "data": {
      "text/plain": [
       "35"
      ]
     },
     "execution_count": 31,
     "metadata": {},
     "output_type": "execute_result"
    }
   ],
   "source": [
    "cnt.send(4)"
   ]
  },
  {
   "cell_type": "code",
   "execution_count": 32,
   "id": "7c324d05-2823-4289-8d35-fcc6d0569401",
   "metadata": {},
   "outputs": [
    {
     "data": {
      "text/plain": [
       "39"
      ]
     },
     "execution_count": 32,
     "metadata": {},
     "output_type": "execute_result"
    }
   ],
   "source": [
    "next(cnt)"
   ]
  },
  {
   "cell_type": "code",
   "execution_count": 33,
   "id": "b07efd73-55d0-4aea-afc5-530acae1b247",
   "metadata": {},
   "outputs": [
    {
     "data": {
      "text/plain": [
       "43"
      ]
     },
     "execution_count": 33,
     "metadata": {},
     "output_type": "execute_result"
    }
   ],
   "source": [
    "next(cnt)"
   ]
  },
  {
   "cell_type": "code",
   "execution_count": 34,
   "id": "565c652d-4d7d-4c8d-a1f2-99e32152a7cb",
   "metadata": {},
   "outputs": [
    {
     "data": {
      "text/plain": [
       "33"
      ]
     },
     "execution_count": 34,
     "metadata": {},
     "output_type": "execute_result"
    }
   ],
   "source": [
    "cnt.send(-10)"
   ]
  },
  {
   "cell_type": "code",
   "execution_count": 35,
   "id": "64c9a46b-7392-418a-b674-e0a0d9817c5d",
   "metadata": {},
   "outputs": [
    {
     "data": {
      "text/plain": [
       "23"
      ]
     },
     "execution_count": 35,
     "metadata": {},
     "output_type": "execute_result"
    }
   ],
   "source": [
    "next(cnt)"
   ]
  },
  {
   "cell_type": "code",
   "execution_count": 36,
   "id": "bc24a4ab-6b40-4247-9455-ef34b3f376be",
   "metadata": {},
   "outputs": [
    {
     "data": {
      "text/plain": [
       "13"
      ]
     },
     "execution_count": 36,
     "metadata": {},
     "output_type": "execute_result"
    }
   ],
   "source": [
    "next(cnt)"
   ]
  },
  {
   "cell_type": "code",
   "execution_count": 37,
   "id": "13322ffc-9871-486a-a850-1e1ca62667e0",
   "metadata": {},
   "outputs": [
    {
     "data": {
      "text/plain": [
       "3"
      ]
     },
     "execution_count": 37,
     "metadata": {},
     "output_type": "execute_result"
    }
   ],
   "source": [
    "next(cnt)"
   ]
  },
  {
   "cell_type": "code",
   "execution_count": 38,
   "id": "f95370af-3e5c-41de-8b34-43bcdc7bd21a",
   "metadata": {},
   "outputs": [
    {
     "data": {
      "text/plain": [
       "-7"
      ]
     },
     "execution_count": 38,
     "metadata": {},
     "output_type": "execute_result"
    }
   ],
   "source": [
    "next(cnt)"
   ]
  },
  {
   "cell_type": "code",
   "execution_count": 39,
   "id": "741d8308-96e4-458b-aa08-66bcc2617d1e",
   "metadata": {},
   "outputs": [
    {
     "data": {
      "text/plain": [
       "23"
      ]
     },
     "execution_count": 39,
     "metadata": {},
     "output_type": "execute_result"
    }
   ],
   "source": [
    "cnt.send(30)"
   ]
  },
  {
   "cell_type": "code",
   "execution_count": 40,
   "id": "ad085f8f-cd68-4e02-8da7-e87e52938c3e",
   "metadata": {},
   "outputs": [
    {
     "data": {
      "text/plain": [
       "53"
      ]
     },
     "execution_count": 40,
     "metadata": {},
     "output_type": "execute_result"
    }
   ],
   "source": [
    "next(cnt)"
   ]
  },
  {
   "cell_type": "code",
   "execution_count": 41,
   "id": "80be684a-0956-4df6-8f56-5bfa49a9009d",
   "metadata": {},
   "outputs": [
    {
     "data": {
      "text/plain": [
       "83"
      ]
     },
     "execution_count": 41,
     "metadata": {},
     "output_type": "execute_result"
    }
   ],
   "source": [
    "next(cnt)"
   ]
  },
  {
   "cell_type": "code",
   "execution_count": 42,
   "id": "e28ec071-196b-4c21-87c2-cfd503d6d21a",
   "metadata": {},
   "outputs": [
    {
     "ename": "StopIteration",
     "evalue": "",
     "output_type": "error",
     "traceback": [
      "\u001b[0;31m---------------------------------------------------------------------------\u001b[0m",
      "\u001b[0;31mStopIteration\u001b[0m                             Traceback (most recent call last)",
      "Cell \u001b[0;32mIn[42], line 1\u001b[0m\n\u001b[0;32m----> 1\u001b[0m \u001b[38;5;28;43mnext\u001b[39;49m\u001b[43m(\u001b[49m\u001b[43mcnt\u001b[49m\u001b[43m)\u001b[49m\n",
      "\u001b[0;31mStopIteration\u001b[0m: "
     ]
    }
   ],
   "source": [
    "next(cnt)"
   ]
  },
  {
   "cell_type": "code",
   "execution_count": null,
   "id": "7c179cdf-f292-4f80-94b0-be2b65824efe",
   "metadata": {},
   "outputs": [],
   "source": []
  },
  {
   "cell_type": "code",
   "execution_count": null,
   "id": "fee69c10-7ad2-4891-a960-81df6605b341",
   "metadata": {},
   "outputs": [],
   "source": []
  },
  {
   "cell_type": "code",
   "execution_count": null,
   "id": "bd68a1b9-dfae-4230-96ed-98db80001507",
   "metadata": {},
   "outputs": [],
   "source": []
  },
  {
   "cell_type": "code",
   "execution_count": 43,
   "id": "64edff5f-5a0b-4b08-ac89-ad0a6e711002",
   "metadata": {},
   "outputs": [],
   "source": [
    "import asyncio"
   ]
  },
  {
   "cell_type": "code",
   "execution_count": 44,
   "id": "2e7a079e-4657-49d5-bf69-ec18c4119e92",
   "metadata": {},
   "outputs": [],
   "source": [
    "#asyncio.run()"
   ]
  },
  {
   "cell_type": "code",
   "execution_count": 45,
   "id": "ccf747cc-8216-41e9-8cd0-061625812773",
   "metadata": {},
   "outputs": [],
   "source": [
    "async def say_after(delay, what):\n",
    "    await asyncio.sleep(delay)\n",
    "    print(what)\n",
    "\n",
    "\n",
    "async def main():\n",
    "    print(f\"started at {time.strftime('%X')}\")\n",
    "    await say_after(1, 'hello')\n",
    "    await say_after(2, 'world')\n",
    "    print(f\"finished at {time.strftime('%X')}\")"
   ]
  },
  {
   "cell_type": "code",
   "execution_count": 46,
   "id": "bf789f12-3f9b-4fd5-bed8-cbbff77f9db6",
   "metadata": {},
   "outputs": [
    {
     "ename": "SyntaxError",
     "evalue": "'await' outside async function (1310051546.py, line 2)",
     "output_type": "error",
     "traceback": [
      "\u001b[0;36m  Cell \u001b[0;32mIn[46], line 2\u001b[0;36m\u001b[0m\n\u001b[0;31m    await main()\u001b[0m\n\u001b[0m    ^\u001b[0m\n\u001b[0;31mSyntaxError\u001b[0m\u001b[0;31m:\u001b[0m 'await' outside async function\n"
     ]
    }
   ],
   "source": [
    "def syc_fn():\n",
    "    await main()"
   ]
  },
  {
   "cell_type": "code",
   "execution_count": 49,
   "id": "f74fb3ff-8a6c-445e-8c2f-28e55ef853ae",
   "metadata": {},
   "outputs": [
    {
     "name": "stdout",
     "output_type": "stream",
     "text": [
      "started at 20:37:24\n",
      "hello\n",
      "world\n",
      "finished at 20:37:27\n",
      "tt 3.0060980319976807\n"
     ]
    }
   ],
   "source": [
    "t1 = time.time()\n",
    "\n",
    "await main()\n",
    "\n",
    "t2 = time.time()\n",
    "print(\"tt\", t2 - t1)"
   ]
  },
  {
   "cell_type": "code",
   "execution_count": null,
   "id": "9cd12c82-8d63-44d4-8978-f0c612562ef4",
   "metadata": {},
   "outputs": [],
   "source": []
  },
  {
   "cell_type": "code",
   "execution_count": 50,
   "id": "030578b0-84fd-49ae-a779-f9b572b70c78",
   "metadata": {},
   "outputs": [
    {
     "name": "stdout",
     "output_type": "stream",
     "text": [
      "started at 20:39:40\n",
      "world\n",
      "hello\n",
      "finished at 20:39:43\n",
      "tt 3.020059823989868\n"
     ]
    }
   ],
   "source": [
    "async def say_after(delay, what):\n",
    "    await asyncio.sleep(delay)\n",
    "    print(what)\n",
    "\n",
    "\n",
    "async def main():\n",
    "    print(f\"started at {time.strftime('%X')}\")\n",
    "    say1 = say_after(1, 'hello')\n",
    "    await say_after(2, 'world')\n",
    "    await say1\n",
    "    print(f\"finished at {time.strftime('%X')}\")\n",
    "\n",
    "\n",
    "t1 = time.time()\n",
    "\n",
    "await main()\n",
    "\n",
    "t2 = time.time()\n",
    "print(\"tt\", t2 - t1)"
   ]
  },
  {
   "cell_type": "code",
   "execution_count": null,
   "id": "440d8672-3907-41a5-a6b3-5ad99d6ab293",
   "metadata": {},
   "outputs": [],
   "source": []
  },
  {
   "cell_type": "code",
   "execution_count": null,
   "id": "ff5e0b0f-a237-48a5-9dc2-e43a414b32a4",
   "metadata": {},
   "outputs": [],
   "source": []
  },
  {
   "cell_type": "code",
   "execution_count": null,
   "id": "23599113-5bbf-4f1b-9e0f-229dadeac8a7",
   "metadata": {},
   "outputs": [],
   "source": []
  },
  {
   "cell_type": "code",
   "execution_count": 51,
   "id": "5ea24014-eb93-4d3a-82dc-139e61bdc3c2",
   "metadata": {},
   "outputs": [
    {
     "name": "stdout",
     "output_type": "stream",
     "text": [
      "started at 20:41:44\n",
      "hello\n",
      "world\n",
      "finished at 20:41:46\n",
      "tt 2.002563953399658\n"
     ]
    }
   ],
   "source": [
    "async def say_after(delay, what):\n",
    "    await asyncio.sleep(delay)\n",
    "    print(what)\n",
    "\n",
    "\n",
    "async def main():\n",
    "    print(f\"started at {time.strftime('%X')}\")\n",
    "    say1 = asyncio.create_task(say_after(1, 'hello'))\n",
    "    await say_after(2, 'world')\n",
    "    await say1\n",
    "    print(f\"finished at {time.strftime('%X')}\")\n",
    "\n",
    "\n",
    "t1 = time.time()\n",
    "\n",
    "await main()\n",
    "\n",
    "t2 = time.time()\n",
    "print(\"tt\", t2 - t1)"
   ]
  },
  {
   "cell_type": "code",
   "execution_count": 52,
   "id": "bd0dd853-026b-490d-8f4a-be726db57df8",
   "metadata": {},
   "outputs": [
    {
     "name": "stdout",
     "output_type": "stream",
     "text": [
      "started at 20:43:12\n",
      "hello\n",
      "world\n",
      "finished at 20:43:14\n",
      "tt 2.0017428398132324\n"
     ]
    }
   ],
   "source": [
    "async def say_after(delay, what):\n",
    "    await asyncio.sleep(delay)\n",
    "    print(what)\n",
    "\n",
    "\n",
    "async def main():\n",
    "    print(f\"started at {time.strftime('%X')}\")\n",
    "    await asyncio.gather(\n",
    "        say_after(1, 'hello'),\n",
    "        say_after(2, 'world'),\n",
    "    )\n",
    "    print(f\"finished at {time.strftime('%X')}\")\n",
    "\n",
    "\n",
    "t1 = time.time()\n",
    "\n",
    "await main()\n",
    "\n",
    "t2 = time.time()\n",
    "print(\"tt\", t2 - t1)"
   ]
  },
  {
   "cell_type": "code",
   "execution_count": null,
   "id": "4c448955-c677-43b6-a697-62d17ed2e240",
   "metadata": {},
   "outputs": [],
   "source": []
  },
  {
   "cell_type": "code",
   "execution_count": null,
   "id": "df747f3a-5795-4a72-a9e3-09a0c12a7c89",
   "metadata": {},
   "outputs": [],
   "source": []
  },
  {
   "cell_type": "code",
   "execution_count": 56,
   "id": "45ae82b4-f994-40e2-ae1a-a72abb620aa7",
   "metadata": {},
   "outputs": [],
   "source": [
    "async def countdown(n):\n",
    "    for i in range(n):\n",
    "        yield i\n",
    "        print(f\"yield {i=}\")\n",
    "        await asyncio.sleep(0)"
   ]
  },
  {
   "cell_type": "code",
   "execution_count": 57,
   "id": "30a9920f-1c2a-4191-89de-f6481ae7b2e0",
   "metadata": {},
   "outputs": [
    {
     "name": "stdout",
     "output_type": "stream",
     "text": [
      "0\n",
      "yield i=0\n",
      "1\n",
      "yield i=1\n",
      "2\n",
      "yield i=2\n",
      "3\n",
      "yield i=3\n",
      "4\n",
      "yield i=4\n"
     ]
    }
   ],
   "source": [
    "async for x in countdown(5):\n",
    "    print(x)"
   ]
  },
  {
   "cell_type": "code",
   "execution_count": null,
   "id": "dffb8fd5-58ac-4b57-9a98-d95766cc0d5b",
   "metadata": {},
   "outputs": [],
   "source": []
  },
  {
   "cell_type": "code",
   "execution_count": null,
   "id": "043e043d-2630-415f-a3b6-d1a9df8f49c3",
   "metadata": {},
   "outputs": [],
   "source": []
  },
  {
   "cell_type": "code",
   "execution_count": 59,
   "id": "8b177559-1695-49bb-84e8-635abe407aff",
   "metadata": {},
   "outputs": [],
   "source": [
    "import aiohttp"
   ]
  },
  {
   "cell_type": "code",
   "execution_count": 64,
   "id": "0adea1c2-a270-4623-a634-6770af642cf7",
   "metadata": {},
   "outputs": [
    {
     "name": "stdout",
     "output_type": "stream",
     "text": [
      "200\n",
      "0.3200948238372803\n"
     ]
    }
   ],
   "source": [
    "URL = \"https://docs.python.org/3/whatsnew/3.12.html\"\n",
    "\n",
    "async def fetch_url(url):\n",
    "    async with aiohttp.ClientSession() as session:\n",
    "        async with session.get(url) as resp:\n",
    "            print(resp.status)\n",
    "            data = await resp.text()\n",
    "            return data\n",
    "\n",
    "\n",
    "t1 = time.time()\n",
    "data = await fetch_url(URL)\n",
    "t2 = time.time()\n",
    "print(t2 - t1)"
   ]
  },
  {
   "cell_type": "code",
   "execution_count": null,
   "id": "1e0e9f64-7d15-4abd-9195-c408ff870c23",
   "metadata": {},
   "outputs": [],
   "source": []
  },
  {
   "cell_type": "code",
   "execution_count": 66,
   "id": "e555c0b4-9c58-4281-8722-40deb909845c",
   "metadata": {},
   "outputs": [
    {
     "name": "stdout",
     "output_type": "stream",
     "text": [
      "200\n",
      "200\n",
      "200\n",
      "200\n",
      "200\n",
      "200\n",
      "200\n",
      "200\n",
      "200\n",
      "200\n",
      "200\n",
      "200\n",
      "200\n",
      "200\n",
      "200\n",
      "200\n",
      "200\n",
      "200\n",
      "200\n",
      "200\n",
      "1.8855698108673096\n"
     ]
    }
   ],
   "source": [
    "URL = \"https://docs.python.org/3/whatsnew/3.12.html\"\n",
    "URLS = [URL] * 20\n",
    "\n",
    "async def fetch_url(url, session):\n",
    "    async with session.get(url) as resp:\n",
    "        print(resp.status)\n",
    "        data = await resp.text()\n",
    "        return data\n",
    "\n",
    "\n",
    "async def fetch_batch_urls(urls):\n",
    "    async with aiohttp.ClientSession() as session:\n",
    "        for url in urls:\n",
    "            await fetch_url(url, session)\n",
    "\n",
    "\n",
    "async def run():\n",
    "    t1 = time.time()\n",
    "    data = await fetch_batch_urls(URLS)\n",
    "    t2 = time.time()\n",
    "    print(t2 - t1)\n",
    "\n",
    "\n",
    "await run()"
   ]
  },
  {
   "cell_type": "code",
   "execution_count": null,
   "id": "dda7b475-c37b-41ee-b230-d8fe64012fc9",
   "metadata": {},
   "outputs": [],
   "source": []
  },
  {
   "cell_type": "code",
   "execution_count": null,
   "id": "e65e1416-0003-4a42-8c48-fdbddb840736",
   "metadata": {},
   "outputs": [],
   "source": []
  },
  {
   "cell_type": "code",
   "execution_count": 74,
   "id": "d527fa98-9093-4879-aca9-88a23ee117b8",
   "metadata": {},
   "outputs": [
    {
     "name": "stdout",
     "output_type": "stream",
     "text": [
      "1.0576739311218262\n"
     ]
    }
   ],
   "source": [
    "URL = \"https://docs.python.org/3/whatsnew/3.12.html\"\n",
    "URLS = [URL] * 40\n",
    "\n",
    "\n",
    "async def fetch_url(url, session):\n",
    "    async with session.get(url) as resp:\n",
    "        # print(resp.status)\n",
    "        data = await resp.text()\n",
    "        return data\n",
    "\n",
    "\n",
    "async def fetch_batch_urls(urls):\n",
    "    async with aiohttp.ClientSession() as session:\n",
    "        tasks = []\n",
    "        for url in urls:\n",
    "            tasks.append(fetch_url(url, session))\n",
    "\n",
    "        await asyncio.gather(*tasks)\n",
    "\n",
    "\n",
    "async def run():\n",
    "    t1 = time.time()\n",
    "    data = await fetch_batch_urls(URLS)\n",
    "    t2 = time.time()\n",
    "    print(t2 - t1)\n",
    "\n",
    "\n",
    "await run()"
   ]
  },
  {
   "cell_type": "code",
   "execution_count": null,
   "id": "aa6ec997-ab0d-46a1-84db-674b6aa925f4",
   "metadata": {},
   "outputs": [],
   "source": []
  },
  {
   "cell_type": "code",
   "execution_count": null,
   "id": "9c57fedf-fd7b-40a8-a21a-1a617af9e0f7",
   "metadata": {},
   "outputs": [],
   "source": []
  },
  {
   "cell_type": "code",
   "execution_count": 84,
   "id": "fe58744e-377d-4172-acc8-13899acfaf1a",
   "metadata": {},
   "outputs": [
    {
     "name": "stdout",
     "output_type": "stream",
     "text": [
      "status 200\n",
      "status 200\n",
      "status 200\n",
      "status 200\n",
      "status 200\n",
      "0.30745697021484375\n"
     ]
    }
   ],
   "source": [
    "URL = \"https://docs.python.org/3/whatsnew/3.12.html\"\n",
    "URLS = [URL] * 5\n",
    "\n",
    "\n",
    "async def fetch_url(url, session):\n",
    "    async with session.get(url) as resp:\n",
    "        # print(resp.status)\n",
    "        data = await resp.text()\n",
    "        return resp.status\n",
    "\n",
    "\n",
    "async def fetch_batch_urls(urls):\n",
    "    async with aiohttp.ClientSession() as session:\n",
    "        tasks = []\n",
    "        for url in urls:\n",
    "            tasks.append(asyncio.create_task(fetch_url(url, session)))\n",
    "\n",
    "        for task in asyncio.as_completed(tasks):\n",
    "            result = await task\n",
    "            print(\"status\", result)\n",
    "\n",
    "\n",
    "async def run():\n",
    "    t1 = time.time()\n",
    "    data = await fetch_batch_urls(URLS)\n",
    "    t2 = time.time()\n",
    "    print(t2 - t1)\n",
    "\n",
    "\n",
    "await run()"
   ]
  },
  {
   "cell_type": "code",
   "execution_count": null,
   "id": "d2c92222-70e6-4427-93ed-af0a38fd673a",
   "metadata": {},
   "outputs": [],
   "source": []
  }
 ],
 "metadata": {
  "kernelspec": {
   "display_name": "Python 3 (ipykernel)",
   "language": "python",
   "name": "python3"
  },
  "language_info": {
   "codemirror_mode": {
    "name": "ipython",
    "version": 3
   },
   "file_extension": ".py",
   "mimetype": "text/x-python",
   "name": "python",
   "nbconvert_exporter": "python",
   "pygments_lexer": "ipython3",
   "version": "3.12.5"
  }
 },
 "nbformat": 4,
 "nbformat_minor": 5
}
