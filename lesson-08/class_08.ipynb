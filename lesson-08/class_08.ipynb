{
 "cells": [
  {
   "cell_type": "code",
   "execution_count": 1,
   "id": "2e9acf08-367d-4aa3-bf2c-f3ef2a10fdb1",
   "metadata": {},
   "outputs": [],
   "source": [
    "import sys"
   ]
  },
  {
   "cell_type": "code",
   "execution_count": 10,
   "id": "2b00c067-7d0d-4212-a349-c6e7c7bccf41",
   "metadata": {},
   "outputs": [
    {
     "data": {
      "text/plain": [
       "(4294967295, 4294967295)"
      ]
     },
     "execution_count": 10,
     "metadata": {},
     "output_type": "execute_result"
    }
   ],
   "source": [
    "sys.getrefcount(0), sys.getrefcount(1)"
   ]
  },
  {
   "cell_type": "code",
   "execution_count": 4,
   "id": "c911f6d6-b19c-4e9e-a5bf-1d27d7533b14",
   "metadata": {},
   "outputs": [
    {
     "data": {
      "text/plain": [
       "4294967295"
      ]
     },
     "execution_count": 4,
     "metadata": {},
     "output_type": "execute_result"
    }
   ],
   "source": [
    "x = 1\n",
    "sys.getrefcount(x)"
   ]
  },
  {
   "cell_type": "code",
   "execution_count": 5,
   "id": "777bdb69-5353-48be-b62d-8db1a0bc49ca",
   "metadata": {},
   "outputs": [
    {
     "data": {
      "text/plain": [
       "2"
      ]
     },
     "execution_count": 5,
     "metadata": {},
     "output_type": "execute_result"
    }
   ],
   "source": [
    "sys.getrefcount(10 ** 20)"
   ]
  },
  {
   "cell_type": "code",
   "execution_count": 7,
   "id": "eeb0eb30-a857-4b53-86fd-22100dc43b77",
   "metadata": {},
   "outputs": [
    {
     "data": {
      "text/plain": [
       "2"
      ]
     },
     "execution_count": 7,
     "metadata": {},
     "output_type": "execute_result"
    }
   ],
   "source": [
    "x = 10 ** 21\n",
    "sys.getrefcount(x)"
   ]
  },
  {
   "cell_type": "code",
   "execution_count": 9,
   "id": "60f29afe-d106-4a75-bbce-1171d746efcb",
   "metadata": {},
   "outputs": [
    {
     "data": {
      "text/plain": [
       "4294967295"
      ]
     },
     "execution_count": 9,
     "metadata": {},
     "output_type": "execute_result"
    }
   ],
   "source": [
    "sys.getrefcount(-5)"
   ]
  },
  {
   "cell_type": "code",
   "execution_count": 10,
   "id": "0221c72c-b48e-4e35-a50f-4e8d59214b20",
   "metadata": {},
   "outputs": [
    {
     "data": {
      "text/plain": [
       "2"
      ]
     },
     "execution_count": 10,
     "metadata": {},
     "output_type": "execute_result"
    }
   ],
   "source": [
    "sys.getrefcount(-6)"
   ]
  },
  {
   "cell_type": "code",
   "execution_count": 3,
   "id": "130ea148-ccc2-43c3-b8de-452830ba64ba",
   "metadata": {},
   "outputs": [
    {
     "data": {
      "text/plain": [
       "(4294967295, 3)"
      ]
     },
     "execution_count": 3,
     "metadata": {},
     "output_type": "execute_result"
    }
   ],
   "source": [
    "sys.getrefcount(256), sys.getrefcount(257)"
   ]
  },
  {
   "cell_type": "code",
   "execution_count": 4,
   "id": "294381ca-9417-45f6-9d26-8d71ba3fa2bb",
   "metadata": {},
   "outputs": [],
   "source": [
    "s1 = \"qwerty123\""
   ]
  },
  {
   "cell_type": "code",
   "execution_count": 5,
   "id": "93191eea-ac7c-44af-aebb-067dbdbf204f",
   "metadata": {},
   "outputs": [],
   "source": [
    "s2 = \"qwerty123\""
   ]
  },
  {
   "cell_type": "code",
   "execution_count": 6,
   "id": "a895e3f4-68b6-4324-b94b-f202dd97f6be",
   "metadata": {},
   "outputs": [
    {
     "data": {
      "text/plain": [
       "True"
      ]
     },
     "execution_count": 6,
     "metadata": {},
     "output_type": "execute_result"
    }
   ],
   "source": [
    "s1 is s2"
   ]
  },
  {
   "cell_type": "code",
   "execution_count": 7,
   "id": "9d7a2985-8dc5-4e85-b3cf-c336818a9644",
   "metadata": {},
   "outputs": [],
   "source": [
    "s3 = \"qwerty!\""
   ]
  },
  {
   "cell_type": "code",
   "execution_count": 8,
   "id": "16216ff2-783c-4e1f-8e29-3c6fbf645b7c",
   "metadata": {},
   "outputs": [],
   "source": [
    "s4 = \"qwerty!\""
   ]
  },
  {
   "cell_type": "code",
   "execution_count": 9,
   "id": "cabf354d-bb67-4cca-9670-0c2008fe23f5",
   "metadata": {},
   "outputs": [
    {
     "data": {
      "text/plain": [
       "False"
      ]
     },
     "execution_count": 9,
     "metadata": {},
     "output_type": "execute_result"
    }
   ],
   "source": [
    "s3 is s4"
   ]
  },
  {
   "cell_type": "code",
   "execution_count": null,
   "id": "2fa9454f-242f-452e-a703-a169f5a79874",
   "metadata": {},
   "outputs": [],
   "source": []
  },
  {
   "cell_type": "code",
   "execution_count": 11,
   "id": "0f97f58d-610b-41cf-8343-54c8071a7add",
   "metadata": {},
   "outputs": [
    {
     "data": {
      "text/plain": [
       "4294967295"
      ]
     },
     "execution_count": 11,
     "metadata": {},
     "output_type": "execute_result"
    }
   ],
   "source": [
    "sys.getrefcount(\"qwerty123\")"
   ]
  },
  {
   "cell_type": "code",
   "execution_count": null,
   "id": "f96a43b6-8525-48b5-ae07-7f115d04cc60",
   "metadata": {},
   "outputs": [],
   "source": []
  },
  {
   "cell_type": "code",
   "execution_count": null,
   "id": "496583ae-fcd0-4a7b-aba0-035b8031f47e",
   "metadata": {},
   "outputs": [],
   "source": []
  },
  {
   "cell_type": "code",
   "execution_count": 15,
   "id": "65eb6532-9685-439d-a666-869b9a9dcbe9",
   "metadata": {},
   "outputs": [
    {
     "name": "stdout",
     "output_type": "stream",
     "text": [
      "1: 2\n",
      "2: 3 3\n",
      "3: 4 4 4\n",
      "4: 3 3\n",
      "2: 2\n"
     ]
    }
   ],
   "source": [
    "lst1 = [1, 2, 3]\n",
    "\n",
    "print(\"1:\", sys.getrefcount(lst1))\n",
    "\n",
    "lst2 = lst1\n",
    "\n",
    "print(\"2:\", sys.getrefcount(lst1), sys.getrefcount(lst2))\n",
    "\n",
    "lst3 = lst2\n",
    "\n",
    "print(\"3:\", sys.getrefcount(lst1), sys.getrefcount(lst2), sys.getrefcount(lst3))\n",
    "\n",
    "del lst2\n",
    "\n",
    "print(\"4:\", sys.getrefcount(lst1), sys.getrefcount(lst3))\n",
    "\n",
    "lst1 = [1, 2, 3]\n",
    "\n",
    "print(\"2:\", sys.getrefcount(lst3))"
   ]
  },
  {
   "cell_type": "code",
   "execution_count": 16,
   "id": "fa922a41-e056-4881-8f20-92c1bf62e4bb",
   "metadata": {},
   "outputs": [
    {
     "name": "stdout",
     "output_type": "stream",
     "text": [
      "1: 2\n",
      "sys.getrefcount(obj)=3\n",
      "2: 2\n"
     ]
    }
   ],
   "source": [
    "lst1 = [1, 2, 3]\n",
    "\n",
    "def func(obj):\n",
    "    print(f\"{sys.getrefcount(obj)=}\")\n",
    "\n",
    "print(\"1:\", sys.getrefcount(lst1))\n",
    "\n",
    "func(lst1)\n",
    "\n",
    "print(\"2:\", sys.getrefcount(lst1))"
   ]
  },
  {
   "cell_type": "code",
   "execution_count": null,
   "id": "0f30fc83-fb9c-4bbb-ae63-5e00c32f644a",
   "metadata": {},
   "outputs": [],
   "source": []
  },
  {
   "cell_type": "code",
   "execution_count": null,
   "id": "91f1571d-df0c-4ae4-a72b-f97af22f2d03",
   "metadata": {},
   "outputs": [],
   "source": []
  },
  {
   "cell_type": "code",
   "execution_count": null,
   "id": "1f1e739b-e994-4538-891c-d13d4b349887",
   "metadata": {},
   "outputs": [],
   "source": []
  },
  {
   "cell_type": "code",
   "execution_count": 23,
   "id": "783e54d4-a4e8-42ba-827d-c050976e3d02",
   "metadata": {},
   "outputs": [],
   "source": [
    "class Animal:\n",
    "    def __init__(self, name, food):\n",
    "        self.name = name\n",
    "        self.food = food\n",
    "\n",
    "    def __str__(self):\n",
    "        return f\"Animal({self.name}, {self.food}, {id(self)})\"\n",
    "\n",
    "    def __del__(self):\n",
    "        print(f\"del {str(self)=}\")"
   ]
  },
  {
   "cell_type": "code",
   "execution_count": 24,
   "id": "0dda2079-8ad6-4033-8f2b-b0f8b897a6cd",
   "metadata": {},
   "outputs": [
    {
     "name": "stdout",
     "output_type": "stream",
     "text": [
      "2\n"
     ]
    }
   ],
   "source": [
    "tiger = Animal(\"tiger\", \"meat\")\n",
    "print(sys.getrefcount(tiger))"
   ]
  },
  {
   "cell_type": "code",
   "execution_count": 25,
   "id": "b6fc84a1-37bf-47cb-a708-e37c352d92e0",
   "metadata": {},
   "outputs": [
    {
     "name": "stdout",
     "output_type": "stream",
     "text": [
      "del str(self)='Animal(tiger, meat, 4497236784)'\n"
     ]
    }
   ],
   "source": [
    "del tiger"
   ]
  },
  {
   "cell_type": "code",
   "execution_count": 26,
   "id": "70fda6f0-246f-499e-a4ca-6451ac1e64e6",
   "metadata": {},
   "outputs": [
    {
     "name": "stdout",
     "output_type": "stream",
     "text": [
      "3 3\n"
     ]
    }
   ],
   "source": [
    "tiger = Animal(\"tiger\", \"meat\")\n",
    "rat = Animal(\"rat\", tiger)\n",
    "\n",
    "tiger.food = rat\n",
    "\n",
    "print(sys.getrefcount(tiger), sys.getrefcount(rat))"
   ]
  },
  {
   "cell_type": "code",
   "execution_count": 27,
   "id": "38ffab64-19fc-403d-bf09-84d09bff242c",
   "metadata": {},
   "outputs": [],
   "source": [
    "del tiger\n",
    "del rat"
   ]
  },
  {
   "cell_type": "code",
   "execution_count": null,
   "id": "48f9ce47-7d63-4d29-9bd6-4c425cb22a43",
   "metadata": {},
   "outputs": [],
   "source": []
  },
  {
   "cell_type": "code",
   "execution_count": null,
   "id": "1b5c25d0-2cfe-420b-933d-6b4e915eebbd",
   "metadata": {},
   "outputs": [],
   "source": []
  },
  {
   "cell_type": "code",
   "execution_count": null,
   "id": "9d4543a5-07b6-472e-88f8-ced209feafe5",
   "metadata": {},
   "outputs": [],
   "source": []
  },
  {
   "cell_type": "code",
   "execution_count": null,
   "id": "81be1d01-52c6-4e6a-802d-1c88b24aa9c7",
   "metadata": {},
   "outputs": [],
   "source": []
  },
  {
   "cell_type": "code",
   "execution_count": 39,
   "id": "50646cda-3116-4d44-b506-51ca2fe44d0a",
   "metadata": {},
   "outputs": [
    {
     "name": "stdout",
     "output_type": "stream",
     "text": [
      "3 3\n"
     ]
    }
   ],
   "source": [
    "class Animal:\n",
    "    def __init__(self, name, food):\n",
    "        self.name = name\n",
    "        self.food = food\n",
    "\n",
    "    def __str__(self):\n",
    "        return f\"Animal({self.name}, {id(self)})\"\n",
    "\n",
    "    def __del__(self):\n",
    "        print(f\"del {str(self)=}\")\n",
    "\n",
    "\n",
    "tiger = Animal(\"tiger\", \"meat\")\n",
    "rat = Animal(\"rat\", tiger)\n",
    "\n",
    "tiger.food = rat\n",
    "\n",
    "print(sys.getrefcount(tiger), sys.getrefcount(rat))"
   ]
  },
  {
   "cell_type": "code",
   "execution_count": 41,
   "id": "737c20fc-8a04-4388-b9e0-9a076139974c",
   "metadata": {},
   "outputs": [],
   "source": [
    "del tiger\n",
    "del rat"
   ]
  },
  {
   "cell_type": "code",
   "execution_count": null,
   "id": "9f54c6b6-52da-4a8c-bc00-9c10c927b882",
   "metadata": {},
   "outputs": [],
   "source": []
  },
  {
   "cell_type": "code",
   "execution_count": 28,
   "id": "5516efdd-100b-4074-92af-6d37da02a15c",
   "metadata": {},
   "outputs": [],
   "source": [
    "import gc"
   ]
  },
  {
   "cell_type": "code",
   "execution_count": 42,
   "id": "1a87d8ff-e84b-4b20-8a32-3230a4b9c4bd",
   "metadata": {},
   "outputs": [
    {
     "name": "stdout",
     "output_type": "stream",
     "text": [
      "del str(self)='Animal(tiger, 4489221456)'\n",
      "del str(self)='Animal(rat, 4489229088)'\n"
     ]
    },
    {
     "data": {
      "text/plain": [
       "2"
      ]
     },
     "execution_count": 42,
     "metadata": {},
     "output_type": "execute_result"
    }
   ],
   "source": [
    "gc.collect()"
   ]
  },
  {
   "cell_type": "code",
   "execution_count": null,
   "id": "68d5b7f3-2364-4508-86f6-26ec1aec5cb3",
   "metadata": {},
   "outputs": [],
   "source": []
  },
  {
   "cell_type": "code",
   "execution_count": 43,
   "id": "c1533bc6-30d4-49bd-ad46-b3dc665eb844",
   "metadata": {},
   "outputs": [],
   "source": [
    "import ctypes"
   ]
  },
  {
   "cell_type": "code",
   "execution_count": 45,
   "id": "47764999-2f44-4d36-afd2-16763e0401c7",
   "metadata": {},
   "outputs": [],
   "source": [
    "class PyObject(ctypes.Structure):\n",
    "    _fields_ = [(\"refcnt\", ctypes.c_long)]"
   ]
  },
  {
   "cell_type": "code",
   "execution_count": 46,
   "id": "84b0b725-6eac-44b6-884c-65513cb61f67",
   "metadata": {},
   "outputs": [
    {
     "name": "stdout",
     "output_type": "stream",
     "text": [
      "3 3\n",
      "ADDRESS 1: PyObject.from_address(id_tiger).refcnt=2, PyObject.from_address(id_rat).refcnt=2\n",
      "ADDRESS 2: PyObject.from_address(id_tiger).refcnt=1, PyObject.from_address(id_rat).refcnt=1\n"
     ]
    }
   ],
   "source": [
    "class Animal:\n",
    "    def __init__(self, name, food):\n",
    "        self.name = name\n",
    "        self.food = food\n",
    "\n",
    "    def __str__(self):\n",
    "        return f\"Animal({self.name}, {id(self)})\"\n",
    "\n",
    "    def __del__(self):\n",
    "        print(f\"del {str(self)=}\")\n",
    "\n",
    "\n",
    "tiger = Animal(\"tiger\", \"meat\")\n",
    "rat = Animal(\"rat\", tiger)\n",
    "\n",
    "tiger.food = rat\n",
    "\n",
    "print(sys.getrefcount(tiger), sys.getrefcount(rat))\n",
    "\n",
    "id_tiger = id(tiger)\n",
    "id_rat = id(rat)\n",
    "\n",
    "print(f\"ADDRESS 1: {PyObject.from_address(id_tiger).refcnt=}, {PyObject.from_address(id_rat).refcnt=}\")\n",
    "\n",
    "del tiger\n",
    "del rat\n",
    "\n",
    "print(f\"ADDRESS 2: {PyObject.from_address(id_tiger).refcnt=}, {PyObject.from_address(id_rat).refcnt=}\")"
   ]
  },
  {
   "cell_type": "code",
   "execution_count": 47,
   "id": "818dc7ed-a732-4c12-9f29-6988524ab45e",
   "metadata": {},
   "outputs": [
    {
     "name": "stdout",
     "output_type": "stream",
     "text": [
      "del str(self)='Animal(tiger, 4488575936)'\n",
      "del str(self)='Animal(rat, 4493624000)'\n"
     ]
    },
    {
     "data": {
      "text/plain": [
       "3307"
      ]
     },
     "execution_count": 47,
     "metadata": {},
     "output_type": "execute_result"
    }
   ],
   "source": [
    "gc.collect()"
   ]
  },
  {
   "cell_type": "code",
   "execution_count": 49,
   "id": "a06eab29-74d5-40ac-9b32-7f7047f495b5",
   "metadata": {},
   "outputs": [
    {
     "data": {
      "text/plain": [
       "(4488575936, 4493624000)"
      ]
     },
     "execution_count": 49,
     "metadata": {},
     "output_type": "execute_result"
    }
   ],
   "source": [
    "id_tiger, id_rat"
   ]
  },
  {
   "cell_type": "code",
   "execution_count": 50,
   "id": "fcadc43c-10f9-4ca8-9a9f-7d1acb15b5d2",
   "metadata": {},
   "outputs": [
    {
     "name": "stdout",
     "output_type": "stream",
     "text": [
      "ADDRESS 3: PyObject.from_address(id_tiger).refcnt=4453302368, PyObject.from_address(id_rat).refcnt=0\n"
     ]
    }
   ],
   "source": [
    "print(f\"ADDRESS 3: {PyObject.from_address(id_tiger).refcnt=}, {PyObject.from_address(id_rat).refcnt=}\")"
   ]
  },
  {
   "cell_type": "code",
   "execution_count": null,
   "id": "b8e95789-b2fe-44dd-a6d2-e9eb140cd186",
   "metadata": {},
   "outputs": [],
   "source": []
  },
  {
   "cell_type": "code",
   "execution_count": null,
   "id": "658487de-3994-4d11-8cbc-f4ce3531b4a2",
   "metadata": {},
   "outputs": [],
   "source": []
  },
  {
   "cell_type": "code",
   "execution_count": null,
   "id": "626f6273-73cd-43cb-8ed2-331c79ba0a3b",
   "metadata": {},
   "outputs": [],
   "source": []
  },
  {
   "cell_type": "code",
   "execution_count": 53,
   "id": "e389dd61-4cde-4790-aa18-bc2a3e3d4df7",
   "metadata": {},
   "outputs": [],
   "source": [
    "import weakref"
   ]
  },
  {
   "cell_type": "code",
   "execution_count": 60,
   "id": "bebea858-4b71-40d1-9415-df4766af4e79",
   "metadata": {},
   "outputs": [
    {
     "name": "stdout",
     "output_type": "stream",
     "text": [
      "1: 2\n",
      "2: 2\n",
      "del str(self)='Animal(dog, 4487461632)'\n",
      "3: 3\n",
      "del str(self)='Animal(dog, 4487456016)'\n",
      "dog stopped\n",
      "dog_link=None\n"
     ]
    }
   ],
   "source": [
    "dog = Animal(\"dog\", \"meat\")\n",
    "print(\"1:\", sys.getrefcount(dog))\n",
    "\n",
    "weakref.finalize(dog, lambda: print(\"dog stopped\"))\n",
    "\n",
    "wdog = weakref.ref(dog)\n",
    "\n",
    "print(\"2:\", sys.getrefcount(dog))\n",
    "\n",
    "dog_link = wdog()\n",
    "print(\"3:\", sys.getrefcount(dog))\n",
    "\n",
    "del dog, dog_link\n",
    "\n",
    "dog_link = wdog()\n",
    "print(f\"{dog_link=}\")"
   ]
  },
  {
   "cell_type": "code",
   "execution_count": null,
   "id": "ce2b9bcd-3173-439e-a02b-631b7e7c93e2",
   "metadata": {},
   "outputs": [],
   "source": []
  },
  {
   "cell_type": "code",
   "execution_count": null,
   "id": "c67a2218-bd52-4a11-8c0e-dbcfd03eaaf4",
   "metadata": {},
   "outputs": [],
   "source": []
  },
  {
   "cell_type": "code",
   "execution_count": 61,
   "id": "1e3277de-9dc6-437f-949e-381ca5dada74",
   "metadata": {},
   "outputs": [],
   "source": [
    "class Point:\n",
    "\n",
    "    def __init__(self, x, y):\n",
    "        self.x = x\n",
    "        self.y = y\n",
    "\n",
    "\n",
    "class Point2D:\n",
    "    __slots__ = (\"x\", \"y\")\n",
    "\n",
    "    def __init__(self, x, y):\n",
    "        self.x = x\n",
    "        self.y = y"
   ]
  },
  {
   "cell_type": "code",
   "execution_count": 62,
   "id": "bba33231-3f2d-40d6-9078-74c122f0f212",
   "metadata": {},
   "outputs": [],
   "source": [
    "p1 = Point(10, 20)\n",
    "p2 = Point2D(43, 99)"
   ]
  },
  {
   "cell_type": "code",
   "execution_count": 65,
   "id": "d0e079b6-5602-44a6-93da-df8dc1e6c582",
   "metadata": {},
   "outputs": [
    {
     "data": {
      "text/plain": [
       "(10, 20, 43, 99)"
      ]
     },
     "execution_count": 65,
     "metadata": {},
     "output_type": "execute_result"
    }
   ],
   "source": [
    "p1.x, p1.y, p2.x, p2.y"
   ]
  },
  {
   "cell_type": "code",
   "execution_count": 66,
   "id": "c9349400-29f4-4752-825f-97dd3512a136",
   "metadata": {},
   "outputs": [],
   "source": [
    "p1.x = 40"
   ]
  },
  {
   "cell_type": "code",
   "execution_count": 67,
   "id": "ab7a070a-ac04-4bb9-9838-32d985e7bf3b",
   "metadata": {},
   "outputs": [],
   "source": [
    "p2.x = 50"
   ]
  },
  {
   "cell_type": "code",
   "execution_count": 68,
   "id": "0f00f04f-b38a-43e0-80f2-aa9d5cfe137c",
   "metadata": {},
   "outputs": [
    {
     "data": {
      "text/plain": [
       "(40, 20, 50, 99)"
      ]
     },
     "execution_count": 68,
     "metadata": {},
     "output_type": "execute_result"
    }
   ],
   "source": [
    "p1.x, p1.y, p2.x, p2.y"
   ]
  },
  {
   "cell_type": "code",
   "execution_count": 69,
   "id": "eeed5fb0-ba2c-45f7-8a01-705e654c4fe6",
   "metadata": {},
   "outputs": [],
   "source": [
    "p1.z = 512"
   ]
  },
  {
   "cell_type": "code",
   "execution_count": 70,
   "id": "90daf90e-3efd-48e8-8f8d-518bd5d44e9b",
   "metadata": {},
   "outputs": [
    {
     "ename": "AttributeError",
     "evalue": "'Point2D' object has no attribute 'z'",
     "output_type": "error",
     "traceback": [
      "\u001b[0;31m---------------------------------------------------------------------------\u001b[0m",
      "\u001b[0;31mAttributeError\u001b[0m                            Traceback (most recent call last)",
      "Cell \u001b[0;32mIn[70], line 1\u001b[0m\n\u001b[0;32m----> 1\u001b[0m \u001b[43mp2\u001b[49m\u001b[38;5;241;43m.\u001b[39;49m\u001b[43mz\u001b[49m \u001b[38;5;241m=\u001b[39m \u001b[38;5;241m512\u001b[39m\n",
      "\u001b[0;31mAttributeError\u001b[0m: 'Point2D' object has no attribute 'z'"
     ]
    }
   ],
   "source": [
    "p2.z = 512"
   ]
  },
  {
   "cell_type": "code",
   "execution_count": 71,
   "id": "a768b1a1-9079-4990-b2d8-653e5d2dd199",
   "metadata": {},
   "outputs": [],
   "source": [
    "del p2.x"
   ]
  },
  {
   "cell_type": "code",
   "execution_count": 72,
   "id": "c203bb2e-8a5d-4a73-9997-ea0d1c24da81",
   "metadata": {},
   "outputs": [],
   "source": [
    "p2.x = 77"
   ]
  },
  {
   "cell_type": "code",
   "execution_count": null,
   "id": "67dcab4c-e855-4d93-a513-85aeb2655fdb",
   "metadata": {},
   "outputs": [],
   "source": []
  },
  {
   "cell_type": "code",
   "execution_count": null,
   "id": "cdc16ab2-8e73-43d4-bbdf-9019df332440",
   "metadata": {},
   "outputs": [],
   "source": []
  },
  {
   "cell_type": "code",
   "execution_count": 80,
   "id": "3dd4ea36-56bc-466a-a776-cb606bd3fcc8",
   "metadata": {},
   "outputs": [],
   "source": [
    "%%time\n",
    "\n",
    "N = 10_000_000\n",
    "\n",
    "\n",
    "points = [Point(999, 1999) for _ in range(N)]\n",
    "slot_points = [Point2D(999, 1999) for _ in range(N)]"
   ]
  },
  {
   "cell_type": "code",
   "execution_count": 74,
   "id": "44ee99e1-7e28-4296-9108-9df0c812e19e",
   "metadata": {},
   "outputs": [],
   "source": [
    "def process_points(points):\n",
    "    for p in points:\n",
    "        p.x + p.y\n",
    "        p.x = p.y\n",
    "        p.y = p.x"
   ]
  },
  {
   "cell_type": "code",
   "execution_count": 83,
   "id": "9f3571b8-622f-4108-876c-fa8af6b2441c",
   "metadata": {},
   "outputs": [
    {
     "name": "stdout",
     "output_type": "stream",
     "text": [
      "CPU times: user 6.56 s, sys: 502 ms, total: 7.06 s\n",
      "Wall time: 9 s\n"
     ]
    }
   ],
   "source": [
    "%%time\n",
    "\n",
    "N = 5_000_000\n",
    "\n",
    "points = [Point(999, 1999) for _ in range(N)]\n",
    "\n",
    "process_points(points)"
   ]
  },
  {
   "cell_type": "code",
   "execution_count": 84,
   "id": "db7738a3-66a9-47fe-8a37-35df4430e3d0",
   "metadata": {},
   "outputs": [
    {
     "name": "stdout",
     "output_type": "stream",
     "text": [
      "CPU times: user 4.69 s, sys: 282 ms, total: 4.98 s\n",
      "Wall time: 6.06 s\n"
     ]
    }
   ],
   "source": [
    "%%time\n",
    "\n",
    "N = 5_000_000\n",
    "\n",
    "slot_points = [Point2D(999, 1999) for _ in range(N)]\n",
    "\n",
    "process_points(slot_points)"
   ]
  },
  {
   "cell_type": "code",
   "execution_count": null,
   "id": "fba41aad-1381-43a2-bed3-a6e464715c34",
   "metadata": {},
   "outputs": [],
   "source": []
  }
 ],
 "metadata": {
  "kernelspec": {
   "display_name": "Python 3 (ipykernel)",
   "language": "python",
   "name": "python3"
  },
  "language_info": {
   "codemirror_mode": {
    "name": "ipython",
    "version": 3
   },
   "file_extension": ".py",
   "mimetype": "text/x-python",
   "name": "python",
   "nbconvert_exporter": "python",
   "pygments_lexer": "ipython3",
   "version": "3.12.5"
  }
 },
 "nbformat": 4,
 "nbformat_minor": 5
}
