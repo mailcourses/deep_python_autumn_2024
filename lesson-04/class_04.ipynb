{
 "cells": [
  {
   "cell_type": "code",
   "execution_count": 53,
   "id": "0d73cd42-4fe0-428c-8427-c0d3d3bb996f",
   "metadata": {},
   "outputs": [],
   "source": [
    "class Person:\n",
    "    def __init__(self, name):\n",
    "        self.name = name\n",
    "\n",
    "    @property\n",
    "    def name(self):\n",
    "        return f\"My name is {self.__name}, {self.__age}\"\n",
    "\n",
    "    @name.setter\n",
    "    def name(self, val):\n",
    "        print(\"set_name\", val)\n",
    "    \n",
    "        if isinstance(val[0], str):\n",
    "            self.__name = val[0]\n",
    "        else:\n",
    "            raise Exception(\"wrong type\")\n",
    "\n",
    "        if isinstance(val[1], int):\n",
    "            self.__age = val[1]\n",
    "        else:\n",
    "            raise Exception(\"wrong type\")\n",
    "    \n",
    "    @name.deleter\n",
    "    def name(self):\n",
    "        print(\"delete name attr\")\n",
    "        del self.__name"
   ]
  },
  {
   "cell_type": "code",
   "execution_count": null,
   "id": "0fe9905d-7749-4621-b05c-ebc694526855",
   "metadata": {},
   "outputs": [],
   "source": []
  },
  {
   "cell_type": "code",
   "execution_count": 55,
   "id": "a4f86b3e-1bff-4f59-8335-6ac29cdcc555",
   "metadata": {},
   "outputs": [
    {
     "name": "stdout",
     "output_type": "stream",
     "text": [
      "set_name ('walter', 99)\n"
     ]
    }
   ],
   "source": [
    "walter = Person((\"walter\", 99))"
   ]
  },
  {
   "cell_type": "code",
   "execution_count": 56,
   "id": "73d1af67-a163-4075-a70e-af474a1c45db",
   "metadata": {},
   "outputs": [
    {
     "data": {
      "text/plain": [
       "(mappingproxy({'__module__': '__main__',\n",
       "               '__init__': <function __main__.Person.__init__(self, name)>,\n",
       "               'name': <property at 0x10b799c10>,\n",
       "               '__dict__': <attribute '__dict__' of 'Person' objects>,\n",
       "               '__weakref__': <attribute '__weakref__' of 'Person' objects>,\n",
       "               '__doc__': None}),\n",
       " {'_Person__name': 'walter', '_Person__age': 99})"
      ]
     },
     "execution_count": 56,
     "metadata": {},
     "output_type": "execute_result"
    }
   ],
   "source": [
    "Person.__dict__, walter.__dict__"
   ]
  },
  {
   "cell_type": "code",
   "execution_count": 3,
   "id": "7306fb69-2bd0-48af-8a8d-ba739f1832e9",
   "metadata": {},
   "outputs": [
    {
     "data": {
      "text/plain": [
       "'My name is ww'"
      ]
     },
     "execution_count": 3,
     "metadata": {},
     "output_type": "execute_result"
    }
   ],
   "source": [
    "walter.name"
   ]
  },
  {
   "cell_type": "code",
   "execution_count": 4,
   "id": "ff7aad29-06be-4276-8f8a-57f92cca0c80",
   "metadata": {},
   "outputs": [
    {
     "name": "stdout",
     "output_type": "stream",
     "text": [
      "delete name attr\n"
     ]
    }
   ],
   "source": [
    "del walter.name"
   ]
  },
  {
   "cell_type": "code",
   "execution_count": 5,
   "id": "effbb3f6-980f-4301-8df6-c74f1b491b1e",
   "metadata": {},
   "outputs": [],
   "source": [
    "walter.attr = \"qwerty\""
   ]
  },
  {
   "cell_type": "code",
   "execution_count": 6,
   "id": "fcbed9d1-7644-45ae-b3ab-4fa199678f51",
   "metadata": {},
   "outputs": [
    {
     "data": {
      "text/plain": [
       "'qwerty'"
      ]
     },
     "execution_count": 6,
     "metadata": {},
     "output_type": "execute_result"
    }
   ],
   "source": [
    "walter.attr"
   ]
  },
  {
   "cell_type": "code",
   "execution_count": 7,
   "id": "7a2f94bf-64f4-4a3c-bb60-ea06f87ae68a",
   "metadata": {},
   "outputs": [],
   "source": [
    "del walter.attr"
   ]
  },
  {
   "cell_type": "code",
   "execution_count": 9,
   "id": "4ff9cf3a-2bfe-4396-b17a-8ea94ae06837",
   "metadata": {},
   "outputs": [
    {
     "name": "stdout",
     "output_type": "stream",
     "text": [
      "set_name ('ww', 99)\n"
     ]
    }
   ],
   "source": [
    "walter = Person((\"ww\", 99))"
   ]
  },
  {
   "cell_type": "code",
   "execution_count": 10,
   "id": "9dbf8f06-63ea-443e-8306-884b17f1b9f1",
   "metadata": {},
   "outputs": [
    {
     "data": {
      "text/plain": [
       "'My name is ww, 99'"
      ]
     },
     "execution_count": 10,
     "metadata": {},
     "output_type": "execute_result"
    }
   ],
   "source": [
    "walter.name"
   ]
  },
  {
   "cell_type": "code",
   "execution_count": 13,
   "id": "924d4b2b-2edb-420f-ab4a-c7254f038f46",
   "metadata": {},
   "outputs": [],
   "source": [
    "walter._Person__name = 123"
   ]
  },
  {
   "cell_type": "code",
   "execution_count": 14,
   "id": "26c34ca6-af3d-4f01-9873-90505449e748",
   "metadata": {},
   "outputs": [
    {
     "data": {
      "text/plain": [
       "'My name is 123, 99'"
      ]
     },
     "execution_count": 14,
     "metadata": {},
     "output_type": "execute_result"
    }
   ],
   "source": [
    "walter.name"
   ]
  },
  {
   "cell_type": "code",
   "execution_count": 15,
   "id": "c3cb4107-c90e-4adc-8af7-526899e36c77",
   "metadata": {},
   "outputs": [],
   "source": [
    "class PersonName:\n",
    "    def __init__(self, name):\n",
    "        self.__name = name\n",
    "        self.__age = 99\n",
    "\n",
    "    @property\n",
    "    def name(self):\n",
    "        return f\"My name is {self.__name}, {self.__age}\"\n"
   ]
  },
  {
   "cell_type": "code",
   "execution_count": 16,
   "id": "75b546b4-5c53-4305-9f18-747b7b23e3eb",
   "metadata": {},
   "outputs": [],
   "source": [
    "ww = PersonName(\"WW\")"
   ]
  },
  {
   "cell_type": "code",
   "execution_count": 17,
   "id": "37f87ebc-5764-46a9-bfa7-7d5e5e4b4b76",
   "metadata": {},
   "outputs": [
    {
     "data": {
      "text/plain": [
       "'My name is WW, 99'"
      ]
     },
     "execution_count": 17,
     "metadata": {},
     "output_type": "execute_result"
    }
   ],
   "source": [
    "ww.name"
   ]
  },
  {
   "cell_type": "code",
   "execution_count": 18,
   "id": "c63169b7-7147-4a0b-b0be-67aad1cf2ca1",
   "metadata": {},
   "outputs": [
    {
     "ename": "AttributeError",
     "evalue": "property 'name' of 'PersonName' object has no setter",
     "output_type": "error",
     "traceback": [
      "\u001b[0;31m---------------------------------------------------------------------------\u001b[0m",
      "\u001b[0;31mAttributeError\u001b[0m                            Traceback (most recent call last)",
      "Cell \u001b[0;32mIn[18], line 1\u001b[0m\n\u001b[0;32m----> 1\u001b[0m \u001b[43mww\u001b[49m\u001b[38;5;241;43m.\u001b[39;49m\u001b[43mname\u001b[49m \u001b[38;5;241m=\u001b[39m (\u001b[38;5;124m\"\u001b[39m\u001b[38;5;124m123\u001b[39m\u001b[38;5;124m\"\u001b[39m, \u001b[38;5;241m88\u001b[39m)\n",
      "\u001b[0;31mAttributeError\u001b[0m: property 'name' of 'PersonName' object has no setter"
     ]
    }
   ],
   "source": [
    "ww.name = (\"123\", 88)"
   ]
  },
  {
   "cell_type": "code",
   "execution_count": null,
   "id": "edbb6f6a-dd80-4b5d-8cb1-65ad0c839bbd",
   "metadata": {},
   "outputs": [],
   "source": []
  },
  {
   "cell_type": "code",
   "execution_count": 19,
   "id": "dedfbac3-9b04-4584-a5de-60de29465693",
   "metadata": {},
   "outputs": [],
   "source": [
    "def make_hash_from_password(password):\n",
    "    return hash(password)\n",
    "\n",
    "\n",
    "class User:\n",
    "    def __init__(self, login, password):\n",
    "        self.__login = login\n",
    "        self.password_hash = None\n",
    "        self.password = password\n",
    "\n",
    "    @property\n",
    "    def login(self):\n",
    "        \"\"\"name is read-only\"\"\"\n",
    "        return self.__login\n",
    "\n",
    "    @property\n",
    "    def password(self):\n",
    "        raise AttributeError(\"Password is write-only\")\n",
    "\n",
    "    @password.setter\n",
    "    def password(self, plaintext):\n",
    "        self.password_hash = make_hash_from_password(plaintext)\n"
   ]
  },
  {
   "cell_type": "code",
   "execution_count": 20,
   "id": "1bf8b24a-ea16-403a-badb-8e0ed4d96d61",
   "metadata": {},
   "outputs": [],
   "source": [
    "user = User(\"login\", \"12345\")"
   ]
  },
  {
   "cell_type": "code",
   "execution_count": 21,
   "id": "bd9b0f2c-af3d-4780-a0db-1baffd1ad0c6",
   "metadata": {},
   "outputs": [
    {
     "ename": "AttributeError",
     "evalue": "Password is write-only",
     "output_type": "error",
     "traceback": [
      "\u001b[0;31m---------------------------------------------------------------------------\u001b[0m",
      "\u001b[0;31mAttributeError\u001b[0m                            Traceback (most recent call last)",
      "Cell \u001b[0;32mIn[21], line 1\u001b[0m\n\u001b[0;32m----> 1\u001b[0m \u001b[43muser\u001b[49m\u001b[38;5;241;43m.\u001b[39;49m\u001b[43mpassword\u001b[49m\n",
      "Cell \u001b[0;32mIn[19], line 18\u001b[0m, in \u001b[0;36mUser.password\u001b[0;34m(self)\u001b[0m\n\u001b[1;32m     16\u001b[0m \u001b[38;5;129m@property\u001b[39m\n\u001b[1;32m     17\u001b[0m \u001b[38;5;28;01mdef\u001b[39;00m \u001b[38;5;21mpassword\u001b[39m(\u001b[38;5;28mself\u001b[39m):\n\u001b[0;32m---> 18\u001b[0m     \u001b[38;5;28;01mraise\u001b[39;00m \u001b[38;5;167;01mAttributeError\u001b[39;00m(\u001b[38;5;124m\"\u001b[39m\u001b[38;5;124mPassword is write-only\u001b[39m\u001b[38;5;124m\"\u001b[39m)\n",
      "\u001b[0;31mAttributeError\u001b[0m: Password is write-only"
     ]
    }
   ],
   "source": [
    "user.password"
   ]
  },
  {
   "cell_type": "code",
   "execution_count": 22,
   "id": "c11aecf8-a95a-40c6-90e1-1bfcc4b96308",
   "metadata": {},
   "outputs": [
    {
     "data": {
      "text/plain": [
       "5133331240994698087"
      ]
     },
     "execution_count": 22,
     "metadata": {},
     "output_type": "execute_result"
    }
   ],
   "source": [
    "user.password_hash"
   ]
  },
  {
   "cell_type": "code",
   "execution_count": 23,
   "id": "810b055a-4eea-41aa-af0f-a56eb2229f81",
   "metadata": {},
   "outputs": [],
   "source": [
    "user.password = \"98765\""
   ]
  },
  {
   "cell_type": "code",
   "execution_count": 24,
   "id": "9eba03bf-d9eb-4e18-afd8-7cafbfcd204b",
   "metadata": {},
   "outputs": [
    {
     "data": {
      "text/plain": [
       "6118563397097876418"
      ]
     },
     "execution_count": 24,
     "metadata": {},
     "output_type": "execute_result"
    }
   ],
   "source": [
    "user.password_hash"
   ]
  },
  {
   "cell_type": "code",
   "execution_count": 25,
   "id": "7a4b3307-e08e-47bf-968b-a10e1d8c885e",
   "metadata": {},
   "outputs": [
    {
     "ename": "AttributeError",
     "evalue": "Password is write-only",
     "output_type": "error",
     "traceback": [
      "\u001b[0;31m---------------------------------------------------------------------------\u001b[0m",
      "\u001b[0;31mAttributeError\u001b[0m                            Traceback (most recent call last)",
      "Cell \u001b[0;32mIn[25], line 1\u001b[0m\n\u001b[0;32m----> 1\u001b[0m \u001b[43muser\u001b[49m\u001b[38;5;241;43m.\u001b[39;49m\u001b[43mpassword\u001b[49m\n",
      "Cell \u001b[0;32mIn[19], line 18\u001b[0m, in \u001b[0;36mUser.password\u001b[0;34m(self)\u001b[0m\n\u001b[1;32m     16\u001b[0m \u001b[38;5;129m@property\u001b[39m\n\u001b[1;32m     17\u001b[0m \u001b[38;5;28;01mdef\u001b[39;00m \u001b[38;5;21mpassword\u001b[39m(\u001b[38;5;28mself\u001b[39m):\n\u001b[0;32m---> 18\u001b[0m     \u001b[38;5;28;01mraise\u001b[39;00m \u001b[38;5;167;01mAttributeError\u001b[39;00m(\u001b[38;5;124m\"\u001b[39m\u001b[38;5;124mPassword is write-only\u001b[39m\u001b[38;5;124m\"\u001b[39m)\n",
      "\u001b[0;31mAttributeError\u001b[0m: Password is write-only"
     ]
    }
   ],
   "source": [
    "user.password"
   ]
  },
  {
   "cell_type": "code",
   "execution_count": null,
   "id": "4e6390d0-99d1-4069-b102-420f5618a648",
   "metadata": {},
   "outputs": [],
   "source": []
  },
  {
   "cell_type": "code",
   "execution_count": 29,
   "id": "3dbb6886-911b-4910-a01e-b847b5e88561",
   "metadata": {},
   "outputs": [
    {
     "name": "stdout",
     "output_type": "stream",
     "text": [
      "owner=<class '__main__.Container'>, name='x'\n",
      "owner=<class '__main__.Container'>, name='y'\n"
     ]
    }
   ],
   "source": [
    "class Attr:\n",
    "    def __set_name__(self, owner, name):\n",
    "        print(f\"{owner=}, {name=}\")\n",
    "        self.name = name\n",
    "\n",
    "\n",
    "class Container:\n",
    "    x = Attr()  # Automatically calls: x.__set_name__(A, \"x\")\n",
    "    y = Attr()"
   ]
  },
  {
   "cell_type": "code",
   "execution_count": 27,
   "id": "943e30f9-b522-474b-90dd-9e877976ae0f",
   "metadata": {},
   "outputs": [],
   "source": [
    "cont = Container()"
   ]
  },
  {
   "cell_type": "code",
   "execution_count": 28,
   "id": "b907ac73-8da5-477d-9982-d4a55a9c67a0",
   "metadata": {},
   "outputs": [
    {
     "data": {
      "text/plain": [
       "<__main__.Attr at 0x10b42ffb0>"
      ]
     },
     "execution_count": 28,
     "metadata": {},
     "output_type": "execute_result"
    }
   ],
   "source": [
    "cont.x"
   ]
  },
  {
   "cell_type": "code",
   "execution_count": null,
   "id": "30ef9f6b-71a3-4027-b43a-1b9b3e87cf61",
   "metadata": {},
   "outputs": [],
   "source": []
  },
  {
   "cell_type": "code",
   "execution_count": null,
   "id": "ed40b71a-86bd-4052-a467-edad76e4aeed",
   "metadata": {},
   "outputs": [],
   "source": []
  },
  {
   "cell_type": "code",
   "execution_count": 36,
   "id": "f3c0015e-63d2-4a67-8a04-7db4a1f0afca",
   "metadata": {},
   "outputs": [],
   "source": [
    "class Animal:\n",
    "    def __init__(self, name):\n",
    "        self.name = name"
   ]
  },
  {
   "cell_type": "code",
   "execution_count": 34,
   "id": "34de8463-8451-4d8d-b561-92eac53899c3",
   "metadata": {},
   "outputs": [],
   "source": [
    "tiger = Animal(\"tiger\")"
   ]
  },
  {
   "cell_type": "code",
   "execution_count": 35,
   "id": "1ba0f1e8-039b-4ea7-9012-a1fa1332d592",
   "metadata": {},
   "outputs": [
    {
     "ename": "TypeError",
     "evalue": "'Animal' object is not callable",
     "output_type": "error",
     "traceback": [
      "\u001b[0;31m---------------------------------------------------------------------------\u001b[0m",
      "\u001b[0;31mTypeError\u001b[0m                                 Traceback (most recent call last)",
      "Cell \u001b[0;32mIn[35], line 1\u001b[0m\n\u001b[0;32m----> 1\u001b[0m \u001b[43mtiger\u001b[49m\u001b[43m(\u001b[49m\u001b[43m)\u001b[49m\n",
      "\u001b[0;31mTypeError\u001b[0m: 'Animal' object is not callable"
     ]
    }
   ],
   "source": [
    "tiger()"
   ]
  },
  {
   "cell_type": "code",
   "execution_count": 37,
   "id": "99754644-b6d2-413e-8361-e8bbe1956a6d",
   "metadata": {},
   "outputs": [],
   "source": [
    "class Animal:\n",
    "    def __init__(self, name):\n",
    "        self.name = name\n",
    "\n",
    "    def __call__(self):\n",
    "        print(\"Animal\", self.name)"
   ]
  },
  {
   "cell_type": "code",
   "execution_count": 38,
   "id": "5a7fed38-8f38-4652-946f-4246a7714d9a",
   "metadata": {},
   "outputs": [],
   "source": [
    "tiger = Animal(\"tiger\")"
   ]
  },
  {
   "cell_type": "code",
   "execution_count": 39,
   "id": "0b13cc07-699b-475c-8840-9cb749e9cae5",
   "metadata": {},
   "outputs": [
    {
     "name": "stdout",
     "output_type": "stream",
     "text": [
      "Animal tiger\n"
     ]
    }
   ],
   "source": [
    "tiger()"
   ]
  },
  {
   "cell_type": "code",
   "execution_count": null,
   "id": "c4e31627-0f28-46ec-8223-cbac79e77eda",
   "metadata": {},
   "outputs": [],
   "source": []
  },
  {
   "cell_type": "code",
   "execution_count": 40,
   "id": "9f7e3002-c307-4278-bcb1-ae6f4443e3ae",
   "metadata": {},
   "outputs": [],
   "source": [
    "def func():\n",
    "    return 42"
   ]
  },
  {
   "cell_type": "code",
   "execution_count": 41,
   "id": "11bd11cc-d59f-4dc4-b503-7c12b193a58a",
   "metadata": {},
   "outputs": [
    {
     "data": {
      "text/plain": [
       "42"
      ]
     },
     "execution_count": 41,
     "metadata": {},
     "output_type": "execute_result"
    }
   ],
   "source": [
    "func()"
   ]
  },
  {
   "cell_type": "code",
   "execution_count": 42,
   "id": "50355845-bfc8-4998-910c-812d09a97cd5",
   "metadata": {},
   "outputs": [
    {
     "data": {
      "text/plain": [
       "<method-wrapper '__call__' of function object at 0x10b43b740>"
      ]
     },
     "execution_count": 42,
     "metadata": {},
     "output_type": "execute_result"
    }
   ],
   "source": [
    "func.__call__"
   ]
  },
  {
   "cell_type": "code",
   "execution_count": null,
   "id": "41167b42-9dc6-4c1f-917f-ee8ed895e11c",
   "metadata": {},
   "outputs": [],
   "source": []
  },
  {
   "cell_type": "code",
   "execution_count": null,
   "id": "9355bb58-31fb-462b-ad37-6a83213fca6d",
   "metadata": {},
   "outputs": [],
   "source": []
  },
  {
   "cell_type": "code",
   "execution_count": 45,
   "id": "f073b880-210b-4d63-aafa-133ba6ed3093",
   "metadata": {},
   "outputs": [
    {
     "name": "stdout",
     "output_type": "stream",
     "text": [
      "__setattr__ name='val', val=42\n"
     ]
    }
   ],
   "source": [
    "class AttrAccess:\n",
    "    name = \"cls_attribut_access\"\n",
    "\n",
    "    def __init__(self, val):\n",
    "        self.val = val\n",
    "\n",
    "    def __getattr__(self, name):\n",
    "        print(f\"__getattr__ {name=}\")\n",
    "\n",
    "        raise AttributeError(f\"no attr {name}\")\n",
    "        # return super().__getattr__(name)  # - error\n",
    "\n",
    "    def __getattribute__(self, name):\n",
    "        print(f\"__getattribute__ {name=}\")\n",
    "        \n",
    "        return super().__getattribute__(name)\n",
    "            \n",
    "    def __setattr__(self, name, val):\n",
    "        print(f\"__setattr__ {name=}, {val=}\")\n",
    "        \n",
    "        return super().__setattr__(name, val)\n",
    "    \n",
    "    def __delattr__(self, name):\n",
    "        print(f\"__delattr__ {name=}\")\n",
    "        \n",
    "        return super().__delattr__(name)\n",
    "\n",
    "    \n",
    "attr = AttrAccess(42)"
   ]
  },
  {
   "cell_type": "code",
   "execution_count": 46,
   "id": "93163b61-cee2-46cf-8a08-e93676ea6958",
   "metadata": {},
   "outputs": [
    {
     "name": "stdout",
     "output_type": "stream",
     "text": [
      "__getattribute__ name='val'\n"
     ]
    },
    {
     "data": {
      "text/plain": [
       "42"
      ]
     },
     "execution_count": 46,
     "metadata": {},
     "output_type": "execute_result"
    }
   ],
   "source": [
    "attr.val"
   ]
  },
  {
   "cell_type": "code",
   "execution_count": 47,
   "id": "de352524-c86a-4b43-8742-672ba6cf614f",
   "metadata": {},
   "outputs": [
    {
     "name": "stdout",
     "output_type": "stream",
     "text": [
      "__getattribute__ name='wrong'\n",
      "__getattr__ name='wrong'\n"
     ]
    },
    {
     "ename": "AttributeError",
     "evalue": "no attr wrong",
     "output_type": "error",
     "traceback": [
      "\u001b[0;31m---------------------------------------------------------------------------\u001b[0m",
      "\u001b[0;31mAttributeError\u001b[0m                            Traceback (most recent call last)",
      "Cell \u001b[0;32mIn[47], line 1\u001b[0m\n\u001b[0;32m----> 1\u001b[0m \u001b[43mattr\u001b[49m\u001b[38;5;241;43m.\u001b[39;49m\u001b[43mwrong\u001b[49m\n",
      "Cell \u001b[0;32mIn[45], line 10\u001b[0m, in \u001b[0;36mAttrAccess.__getattr__\u001b[0;34m(self, name)\u001b[0m\n\u001b[1;32m      7\u001b[0m \u001b[38;5;28;01mdef\u001b[39;00m \u001b[38;5;21m__getattr__\u001b[39m(\u001b[38;5;28mself\u001b[39m, name):\n\u001b[1;32m      8\u001b[0m     \u001b[38;5;28mprint\u001b[39m(\u001b[38;5;124mf\u001b[39m\u001b[38;5;124m\"\u001b[39m\u001b[38;5;124m__getattr__ \u001b[39m\u001b[38;5;132;01m{\u001b[39;00mname\u001b[38;5;132;01m=}\u001b[39;00m\u001b[38;5;124m\"\u001b[39m)\n\u001b[0;32m---> 10\u001b[0m     \u001b[38;5;28;01mraise\u001b[39;00m \u001b[38;5;167;01mAttributeError\u001b[39;00m(\u001b[38;5;124mf\u001b[39m\u001b[38;5;124m\"\u001b[39m\u001b[38;5;124mno attr \u001b[39m\u001b[38;5;132;01m{\u001b[39;00mname\u001b[38;5;132;01m}\u001b[39;00m\u001b[38;5;124m\"\u001b[39m)\n",
      "\u001b[0;31mAttributeError\u001b[0m: no attr wrong"
     ]
    }
   ],
   "source": [
    "attr.wrong"
   ]
  },
  {
   "cell_type": "code",
   "execution_count": 48,
   "id": "6db29267-c1bc-49fb-8968-17842f07f326",
   "metadata": {},
   "outputs": [
    {
     "name": "stdout",
     "output_type": "stream",
     "text": [
      "__setattr__ name='wrong', val='wrong'\n"
     ]
    }
   ],
   "source": [
    "attr.wrong = \"wrong\""
   ]
  },
  {
   "cell_type": "code",
   "execution_count": 50,
   "id": "b8c11b02-e4a1-424b-afa8-33e6fd95d749",
   "metadata": {},
   "outputs": [
    {
     "name": "stdout",
     "output_type": "stream",
     "text": [
      "__getattribute__ name='wrong'\n"
     ]
    },
    {
     "data": {
      "text/plain": [
       "'wrong'"
      ]
     },
     "execution_count": 50,
     "metadata": {},
     "output_type": "execute_result"
    }
   ],
   "source": [
    "attr.wrong"
   ]
  },
  {
   "cell_type": "code",
   "execution_count": 51,
   "id": "225b42cc-8cb1-4e06-a4fa-a1d896dc3600",
   "metadata": {},
   "outputs": [
    {
     "name": "stdout",
     "output_type": "stream",
     "text": [
      "__delattr__ name='wrong'\n"
     ]
    }
   ],
   "source": [
    "del attr.wrong"
   ]
  },
  {
   "cell_type": "code",
   "execution_count": null,
   "id": "445f0a31-4ffa-4e77-8bd7-4495d196c451",
   "metadata": {},
   "outputs": [],
   "source": []
  },
  {
   "cell_type": "code",
   "execution_count": 57,
   "id": "c3a5315a-886e-44e2-9668-a54263141334",
   "metadata": {},
   "outputs": [
    {
     "data": {
      "text/plain": [
       "[__main__.D, __main__.B, __main__.C, __main__.A, object]"
      ]
     },
     "execution_count": 57,
     "metadata": {},
     "output_type": "execute_result"
    }
   ],
   "source": [
    "class A:\n",
    "    pass\n",
    "\n",
    "class B(A):\n",
    "    pass\n",
    "\n",
    "class C(A):\n",
    "    pass\n",
    "\n",
    "class D(B, C):\n",
    "    pass\n",
    "\n",
    "D.mro()"
   ]
  },
  {
   "cell_type": "code",
   "execution_count": 58,
   "id": "184026b4-4f05-4017-a9d7-6337275b5f5c",
   "metadata": {},
   "outputs": [
    {
     "ename": "TypeError",
     "evalue": "Cannot create a consistent method resolution\norder (MRO) for bases A, C",
     "output_type": "error",
     "traceback": [
      "\u001b[0;31m---------------------------------------------------------------------------\u001b[0m",
      "\u001b[0;31mTypeError\u001b[0m                                 Traceback (most recent call last)",
      "Cell \u001b[0;32mIn[58], line 1\u001b[0m\n\u001b[0;32m----> 1\u001b[0m \u001b[38;5;28;43;01mclass\u001b[39;49;00m\u001b[43m \u001b[49m\u001b[38;5;21;43;01mE\u001b[39;49;00m\u001b[43m(\u001b[49m\u001b[43mA\u001b[49m\u001b[43m,\u001b[49m\u001b[43m \u001b[49m\u001b[43mC\u001b[49m\u001b[43m)\u001b[49m\u001b[43m:\u001b[49m\n\u001b[1;32m      2\u001b[0m \u001b[43m    \u001b[49m\u001b[38;5;28;43;01mpass\u001b[39;49;00m\n",
      "\u001b[0;31mTypeError\u001b[0m: Cannot create a consistent method resolution\norder (MRO) for bases A, C"
     ]
    }
   ],
   "source": [
    "class E(A, C):\n",
    "    pass"
   ]
  },
  {
   "cell_type": "code",
   "execution_count": null,
   "id": "c3eee132-ff85-4991-8734-35d1f1a67824",
   "metadata": {},
   "outputs": [],
   "source": []
  },
  {
   "cell_type": "code",
   "execution_count": null,
   "id": "fd93006f-8208-43b8-96b0-82074021b2ba",
   "metadata": {},
   "outputs": [],
   "source": []
  },
  {
   "cell_type": "code",
   "execution_count": 79,
   "id": "86f293c4-ab8d-407d-b13b-a84e7001cc5b",
   "metadata": {},
   "outputs": [],
   "source": [
    "class Person:\n",
    "    def __init__(self, name, age):\n",
    "        self.name = name\n",
    "        self.__age = age\n",
    "\n",
    "        print(f\"Person.init({self=}, {name=}, {age=})\")\n",
    "\n",
    "    @property\n",
    "    def age(self):\n",
    "        return self.__age\n",
    "\n",
    "    def eat(self):\n",
    "        print(f\"Person.eat({self=}, {self.name=}, {self.__age=})\")"
   ]
  },
  {
   "cell_type": "code",
   "execution_count": 80,
   "id": "48395116-95b0-42eb-bcbc-7440e9bf7b8a",
   "metadata": {},
   "outputs": [
    {
     "name": "stdout",
     "output_type": "stream",
     "text": [
      "Person.init(self=<__main__.Person object at 0x10b497380>, name='ww', age=99)\n",
      "Person.eat(self=<__main__.Person object at 0x10b497380>, self.name='ww', self.__age=99)\n"
     ]
    }
   ],
   "source": [
    "pers = Person(\"ww\", 99)\n",
    "pers.eat()"
   ]
  },
  {
   "cell_type": "code",
   "execution_count": 81,
   "id": "84deb23d-3fbb-4b3a-81c8-ee34c223a07b",
   "metadata": {},
   "outputs": [],
   "source": [
    "class Student(Person):\n",
    "    def __init__(self, school, *args, **kwargs):\n",
    "        print(f\"Student.init({self=}, {school=})\")\n",
    "        super().__init__(*args, **kwargs)\n",
    "\n",
    "        self.school = school\n",
    "\n",
    "    def eat(self):\n",
    "        # print(f\"Student.eat({self=}, {self.school=}, {self.name=}, {self.__age=})\")\n",
    "        print(f\"Student.eat({self=}, {self.school=}, {self.name=}, {self.age=})\")"
   ]
  },
  {
   "cell_type": "code",
   "execution_count": 82,
   "id": "335a4a9c-c62e-4bff-88e6-4362f21d743d",
   "metadata": {},
   "outputs": [
    {
     "name": "stdout",
     "output_type": "stream",
     "text": [
      "Student.init(self=<__main__.Student object at 0x10b4975f0>, school='VSU')\n",
      "Person.init(self=<__main__.Student object at 0x10b4975f0>, name='ww', age=99)\n"
     ]
    }
   ],
   "source": [
    "stud = Student(\"VSU\", \"ww\", 99)"
   ]
  },
  {
   "cell_type": "code",
   "execution_count": 83,
   "id": "09bb2c91-3b93-4ef0-9b54-cf75dbae381e",
   "metadata": {},
   "outputs": [
    {
     "name": "stdout",
     "output_type": "stream",
     "text": [
      "Student.eat(self=<__main__.Student object at 0x10b4975f0>, self.school='VSU', self.name='ww', self.age=99)\n"
     ]
    }
   ],
   "source": [
    "stud.eat()"
   ]
  },
  {
   "cell_type": "code",
   "execution_count": 84,
   "id": "b6fa7330-df2c-44f2-a3ed-520c341de320",
   "metadata": {},
   "outputs": [
    {
     "data": {
      "text/plain": [
       "{'name': 'ww', '_Person__age': 99, 'school': 'VSU'}"
      ]
     },
     "execution_count": 84,
     "metadata": {},
     "output_type": "execute_result"
    }
   ],
   "source": [
    "stud.__dict__"
   ]
  },
  {
   "cell_type": "code",
   "execution_count": null,
   "id": "1a8fdff6-2acc-473f-bcc8-11cc0fd1f59b",
   "metadata": {},
   "outputs": [],
   "source": []
  },
  {
   "cell_type": "code",
   "execution_count": null,
   "id": "f6bdc919-fdc6-49c7-804b-210cc6ce4f0f",
   "metadata": {},
   "outputs": [],
   "source": []
  },
  {
   "cell_type": "code",
   "execution_count": 87,
   "id": "244baefe-ce01-4e14-af60-dd0c87496505",
   "metadata": {},
   "outputs": [],
   "source": [
    "class Person:\n",
    "    def __init__(self, name):\n",
    "        self.name = name\n",
    "        print(f\"Person.init({self=}, {name=})\")\n",
    "\n",
    "    def eat(self):\n",
    "        print(f\"Person.eat({self=}, {self.name=})\")\n",
    "\n",
    "\n",
    "class Student(Person):\n",
    "    def __init__(self, school, *args, **kwargs):\n",
    "        print(f\"Student.init({self=}, {school=})\")\n",
    "\n",
    "        super().__init__(*args, **kwargs)\n",
    "        self.school = school\n",
    "\n",
    "    def eat(self):\n",
    "        print(f\"Student.eat({self=}, {self.school=}, {self.name=})\")\n",
    "\n",
    "\n",
    "class Teacher(Person):\n",
    "    def __init__(self, degree, *args, **kwargs):\n",
    "        print(f\"Teacher.init({self=}, {degree=})\")\n",
    "\n",
    "        super().__init__(*args, **kwargs)\n",
    "        self.degree = degree\n",
    "\n",
    "\n",
    "class Aspirant(Teacher, Student):\n",
    "    def __init__(self, *args, **kwargs):\n",
    "        print(f\"Aspirant.init({self=})\")\n",
    "\n",
    "        super().__init__(*args, **kwargs)"
   ]
  },
  {
   "cell_type": "code",
   "execution_count": 88,
   "id": "bd4b419e-0df6-4f29-a5f3-653e969783e6",
   "metadata": {},
   "outputs": [
    {
     "name": "stdout",
     "output_type": "stream",
     "text": [
      "Aspirant.init(self=<__main__.Aspirant object at 0x10ad11cd0>)\n",
      "Teacher.init(self=<__main__.Aspirant object at 0x10ad11cd0>, degree='prof')\n",
      "Student.init(self=<__main__.Aspirant object at 0x10ad11cd0>, school='VSU')\n",
      "Person.init(self=<__main__.Aspirant object at 0x10ad11cd0>, name='ww')\n"
     ]
    }
   ],
   "source": [
    "aspr = Aspirant(degree=\"prof\", school=\"VSU\", name=\"ww\")"
   ]
  },
  {
   "cell_type": "code",
   "execution_count": 89,
   "id": "983e8d85-8c0e-4e32-b027-437e1f618e6e",
   "metadata": {},
   "outputs": [
    {
     "data": {
      "text/plain": [
       "[__main__.Aspirant,\n",
       " __main__.Teacher,\n",
       " __main__.Student,\n",
       " __main__.Person,\n",
       " object]"
      ]
     },
     "execution_count": 89,
     "metadata": {},
     "output_type": "execute_result"
    }
   ],
   "source": [
    "Aspirant.mro()"
   ]
  },
  {
   "cell_type": "code",
   "execution_count": 90,
   "id": "61f883b0-b411-4b4f-b0c1-dc94db0a6619",
   "metadata": {},
   "outputs": [
    {
     "name": "stdout",
     "output_type": "stream",
     "text": [
      "Teacher.init(self=<__main__.Teacher object at 0x10b496600>, degree='prof')\n",
      "Person.init(self=<__main__.Teacher object at 0x10b496600>, name='ww')\n"
     ]
    }
   ],
   "source": [
    "tch = Teacher(degree=\"prof\", name=\"ww\")"
   ]
  },
  {
   "cell_type": "code",
   "execution_count": null,
   "id": "92b7d77e-36e0-4a83-84bc-ab0476d7b0b5",
   "metadata": {},
   "outputs": [],
   "source": []
  },
  {
   "cell_type": "code",
   "execution_count": null,
   "id": "a8db7f82-2e7d-40f1-9bb3-7d8bf914968a",
   "metadata": {},
   "outputs": [],
   "source": []
  },
  {
   "cell_type": "code",
   "execution_count": 91,
   "id": "be4c44a3-893a-4114-bb21-e537b80bf74d",
   "metadata": {},
   "outputs": [],
   "source": [
    "class IntField:\n",
    "    \n",
    "    def __get__(self, obj, objtype):\n",
    "         print(f\"get {obj} cls={objtype}\")\n",
    "            \n",
    "    def __set__(self, obj, val):\n",
    "        print(f\"set {val} for {obj}\")\n",
    "    \n",
    "    def __delete__(self, obj):\n",
    "        print(f\"delete from {obj}\")\n",
    "        \n",
    "\n",
    "class TablePerson:\n",
    "    age = IntField()\n",
    "\n",
    "    def __init__(self):\n",
    "        print(\"init\", self)"
   ]
  },
  {
   "cell_type": "code",
   "execution_count": 92,
   "id": "65d99859-fa2b-4615-9640-8929ea0eb5b0",
   "metadata": {},
   "outputs": [
    {
     "name": "stdout",
     "output_type": "stream",
     "text": [
      "init <__main__.TablePerson object at 0x10ab9fb30>\n"
     ]
    }
   ],
   "source": [
    "tb = TablePerson()"
   ]
  },
  {
   "cell_type": "code",
   "execution_count": 93,
   "id": "d69a32ba-f1d0-4223-8a8e-fe267a30e9fa",
   "metadata": {},
   "outputs": [
    {
     "name": "stdout",
     "output_type": "stream",
     "text": [
      "get <__main__.TablePerson object at 0x10ab9fb30> cls=<class '__main__.TablePerson'>\n"
     ]
    }
   ],
   "source": [
    "tb.age"
   ]
  },
  {
   "cell_type": "code",
   "execution_count": 94,
   "id": "054ac234-36c5-41cc-a231-8e4a0998e64c",
   "metadata": {},
   "outputs": [
    {
     "name": "stdout",
     "output_type": "stream",
     "text": [
      "get None cls=<class '__main__.TablePerson'>\n"
     ]
    }
   ],
   "source": [
    "TablePerson.age"
   ]
  },
  {
   "cell_type": "code",
   "execution_count": 95,
   "id": "c98b9d81-bc1d-4113-959e-3bb73ed53ec7",
   "metadata": {},
   "outputs": [
    {
     "data": {
      "text/plain": [
       "{}"
      ]
     },
     "execution_count": 95,
     "metadata": {},
     "output_type": "execute_result"
    }
   ],
   "source": [
    "tb.__dict__"
   ]
  },
  {
   "cell_type": "code",
   "execution_count": 96,
   "id": "567d9124-d52e-409d-b934-3ed882358f81",
   "metadata": {},
   "outputs": [
    {
     "data": {
      "text/plain": [
       "mappingproxy({'__module__': '__main__',\n",
       "              'age': <__main__.IntField at 0x10b48b7d0>,\n",
       "              '__init__': <function __main__.TablePerson.__init__(self)>,\n",
       "              '__dict__': <attribute '__dict__' of 'TablePerson' objects>,\n",
       "              '__weakref__': <attribute '__weakref__' of 'TablePerson' objects>,\n",
       "              '__doc__': None})"
      ]
     },
     "execution_count": 96,
     "metadata": {},
     "output_type": "execute_result"
    }
   ],
   "source": [
    "TablePerson.__dict__"
   ]
  },
  {
   "cell_type": "code",
   "execution_count": 97,
   "id": "1ff34d36-6cb7-4a0e-9e20-05c6c474cca7",
   "metadata": {},
   "outputs": [
    {
     "name": "stdout",
     "output_type": "stream",
     "text": [
      "set 99 for <__main__.TablePerson object at 0x10ab9fb30>\n"
     ]
    }
   ],
   "source": [
    "tb.age = 99"
   ]
  },
  {
   "cell_type": "code",
   "execution_count": 98,
   "id": "837db95c-f94c-4a39-85a4-de7681692174",
   "metadata": {},
   "outputs": [
    {
     "name": "stdout",
     "output_type": "stream",
     "text": [
      "delete from <__main__.TablePerson object at 0x10ab9fb30>\n"
     ]
    }
   ],
   "source": [
    "del tb.age"
   ]
  },
  {
   "cell_type": "code",
   "execution_count": null,
   "id": "08845927-114a-4d35-8f04-36e69cc347a2",
   "metadata": {},
   "outputs": [],
   "source": []
  },
  {
   "cell_type": "code",
   "execution_count": null,
   "id": "cd9c3014-5ee3-4ffb-8084-2da04a6caf68",
   "metadata": {},
   "outputs": [],
   "source": []
  },
  {
   "cell_type": "code",
   "execution_count": 101,
   "id": "38c33d35-a86d-4b31-b711-d917e0216b6c",
   "metadata": {},
   "outputs": [],
   "source": [
    "class IntField:  # плохой способ\n",
    "\n",
    "    def __init__(self):\n",
    "        self._val = None\n",
    "    \n",
    "    def __get__(self, obj, objtype):\n",
    "        print(f\"get {obj} cls={objtype}\")\n",
    "        return self._val\n",
    "            \n",
    "    def __set__(self, obj, val):\n",
    "        print(f\"set {val} for {obj}\")\n",
    "        self._val = val    \n",
    "\n",
    "\n",
    "class TablePerson:\n",
    "    age = IntField()\n",
    "\n",
    "    def __init__(self, age):\n",
    "        print(\"init\", self, age)\n",
    "        self.age = age"
   ]
  },
  {
   "cell_type": "code",
   "execution_count": 102,
   "id": "860caf84-160d-44b8-9ece-5519795b40e0",
   "metadata": {},
   "outputs": [
    {
     "name": "stdout",
     "output_type": "stream",
     "text": [
      "init <__main__.TablePerson object at 0x10b44aed0> 99\n",
      "set 99 for <__main__.TablePerson object at 0x10b44aed0>\n"
     ]
    }
   ],
   "source": [
    "tb = TablePerson(99)"
   ]
  },
  {
   "cell_type": "code",
   "execution_count": 103,
   "id": "7b52295c-83f2-4481-8b1d-6f0b82439b80",
   "metadata": {},
   "outputs": [
    {
     "name": "stdout",
     "output_type": "stream",
     "text": [
      "get <__main__.TablePerson object at 0x10b44aed0> cls=<class '__main__.TablePerson'>\n"
     ]
    },
    {
     "data": {
      "text/plain": [
       "99"
      ]
     },
     "execution_count": 103,
     "metadata": {},
     "output_type": "execute_result"
    }
   ],
   "source": [
    "tb.age"
   ]
  },
  {
   "cell_type": "code",
   "execution_count": 104,
   "id": "640ad804-9d73-4980-a616-c22e501448e9",
   "metadata": {},
   "outputs": [
    {
     "name": "stdout",
     "output_type": "stream",
     "text": [
      "set 42 for <__main__.TablePerson object at 0x10b44aed0>\n"
     ]
    }
   ],
   "source": [
    "tb.age = 42"
   ]
  },
  {
   "cell_type": "code",
   "execution_count": 105,
   "id": "68fb09e2-1c2d-4a6e-8ab0-e3bb86b6798a",
   "metadata": {},
   "outputs": [
    {
     "name": "stdout",
     "output_type": "stream",
     "text": [
      "get <__main__.TablePerson object at 0x10b44aed0> cls=<class '__main__.TablePerson'>\n"
     ]
    },
    {
     "data": {
      "text/plain": [
       "42"
      ]
     },
     "execution_count": 105,
     "metadata": {},
     "output_type": "execute_result"
    }
   ],
   "source": [
    "tb.age"
   ]
  },
  {
   "cell_type": "code",
   "execution_count": 106,
   "id": "0e94fee0-33a0-4e0d-b5b3-81a008f27eb1",
   "metadata": {},
   "outputs": [
    {
     "name": "stdout",
     "output_type": "stream",
     "text": [
      "init <__main__.TablePerson object at 0x10ada2810> 456\n",
      "set 456 for <__main__.TablePerson object at 0x10ada2810>\n"
     ]
    }
   ],
   "source": [
    "tb2 = TablePerson(456)"
   ]
  },
  {
   "cell_type": "code",
   "execution_count": 108,
   "id": "acdca553-5ca0-46c7-a124-06e294fa3b3d",
   "metadata": {},
   "outputs": [
    {
     "name": "stdout",
     "output_type": "stream",
     "text": [
      "get <__main__.TablePerson object at 0x10ada2810> cls=<class '__main__.TablePerson'>\n",
      "get <__main__.TablePerson object at 0x10b44aed0> cls=<class '__main__.TablePerson'>\n"
     ]
    },
    {
     "data": {
      "text/plain": [
       "(456, 456)"
      ]
     },
     "execution_count": 108,
     "metadata": {},
     "output_type": "execute_result"
    }
   ],
   "source": [
    "tb2.age, tb.age"
   ]
  },
  {
   "cell_type": "code",
   "execution_count": 109,
   "id": "ba61b75c-ea34-4265-9fc1-35b7321332df",
   "metadata": {},
   "outputs": [
    {
     "name": "stdout",
     "output_type": "stream",
     "text": [
      "get <__main__.TablePerson object at 0x10ada2810> cls=<class '__main__.TablePerson'>\n"
     ]
    },
    {
     "data": {
      "text/plain": [
       "456"
      ]
     },
     "execution_count": 109,
     "metadata": {},
     "output_type": "execute_result"
    }
   ],
   "source": [
    "getattr(tb2, \"age\")"
   ]
  },
  {
   "cell_type": "code",
   "execution_count": 110,
   "id": "e7d1bfd2-598a-4bef-bbb7-97a8c70ef671",
   "metadata": {},
   "outputs": [
    {
     "data": {
      "text/plain": [
       "'qwert'"
      ]
     },
     "execution_count": 110,
     "metadata": {},
     "output_type": "execute_result"
    }
   ],
   "source": [
    "getattr(tb2, \"age123\", \"qwert\")"
   ]
  },
  {
   "cell_type": "code",
   "execution_count": 111,
   "id": "1b890783-5629-4d1d-a62a-197d06cecddb",
   "metadata": {},
   "outputs": [
    {
     "name": "stdout",
     "output_type": "stream",
     "text": [
      "get <__main__.TablePerson object at 0x10ada2810> cls=<class '__main__.TablePerson'>\n"
     ]
    },
    {
     "data": {
      "text/plain": [
       "(True, False)"
      ]
     },
     "execution_count": 111,
     "metadata": {},
     "output_type": "execute_result"
    }
   ],
   "source": [
    "hasattr(tb2, \"age\"), hasattr(tb2, \"age1234334\")"
   ]
  },
  {
   "cell_type": "code",
   "execution_count": null,
   "id": "02d251c2-2adb-4db1-ac6a-acc71c0cbd86",
   "metadata": {},
   "outputs": [],
   "source": []
  },
  {
   "cell_type": "code",
   "execution_count": null,
   "id": "61718998-fc08-40cd-95fd-7dfe619f391c",
   "metadata": {},
   "outputs": [],
   "source": []
  },
  {
   "cell_type": "code",
   "execution_count": 117,
   "id": "257e4bba-746a-4624-bbac-5d3cbf853265",
   "metadata": {},
   "outputs": [],
   "source": [
    "class IntField:  # плохой способ\n",
    "\n",
    "    def __init__(self):\n",
    "        self._name = \"_hidden_age\"\n",
    "    \n",
    "    def __get__(self, obj, objtype):\n",
    "        print(f\"get {obj} cls={objtype}\")\n",
    "        if obj is None:\n",
    "            return\n",
    "\n",
    "        return getattr(obj, self._name)\n",
    "            \n",
    "    def __set__(self, obj, val):\n",
    "        print(f\"set {val} for {obj}\")\n",
    "        if not isinstance(val, int):\n",
    "            raise ValueError()\n",
    "\n",
    "        setattr(obj, self._name, val)\n",
    "\n",
    "\n",
    "class TablePerson:\n",
    "    age = IntField()\n",
    "    year = IntField()\n",
    "\n",
    "    def __init__(self, age, year):\n",
    "        print(\"init\", self, age, year)\n",
    "        self.age = age\n",
    "        self.year = year"
   ]
  },
  {
   "cell_type": "code",
   "execution_count": 113,
   "id": "eafa8137-5e6d-4bfd-a3d7-99600b5d81e9",
   "metadata": {},
   "outputs": [
    {
     "name": "stdout",
     "output_type": "stream",
     "text": [
      "init <__main__.TablePerson object at 0x10b4a44a0> 99\n",
      "set 99 for <__main__.TablePerson object at 0x10b4a44a0>\n",
      "init <__main__.TablePerson object at 0x10ad50e60> 77\n",
      "set 77 for <__main__.TablePerson object at 0x10ad50e60>\n"
     ]
    }
   ],
   "source": [
    "tb1 = TablePerson(99)\n",
    "tb2 = TablePerson(77)"
   ]
  },
  {
   "cell_type": "code",
   "execution_count": 114,
   "id": "90cea201-43de-4bdc-8df1-0be7457f0b8b",
   "metadata": {},
   "outputs": [
    {
     "name": "stdout",
     "output_type": "stream",
     "text": [
      "get <__main__.TablePerson object at 0x10b4a44a0> cls=<class '__main__.TablePerson'>\n",
      "get <__main__.TablePerson object at 0x10ad50e60> cls=<class '__main__.TablePerson'>\n"
     ]
    },
    {
     "data": {
      "text/plain": [
       "(99, 77)"
      ]
     },
     "execution_count": 114,
     "metadata": {},
     "output_type": "execute_result"
    }
   ],
   "source": [
    "tb1.age, tb2.age"
   ]
  },
  {
   "cell_type": "code",
   "execution_count": 116,
   "id": "957e47a9-f9d2-4f4a-bd78-583519ecf87c",
   "metadata": {},
   "outputs": [
    {
     "data": {
      "text/plain": [
       "({'_hidden_age': 99}, {'_hidden_age': 77})"
      ]
     },
     "execution_count": 116,
     "metadata": {},
     "output_type": "execute_result"
    }
   ],
   "source": [
    "tb1.__dict__, tb2.__dict__"
   ]
  },
  {
   "cell_type": "code",
   "execution_count": null,
   "id": "4b1866ba-5b4f-4c5e-a868-f767a2d1a60f",
   "metadata": {},
   "outputs": [],
   "source": []
  },
  {
   "cell_type": "code",
   "execution_count": 118,
   "id": "dfdb1d70-bfd8-45fd-ae8a-d4ae50a1c406",
   "metadata": {},
   "outputs": [
    {
     "name": "stdout",
     "output_type": "stream",
     "text": [
      "init <__main__.TablePerson object at 0x10ad11ee0> 99 1900\n",
      "set 99 for <__main__.TablePerson object at 0x10ad11ee0>\n",
      "set 1900 for <__main__.TablePerson object at 0x10ad11ee0>\n",
      "init <__main__.TablePerson object at 0x10acb0f80> 77 1834\n",
      "set 77 for <__main__.TablePerson object at 0x10acb0f80>\n",
      "set 1834 for <__main__.TablePerson object at 0x10acb0f80>\n"
     ]
    }
   ],
   "source": [
    "tb1 = TablePerson(99, 1900)\n",
    "tb2 = TablePerson(77, 1834)"
   ]
  },
  {
   "cell_type": "code",
   "execution_count": 119,
   "id": "eff9dd35-48ea-4153-92d3-d5363b7d61a0",
   "metadata": {},
   "outputs": [
    {
     "name": "stdout",
     "output_type": "stream",
     "text": [
      "get <__main__.TablePerson object at 0x10ad11ee0> cls=<class '__main__.TablePerson'>\n",
      "get <__main__.TablePerson object at 0x10ad11ee0> cls=<class '__main__.TablePerson'>\n",
      "get <__main__.TablePerson object at 0x10acb0f80> cls=<class '__main__.TablePerson'>\n",
      "get <__main__.TablePerson object at 0x10acb0f80> cls=<class '__main__.TablePerson'>\n"
     ]
    },
    {
     "data": {
      "text/plain": [
       "(1900, 1900, 1834, 1834)"
      ]
     },
     "execution_count": 119,
     "metadata": {},
     "output_type": "execute_result"
    }
   ],
   "source": [
    "tb1.age, tb1.year, tb2.age, tb2.year"
   ]
  },
  {
   "cell_type": "code",
   "execution_count": 120,
   "id": "ab5645e4-0b95-4d39-805b-f346ecef07b0",
   "metadata": {},
   "outputs": [
    {
     "name": "stdout",
     "output_type": "stream",
     "text": [
      "set 123456 for <__main__.TablePerson object at 0x10ad11ee0>\n"
     ]
    }
   ],
   "source": [
    "tb1.age = 123456"
   ]
  },
  {
   "cell_type": "code",
   "execution_count": 121,
   "id": "be5c0ced-db23-4291-90f6-19a0a418b24b",
   "metadata": {},
   "outputs": [
    {
     "name": "stdout",
     "output_type": "stream",
     "text": [
      "get <__main__.TablePerson object at 0x10ad11ee0> cls=<class '__main__.TablePerson'>\n",
      "get <__main__.TablePerson object at 0x10ad11ee0> cls=<class '__main__.TablePerson'>\n",
      "get <__main__.TablePerson object at 0x10acb0f80> cls=<class '__main__.TablePerson'>\n",
      "get <__main__.TablePerson object at 0x10acb0f80> cls=<class '__main__.TablePerson'>\n"
     ]
    },
    {
     "data": {
      "text/plain": [
       "(123456, 123456, 1834, 1834)"
      ]
     },
     "execution_count": 121,
     "metadata": {},
     "output_type": "execute_result"
    }
   ],
   "source": [
    "tb1.age, tb1.year, tb2.age, tb2.year"
   ]
  },
  {
   "cell_type": "code",
   "execution_count": 122,
   "id": "c3e0a71d-8d9f-4b0a-9b04-2ab4150167fe",
   "metadata": {},
   "outputs": [
    {
     "data": {
      "text/plain": [
       "{'_hidden_age': 123456}"
      ]
     },
     "execution_count": 122,
     "metadata": {},
     "output_type": "execute_result"
    }
   ],
   "source": [
    "tb1.__dict__"
   ]
  },
  {
   "cell_type": "code",
   "execution_count": null,
   "id": "09c743c9-4ccb-4ddc-85eb-515def88a06c",
   "metadata": {},
   "outputs": [],
   "source": []
  },
  {
   "cell_type": "code",
   "execution_count": null,
   "id": "df995aab-df68-439c-9a79-0ef1568ed0bf",
   "metadata": {},
   "outputs": [],
   "source": []
  },
  {
   "cell_type": "code",
   "execution_count": 130,
   "id": "27933725-48ef-4e32-9aea-39d952798a3f",
   "metadata": {},
   "outputs": [],
   "source": [
    "class IntField:\n",
    "\n",
    "    def __set_name__(self, class_type, name):\n",
    "        self._name = f\"_hidden_int_{name}\"\n",
    "    \n",
    "    def __get__(self, obj, objtype):\n",
    "        print(f\"get {obj} cls={objtype}\")\n",
    "        if obj is None:\n",
    "            return\n",
    "\n",
    "        return getattr(obj, self._name)\n",
    "            \n",
    "    def __set__(self, obj, val):\n",
    "        print(f\"set {val} for {obj}\")\n",
    "        if not isinstance(val, int):\n",
    "            raise ValueError()\n",
    "\n",
    "        setattr(obj, self._name, val)\n",
    "\n",
    "\n",
    "class TablePerson:\n",
    "    age = IntField()\n",
    "    year = IntField()\n",
    "\n",
    "    def __init__(self, age, year):\n",
    "        print(\"init\", self, age, year)\n",
    "        self.age = age\n",
    "        self.year = year"
   ]
  },
  {
   "cell_type": "code",
   "execution_count": 131,
   "id": "7c98a6c3-b7e2-4e7a-9a04-01391790789d",
   "metadata": {},
   "outputs": [
    {
     "name": "stdout",
     "output_type": "stream",
     "text": [
      "init <__main__.TablePerson object at 0x10ad11ee0> 99 1900\n",
      "set 99 for <__main__.TablePerson object at 0x10ad11ee0>\n",
      "set 1900 for <__main__.TablePerson object at 0x10ad11ee0>\n",
      "init <__main__.TablePerson object at 0x10ad12cc0> 77 1834\n",
      "set 77 for <__main__.TablePerson object at 0x10ad12cc0>\n",
      "set 1834 for <__main__.TablePerson object at 0x10ad12cc0>\n"
     ]
    }
   ],
   "source": [
    "tb1 = TablePerson(99, 1900)\n",
    "tb2 = TablePerson(77, 1834)"
   ]
  },
  {
   "cell_type": "code",
   "execution_count": 132,
   "id": "9483bc08-01bf-452f-9295-bfb414cfee5d",
   "metadata": {},
   "outputs": [
    {
     "name": "stdout",
     "output_type": "stream",
     "text": [
      "get <__main__.TablePerson object at 0x10ad11ee0> cls=<class '__main__.TablePerson'>\n",
      "get <__main__.TablePerson object at 0x10ad11ee0> cls=<class '__main__.TablePerson'>\n",
      "get <__main__.TablePerson object at 0x10ad12cc0> cls=<class '__main__.TablePerson'>\n",
      "get <__main__.TablePerson object at 0x10ad12cc0> cls=<class '__main__.TablePerson'>\n"
     ]
    },
    {
     "data": {
      "text/plain": [
       "(99, 1900, 77, 1834)"
      ]
     },
     "execution_count": 132,
     "metadata": {},
     "output_type": "execute_result"
    }
   ],
   "source": [
    "tb1.age, tb1.year, tb2.age, tb2.year"
   ]
  },
  {
   "cell_type": "code",
   "execution_count": 133,
   "id": "32e6bcd5-5141-4f66-8222-8d8460b93f52",
   "metadata": {},
   "outputs": [
    {
     "data": {
      "text/plain": [
       "{'_hidden_int_age': 99, '_hidden_int_year': 1900}"
      ]
     },
     "execution_count": 133,
     "metadata": {},
     "output_type": "execute_result"
    }
   ],
   "source": [
    "tb1.__dict__"
   ]
  },
  {
   "cell_type": "code",
   "execution_count": 134,
   "id": "cf345d46-2086-4086-814b-da4c63f19b3a",
   "metadata": {},
   "outputs": [
    {
     "name": "stdout",
     "output_type": "stream",
     "text": [
      "set 5678 for <__main__.TablePerson object at 0x10ad11ee0>\n"
     ]
    }
   ],
   "source": [
    "tb1.year = 5678"
   ]
  },
  {
   "cell_type": "code",
   "execution_count": 135,
   "id": "4f04f779-b6bd-44c2-89c1-ae0b57fa8ab6",
   "metadata": {},
   "outputs": [
    {
     "name": "stdout",
     "output_type": "stream",
     "text": [
      "get <__main__.TablePerson object at 0x10ad11ee0> cls=<class '__main__.TablePerson'>\n",
      "get <__main__.TablePerson object at 0x10ad11ee0> cls=<class '__main__.TablePerson'>\n",
      "get <__main__.TablePerson object at 0x10ad12cc0> cls=<class '__main__.TablePerson'>\n",
      "get <__main__.TablePerson object at 0x10ad12cc0> cls=<class '__main__.TablePerson'>\n"
     ]
    },
    {
     "data": {
      "text/plain": [
       "(99, 5678, 77, 1834)"
      ]
     },
     "execution_count": 135,
     "metadata": {},
     "output_type": "execute_result"
    }
   ],
   "source": [
    "tb1.age, tb1.year, tb2.age, tb2.year"
   ]
  },
  {
   "cell_type": "code",
   "execution_count": null,
   "id": "4db7b1bd-5956-42ab-8faa-f7723eefe1ba",
   "metadata": {},
   "outputs": [],
   "source": []
  },
  {
   "cell_type": "code",
   "execution_count": null,
   "id": "46f19003-9cc6-401e-af14-cba024ae6b93",
   "metadata": {},
   "outputs": [],
   "source": []
  },
  {
   "cell_type": "code",
   "execution_count": 136,
   "id": "016c5e33-8bf1-4963-a5bc-6c00487f29eb",
   "metadata": {},
   "outputs": [],
   "source": [
    "class Person:\n",
    "    pass"
   ]
  },
  {
   "cell_type": "code",
   "execution_count": 137,
   "id": "6caf8172-17d9-488a-bdd3-712888ba44d2",
   "metadata": {},
   "outputs": [
    {
     "data": {
      "text/plain": [
       "__main__.Person"
      ]
     },
     "execution_count": 137,
     "metadata": {},
     "output_type": "execute_result"
    }
   ],
   "source": [
    "type(Person())"
   ]
  },
  {
   "cell_type": "code",
   "execution_count": 139,
   "id": "47781af0-bab3-4217-8e58-8d9b29c4ab5e",
   "metadata": {},
   "outputs": [
    {
     "data": {
      "text/plain": [
       "(int, dict)"
      ]
     },
     "execution_count": 139,
     "metadata": {},
     "output_type": "execute_result"
    }
   ],
   "source": [
    "type(1), type({1: 11})"
   ]
  },
  {
   "cell_type": "code",
   "execution_count": 140,
   "id": "79436dbb-d52c-49e0-b1ff-984691177946",
   "metadata": {},
   "outputs": [
    {
     "data": {
      "text/plain": [
       "function"
      ]
     },
     "execution_count": 140,
     "metadata": {},
     "output_type": "execute_result"
    }
   ],
   "source": [
    "type(func)"
   ]
  },
  {
   "cell_type": "code",
   "execution_count": 141,
   "id": "571fb79e-a2e7-481f-8b7b-88d232d8f98e",
   "metadata": {},
   "outputs": [
    {
     "data": {
      "text/plain": [
       "type"
      ]
     },
     "execution_count": 141,
     "metadata": {},
     "output_type": "execute_result"
    }
   ],
   "source": [
    "type(Person)"
   ]
  },
  {
   "cell_type": "code",
   "execution_count": 147,
   "id": "d766f564-3d55-4929-8ace-ab3bcbb3a7bd",
   "metadata": {},
   "outputs": [
    {
     "data": {
      "text/plain": [
       "(True, True, True, False)"
      ]
     },
     "execution_count": 147,
     "metadata": {},
     "output_type": "execute_result"
    }
   ],
   "source": [
    "isinstance(type, object), isinstance(Person(), object), isinstance(Person, object), issubclass(Person, dict)"
   ]
  },
  {
   "cell_type": "code",
   "execution_count": 146,
   "id": "b6cd70b2-571a-4d56-af06-cfaae8f937b7",
   "metadata": {},
   "outputs": [
    {
     "data": {
      "text/plain": [
       "(True, False, True)"
      ]
     },
     "execution_count": 146,
     "metadata": {},
     "output_type": "execute_result"
    }
   ],
   "source": [
    "issubclass(type, object), issubclass(object, type), isinstance(object, type)"
   ]
  },
  {
   "cell_type": "code",
   "execution_count": 148,
   "id": "6e084a45-622e-4c3b-9729-1b7506e1fd13",
   "metadata": {},
   "outputs": [
    {
     "data": {
      "text/plain": [
       "True"
      ]
     },
     "execution_count": 148,
     "metadata": {},
     "output_type": "execute_result"
    }
   ],
   "source": [
    "isinstance(object, object)"
   ]
  },
  {
   "cell_type": "code",
   "execution_count": 149,
   "id": "f4f44ec1-5d1d-4c8e-929a-7c6243c3f31a",
   "metadata": {},
   "outputs": [
    {
     "data": {
      "text/plain": [
       "True"
      ]
     },
     "execution_count": 149,
     "metadata": {},
     "output_type": "execute_result"
    }
   ],
   "source": [
    "isinstance(type, type)"
   ]
  },
  {
   "cell_type": "code",
   "execution_count": 142,
   "id": "96e1280b-f704-46f3-a389-05a0d1a79f38",
   "metadata": {},
   "outputs": [],
   "source": [
    "class A:\n",
    "    pass\n",
    "\n",
    "class B(A):\n",
    "    pass"
   ]
  },
  {
   "cell_type": "code",
   "execution_count": null,
   "id": "a3027b02-2e76-4e21-9894-a2230544abdf",
   "metadata": {},
   "outputs": [],
   "source": []
  },
  {
   "cell_type": "code",
   "execution_count": 150,
   "id": "71ede5e9-72e7-443a-a3f7-a38d92ac0e94",
   "metadata": {},
   "outputs": [],
   "source": [
    "class Foo:\n",
    "    name = \"foo_name\"\n",
    "\n",
    "    def __init__(self, val):\n",
    "        self.val = val"
   ]
  },
  {
   "cell_type": "code",
   "execution_count": 151,
   "id": "ee63deb3-7d9a-4107-bd42-01007a467515",
   "metadata": {},
   "outputs": [],
   "source": [
    "Bar = type(\"Bar\", (Foo,), {\"age\": 99, \"print\": lambda x: print(x)})"
   ]
  },
  {
   "cell_type": "code",
   "execution_count": 152,
   "id": "d894c4f2-df82-48dc-a4c2-fd93c0523c61",
   "metadata": {},
   "outputs": [],
   "source": [
    "b = Bar(20)"
   ]
  },
  {
   "cell_type": "code",
   "execution_count": 153,
   "id": "1d2d6c69-a866-470f-8692-24b3accbc816",
   "metadata": {},
   "outputs": [
    {
     "data": {
      "text/plain": [
       "{'val': 20}"
      ]
     },
     "execution_count": 153,
     "metadata": {},
     "output_type": "execute_result"
    }
   ],
   "source": [
    "b.__dict__"
   ]
  },
  {
   "cell_type": "code",
   "execution_count": 154,
   "id": "6bc196df-d8b4-4409-914e-850e53631753",
   "metadata": {},
   "outputs": [
    {
     "data": {
      "text/plain": [
       "mappingproxy({'age': 99,\n",
       "              'print': <function __main__.<lambda>(x)>,\n",
       "              '__module__': '__main__',\n",
       "              '__doc__': None})"
      ]
     },
     "execution_count": 154,
     "metadata": {},
     "output_type": "execute_result"
    }
   ],
   "source": [
    "Bar.__dict__"
   ]
  },
  {
   "cell_type": "code",
   "execution_count": 156,
   "id": "76d27b85-4c4d-4ad9-beba-cb32abd2646c",
   "metadata": {},
   "outputs": [
    {
     "name": "stdout",
     "output_type": "stream",
     "text": [
      "<__main__.Bar object at 0x10b0c8e30>\n"
     ]
    }
   ],
   "source": [
    "b.print()"
   ]
  },
  {
   "cell_type": "code",
   "execution_count": 157,
   "id": "79fa5e3f-b3a0-4d23-b1f0-34dd4c8f5ebc",
   "metadata": {},
   "outputs": [
    {
     "data": {
      "text/plain": [
       "<__main__.Bar at 0x10b0c8e30>"
      ]
     },
     "execution_count": 157,
     "metadata": {},
     "output_type": "execute_result"
    }
   ],
   "source": [
    "b"
   ]
  },
  {
   "cell_type": "code",
   "execution_count": 159,
   "id": "b6c3cf2c-fa69-4db9-80d6-18cb98b9e265",
   "metadata": {},
   "outputs": [
    {
     "name": "stdout",
     "output_type": "stream",
     "text": [
      "<__main__.Bar object at 0x10b0c8e30>\n"
     ]
    }
   ],
   "source": [
    "Bar.print(b)"
   ]
  },
  {
   "cell_type": "code",
   "execution_count": 160,
   "id": "85f257af-c9aa-484a-882c-24e99fe39521",
   "metadata": {},
   "outputs": [
    {
     "data": {
      "text/plain": [
       "<__main__.Bar at 0x10b0c8e30>"
      ]
     },
     "execution_count": 160,
     "metadata": {},
     "output_type": "execute_result"
    }
   ],
   "source": [
    "b.print.__self__"
   ]
  },
  {
   "cell_type": "code",
   "execution_count": 161,
   "id": "56eec114-38dc-43a7-b00c-cbbfccab9cb5",
   "metadata": {},
   "outputs": [
    {
     "data": {
      "text/plain": [
       "<function __main__.<lambda>(x)>"
      ]
     },
     "execution_count": 161,
     "metadata": {},
     "output_type": "execute_result"
    }
   ],
   "source": [
    "b.print.__func__"
   ]
  },
  {
   "cell_type": "code",
   "execution_count": 163,
   "id": "4eb2b7f4-05c1-4ed8-8ab4-645d21e79c99",
   "metadata": {},
   "outputs": [
    {
     "data": {
      "text/plain": [
       "'foo_name'"
      ]
     },
     "execution_count": 163,
     "metadata": {},
     "output_type": "execute_result"
    }
   ],
   "source": [
    "b.name"
   ]
  },
  {
   "cell_type": "code",
   "execution_count": 164,
   "id": "39244b48-09aa-4e3d-ab5b-8641d57af54d",
   "metadata": {},
   "outputs": [
    {
     "data": {
      "text/plain": [
       "[__main__.Bar, __main__.Foo, object]"
      ]
     },
     "execution_count": 164,
     "metadata": {},
     "output_type": "execute_result"
    }
   ],
   "source": [
    "Bar.mro()"
   ]
  },
  {
   "cell_type": "code",
   "execution_count": null,
   "id": "0f9ab7a8-a473-47d0-a78a-f1e8a060d62a",
   "metadata": {},
   "outputs": [],
   "source": []
  },
  {
   "cell_type": "code",
   "execution_count": 165,
   "id": "15ffe128-faf9-4aff-b09e-96cc4d8110b9",
   "metadata": {},
   "outputs": [],
   "source": [
    "class AMeta(type):\n",
    "    def __new__(mcs, name, bases, classdict, **kwargs):\n",
    "        cls = super().__new__(mcs, name, bases, classdict)\n",
    "        print('Meta __new__', cls)\n",
    "\n",
    "        return cls\n",
    "\n",
    "    def __init__(cls, name, bases, classdict, **kwargs):\n",
    "        print('Meta __init__', cls, name, bases, classdict)\n",
    "        super().__init__(name, bases, classdict, **kwargs)\n",
    "\n",
    "    def __call__(cls, *args, **kwargs):\n",
    "        print('Meta __call__', cls, args, kwargs)\n",
    "        return super().__call__(*args, **kwargs)\n",
    "\n",
    "    @classmethod\n",
    "    def __prepare__(mcs, name, bases, **kwargs):\n",
    "        print('Meta __prepare__', mcs, name, bases, kwargs)\n",
    "        \n",
    "        return {'added_attr_a': 2, 'added_attr_b': 99}"
   ]
  },
  {
   "cell_type": "code",
   "execution_count": 166,
   "id": "87451ba9-6fcd-4fe3-83ba-d642bf664afc",
   "metadata": {},
   "outputs": [
    {
     "name": "stdout",
     "output_type": "stream",
     "text": [
      "Meta __prepare__ <class '__main__.AMeta'> Person () {}\n",
      "Meta __new__ <class '__main__.Person'>\n",
      "Meta __init__ <class '__main__.Person'> Person () {'added_attr_a': 2, 'added_attr_b': 99, '__module__': '__main__', '__qualname__': 'Person', 'age': 99, '__new__': <function Person.__new__ at 0x10b92df80>, '__init__': <function Person.__init__ at 0x10b912de0>, '__classcell__': <cell at 0x10b4a6680: AMeta object at 0x7fb72ed80450>}\n"
     ]
    }
   ],
   "source": [
    "class Person(metaclass=AMeta):\n",
    "    age = 99\n",
    "\n",
    "    def __new__(cls, *args, **kwargs):\n",
    "        inst = super().__new__(cls)\n",
    "        print(f\"Person.__new__, {cls=}\", inst)\n",
    "        return inst\n",
    "\n",
    "    def __init__(self, name):\n",
    "        print(\"Person.__init__\", name, self)\n",
    "        self.name = name"
   ]
  },
  {
   "cell_type": "code",
   "execution_count": 167,
   "id": "5e7354f1-f0e7-428d-93bd-1dd36c0f23b5",
   "metadata": {},
   "outputs": [
    {
     "data": {
      "text/plain": [
       "mappingproxy({'added_attr_a': 2,\n",
       "              'added_attr_b': 99,\n",
       "              '__module__': '__main__',\n",
       "              'age': 99,\n",
       "              '__new__': <staticmethod(<function Person.__new__ at 0x10b92df80>)>,\n",
       "              '__init__': <function __main__.Person.__init__(self, name)>,\n",
       "              '__dict__': <attribute '__dict__' of 'Person' objects>,\n",
       "              '__weakref__': <attribute '__weakref__' of 'Person' objects>,\n",
       "              '__doc__': None})"
      ]
     },
     "execution_count": 167,
     "metadata": {},
     "output_type": "execute_result"
    }
   ],
   "source": [
    "Person.__dict__"
   ]
  },
  {
   "cell_type": "code",
   "execution_count": 168,
   "id": "e41ec62e-15a5-492e-9cfb-bba14475f141",
   "metadata": {},
   "outputs": [
    {
     "name": "stdout",
     "output_type": "stream",
     "text": [
      "Meta __call__ <class '__main__.Person'> ('walter',) {}\n",
      "Person.__new__, cls=<class '__main__.Person'> <__main__.Person object at 0x10b966840>\n",
      "Person.__init__ walter <__main__.Person object at 0x10b966840>\n"
     ]
    }
   ],
   "source": [
    "ww = Person(\"walter\")"
   ]
  },
  {
   "cell_type": "code",
   "execution_count": null,
   "id": "f239bbb1-a203-47cf-8ac2-306eac5e6574",
   "metadata": {},
   "outputs": [],
   "source": []
  },
  {
   "cell_type": "code",
   "execution_count": 169,
   "id": "4eaa5460-e3aa-4b35-9660-e52272c83db4",
   "metadata": {},
   "outputs": [
    {
     "name": "stdout",
     "output_type": "stream",
     "text": [
      "Meta __new__ <class '__main__.Other'>\n",
      "Meta __init__ <class '__main__.Other'> Other (<class '__main__.Person'>,) {}\n"
     ]
    }
   ],
   "source": [
    "Other = AMeta(\"Other\", (Person,), {})"
   ]
  },
  {
   "cell_type": "code",
   "execution_count": 171,
   "id": "dae02fb6-745d-4d52-8e7c-1da395bde5af",
   "metadata": {},
   "outputs": [
    {
     "data": {
      "text/plain": [
       "<function Other.mro()>"
      ]
     },
     "execution_count": 171,
     "metadata": {},
     "output_type": "execute_result"
    }
   ],
   "source": [
    "Other.mro"
   ]
  },
  {
   "cell_type": "code",
   "execution_count": 172,
   "id": "a4e7fb7c-5226-4734-9417-2c83eb8f8775",
   "metadata": {},
   "outputs": [
    {
     "ename": "TypeError",
     "evalue": "AMeta.__new__() missing 2 required positional arguments: 'bases' and 'classdict'",
     "output_type": "error",
     "traceback": [
      "\u001b[0;31m---------------------------------------------------------------------------\u001b[0m",
      "\u001b[0;31mTypeError\u001b[0m                                 Traceback (most recent call last)",
      "Cell \u001b[0;32mIn[172], line 1\u001b[0m\n\u001b[0;32m----> 1\u001b[0m \u001b[43mAMeta\u001b[49m\u001b[43m(\u001b[49m\u001b[38;5;241;43m1\u001b[39;49m\u001b[43m)\u001b[49m\n",
      "\u001b[0;31mTypeError\u001b[0m: AMeta.__new__() missing 2 required positional arguments: 'bases' and 'classdict'"
     ]
    }
   ],
   "source": [
    "AMeta(1)"
   ]
  },
  {
   "cell_type": "code",
   "execution_count": null,
   "id": "e5c44c6b-e1d1-40eb-a024-9df812874915",
   "metadata": {},
   "outputs": [],
   "source": []
  },
  {
   "cell_type": "code",
   "execution_count": 181,
   "id": "474501c6-f27a-4fe3-b7e7-0593c3d0a99a",
   "metadata": {},
   "outputs": [],
   "source": [
    "class Singleton:\n",
    "    _instance = None\n",
    "    \n",
    "    def __new__(cls, *args, **kwargs):\n",
    "        if cls._instance is None:\n",
    "            cls._instance = super().__new__(cls)\n",
    "        return cls._instance\n",
    "\n",
    "\n",
    "class Animal(Singleton):\n",
    "    def __init__(self, name):\n",
    "        print(\"Animal\", name)\n",
    "        self.name = name"
   ]
  },
  {
   "cell_type": "code",
   "execution_count": 182,
   "id": "cd69a30b-5176-49d8-8831-1618e0ad68fb",
   "metadata": {},
   "outputs": [
    {
     "name": "stdout",
     "output_type": "stream",
     "text": [
      "Animal tiger\n"
     ]
    }
   ],
   "source": [
    "s1 = Animal(\"tiger\")"
   ]
  },
  {
   "cell_type": "code",
   "execution_count": 183,
   "id": "5dd413ab-a38f-474b-a370-dfd110392003",
   "metadata": {},
   "outputs": [
    {
     "data": {
      "text/plain": [
       "4489289440"
      ]
     },
     "execution_count": 183,
     "metadata": {},
     "output_type": "execute_result"
    }
   ],
   "source": [
    "id(s1)"
   ]
  },
  {
   "cell_type": "code",
   "execution_count": 184,
   "id": "208c0695-34b1-41a4-9c5b-fe780d1eef1b",
   "metadata": {},
   "outputs": [
    {
     "name": "stdout",
     "output_type": "stream",
     "text": [
      "Animal zebra\n"
     ]
    }
   ],
   "source": [
    "s2 = Animal(\"zebra\")"
   ]
  },
  {
   "cell_type": "code",
   "execution_count": 186,
   "id": "9cd8a499-36bc-4fcc-b203-a76eb7746a49",
   "metadata": {},
   "outputs": [
    {
     "data": {
      "text/plain": [
       "4489289440"
      ]
     },
     "execution_count": 186,
     "metadata": {},
     "output_type": "execute_result"
    }
   ],
   "source": [
    "id(s2)"
   ]
  },
  {
   "cell_type": "code",
   "execution_count": 187,
   "id": "0cda2014-2c78-499b-9c72-ba18eb278aab",
   "metadata": {},
   "outputs": [
    {
     "data": {
      "text/plain": [
       "True"
      ]
     },
     "execution_count": 187,
     "metadata": {},
     "output_type": "execute_result"
    }
   ],
   "source": [
    "s1 is s2"
   ]
  },
  {
   "cell_type": "code",
   "execution_count": 188,
   "id": "5c49f66f-6690-4eed-babc-bc541ce1490a",
   "metadata": {},
   "outputs": [
    {
     "data": {
      "text/plain": [
       "'zebra'"
      ]
     },
     "execution_count": 188,
     "metadata": {},
     "output_type": "execute_result"
    }
   ],
   "source": [
    "s1.name"
   ]
  },
  {
   "cell_type": "code",
   "execution_count": null,
   "id": "2ea3f980-5c35-463e-9549-8e3efc4c23d3",
   "metadata": {},
   "outputs": [],
   "source": []
  },
  {
   "cell_type": "code",
   "execution_count": 199,
   "id": "baa445ff-8312-4625-8ad5-b381305e32f3",
   "metadata": {},
   "outputs": [],
   "source": [
    "class SingletonMeta(type):\n",
    "    _instances = {}\n",
    "\n",
    "    def __call__(cls, *args, **kwargs):\n",
    "        print(\"SingletonMeta\", cls)\n",
    "\n",
    "        if cls not in cls._instances:\n",
    "            cls._instances[cls] = super().__call__(*args, **kwargs)\n",
    "\n",
    "        return cls._instances[cls]\n",
    "\n",
    "\n",
    "class DBConnector(metaclass=SingletonMeta):\n",
    "    def __init__(self, dbname):\n",
    "        print(\"DBConn\", dbname)\n",
    "        self.dbname = dbname\n",
    "\n",
    "\n",
    "class HttpConnector(metaclass=SingletonMeta):\n",
    "    def __init__(self, name):\n",
    "        print(\"Http\", name)\n",
    "        self.name = name"
   ]
  },
  {
   "cell_type": "code",
   "execution_count": 200,
   "id": "99f14e76-7a05-4ea9-88c7-57bc7dce1799",
   "metadata": {},
   "outputs": [
    {
     "name": "stdout",
     "output_type": "stream",
     "text": [
      "SingletonMeta <class '__main__.DBConnector'>\n",
      "DBConn mysql\n"
     ]
    }
   ],
   "source": [
    "conn1 = DBConnector(\"mysql\")"
   ]
  },
  {
   "cell_type": "code",
   "execution_count": 193,
   "id": "4e0baab3-a966-44a6-b06d-0dff915e7b9f",
   "metadata": {},
   "outputs": [
    {
     "name": "stdout",
     "output_type": "stream",
     "text": [
      "SingletonMeta <class '__main__.DBConnector'>\n"
     ]
    }
   ],
   "source": [
    "conn2 = DBConnect\n",
    "or(\"posgre\")"
   ]
  },
  {
   "cell_type": "code",
   "execution_count": 201,
   "id": "2ba286e7-b18a-4e4c-9f3c-9aaf89e932cb",
   "metadata": {},
   "outputs": [
    {
     "data": {
      "text/plain": [
       "(False, 'mysql', 'mysql')"
      ]
     },
     "execution_count": 201,
     "metadata": {},
     "output_type": "execute_result"
    }
   ],
   "source": [
    "conn1 is conn2, conn1.dbname, conn2.dbname"
   ]
  },
  {
   "cell_type": "code",
   "execution_count": 196,
   "id": "82f797aa-f7a0-4e4f-9a5d-151b0a126bda",
   "metadata": {},
   "outputs": [
    {
     "data": {
      "text/plain": [
       "mappingproxy({'__module__': '__main__',\n",
       "              '__init__': <function __main__.DBConnector.__init__(self, dbname)>,\n",
       "              '__dict__': <attribute '__dict__' of 'DBConnector' objects>,\n",
       "              '__weakref__': <attribute '__weakref__' of 'DBConnector' objects>,\n",
       "              '__doc__': None})"
      ]
     },
     "execution_count": 196,
     "metadata": {},
     "output_type": "execute_result"
    }
   ],
   "source": [
    "DBConnector.__dict__"
   ]
  },
  {
   "cell_type": "code",
   "execution_count": 197,
   "id": "6ca59dab-862e-44bc-8f5c-27c81453ee8e",
   "metadata": {},
   "outputs": [
    {
     "data": {
      "text/plain": [
       "{__main__.DBConnector: <__main__.DBConnector at 0x10beb1370>}"
      ]
     },
     "execution_count": 197,
     "metadata": {},
     "output_type": "execute_result"
    }
   ],
   "source": [
    "DBConnector._instances"
   ]
  },
  {
   "cell_type": "code",
   "execution_count": 198,
   "id": "eaf658d8-6411-4184-80d4-c73af537bfbc",
   "metadata": {},
   "outputs": [
    {
     "data": {
      "text/plain": [
       "{__main__.DBConnector: <__main__.DBConnector at 0x10beb1370>}"
      ]
     },
     "execution_count": 198,
     "metadata": {},
     "output_type": "execute_result"
    }
   ],
   "source": [
    "SingletonMeta._instances"
   ]
  },
  {
   "cell_type": "code",
   "execution_count": null,
   "id": "eedc0e67-4903-4121-9e13-d6f9c0be1ffb",
   "metadata": {},
   "outputs": [],
   "source": []
  },
  {
   "cell_type": "code",
   "execution_count": 202,
   "id": "e5139349-6ee8-4e9a-8e05-25d98e99e509",
   "metadata": {},
   "outputs": [
    {
     "name": "stdout",
     "output_type": "stream",
     "text": [
      "SingletonMeta <class '__main__.HttpConnector'>\n",
      "Http tcp\n"
     ]
    }
   ],
   "source": [
    "http1 = HttpConnector(\"tcp\")"
   ]
  },
  {
   "cell_type": "code",
   "execution_count": 203,
   "id": "3b28897b-9332-4847-8dfb-3dd4c99ebf31",
   "metadata": {},
   "outputs": [
    {
     "name": "stdout",
     "output_type": "stream",
     "text": [
      "SingletonMeta <class '__main__.HttpConnector'>\n"
     ]
    }
   ],
   "source": [
    "http2 = HttpConnector(\"upd\")"
   ]
  },
  {
   "cell_type": "code",
   "execution_count": 204,
   "id": "29c6482c-ee8e-4b2c-bc85-3f0653065dd5",
   "metadata": {},
   "outputs": [
    {
     "data": {
      "text/plain": [
       "True"
      ]
     },
     "execution_count": 204,
     "metadata": {},
     "output_type": "execute_result"
    }
   ],
   "source": [
    "http1 is http2"
   ]
  },
  {
   "cell_type": "code",
   "execution_count": 205,
   "id": "f5e55a38-355a-4133-b6b9-a36537b52b07",
   "metadata": {},
   "outputs": [
    {
     "data": {
      "text/plain": [
       "<__main__.HttpConnector at 0x10b965d60>"
      ]
     },
     "execution_count": 205,
     "metadata": {},
     "output_type": "execute_result"
    }
   ],
   "source": [
    "http1"
   ]
  },
  {
   "cell_type": "code",
   "execution_count": 206,
   "id": "4a516ab5-7e66-4801-af3a-f21e55af2271",
   "metadata": {},
   "outputs": [
    {
     "data": {
      "text/plain": [
       "{__main__.DBConnector: <__main__.DBConnector at 0x10b95be00>,\n",
       " __main__.HttpConnector: <__main__.HttpConnector at 0x10b965d60>}"
      ]
     },
     "execution_count": 206,
     "metadata": {},
     "output_type": "execute_result"
    }
   ],
   "source": [
    "SingletonMeta._instances"
   ]
  },
  {
   "cell_type": "code",
   "execution_count": null,
   "id": "d8837c63-f67f-442f-8ff8-f53afb123141",
   "metadata": {},
   "outputs": [],
   "source": []
  }
 ],
 "metadata": {
  "kernelspec": {
   "display_name": "Python 3 (ipykernel)",
   "language": "python",
   "name": "python3"
  },
  "language_info": {
   "codemirror_mode": {
    "name": "ipython",
    "version": 3
   },
   "file_extension": ".py",
   "mimetype": "text/x-python",
   "name": "python",
   "nbconvert_exporter": "python",
   "pygments_lexer": "ipython3",
   "version": "3.12.5"
  }
 },
 "nbformat": 4,
 "nbformat_minor": 5
}
