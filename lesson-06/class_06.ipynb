{
 "cells": [
  {
   "cell_type": "code",
   "execution_count": 4,
   "id": "22964870-c65e-41e7-81df-077a22be2e9a",
   "metadata": {},
   "outputs": [],
   "source": [
    "import threading"
   ]
  },
  {
   "cell_type": "code",
   "execution_count": 5,
   "id": "966aec91-c970-4915-8eda-b5643f66da45",
   "metadata": {},
   "outputs": [
    {
     "data": {
      "text/plain": [
       "8"
      ]
     },
     "execution_count": 5,
     "metadata": {},
     "output_type": "execute_result"
    }
   ],
   "source": [
    "threading.active_count()"
   ]
  },
  {
   "cell_type": "code",
   "execution_count": 6,
   "id": "46376e78-e6a6-4a32-9118-800eea0308ca",
   "metadata": {},
   "outputs": [
    {
     "data": {
      "text/plain": [
       "[<_MainThread(MainThread, started 4702164480)>,\n",
       " <Thread(IOPub, started daemon 123145453342720)>,\n",
       " <Heartbeat(Heartbeat, started daemon 123145470132224)>,\n",
       " <Thread(Thread-2 (_watch_pipe_fd), started daemon 123145487994880)>,\n",
       " <Thread(Thread-3 (_watch_pipe_fd), started daemon 123145504784384)>,\n",
       " <ControlThread(Control, started daemon 123145521573888)>,\n",
       " <HistorySavingThread(IPythonHistorySavingThread, started 123145538363392)>,\n",
       " <ParentPollerUnix(Thread-1, started daemon 123145555689472)>]"
      ]
     },
     "execution_count": 6,
     "metadata": {},
     "output_type": "execute_result"
    }
   ],
   "source": [
    "threading.enumerate()"
   ]
  },
  {
   "cell_type": "code",
   "execution_count": 7,
   "id": "02c55e35-0e09-42f0-b814-004e6c65ccab",
   "metadata": {},
   "outputs": [
    {
     "name": "stderr",
     "output_type": "stream",
     "text": [
      "/var/folders/c1/9wdb7dps2x332c6l1y2hrqkh0000gp/T/ipykernel_31000/2258099811.py:1: DeprecationWarning: activeCount() is deprecated, use active_count() instead\n",
      "  threading.active_count(), threading.activeCount()\n"
     ]
    },
    {
     "data": {
      "text/plain": [
       "(8, 8)"
      ]
     },
     "execution_count": 7,
     "metadata": {},
     "output_type": "execute_result"
    }
   ],
   "source": [
    "threading.active_count(), threading.activeCount()"
   ]
  },
  {
   "cell_type": "code",
   "execution_count": 9,
   "id": "e28cd382-df6b-4813-8ff6-d964f69c9848",
   "metadata": {},
   "outputs": [],
   "source": [
    "main = threading.current_thread()"
   ]
  },
  {
   "cell_type": "code",
   "execution_count": 10,
   "id": "c6f46160-73c8-4c56-8299-6947b84bf7ba",
   "metadata": {},
   "outputs": [
    {
     "data": {
      "text/plain": [
       "<_MainThread(MainThread, started 4702164480)>"
      ]
     },
     "execution_count": 10,
     "metadata": {},
     "output_type": "execute_result"
    }
   ],
   "source": [
    "main"
   ]
  },
  {
   "cell_type": "code",
   "execution_count": 11,
   "id": "bd68e6df-79d1-4b25-91cb-329dab92fcf3",
   "metadata": {},
   "outputs": [
    {
     "data": {
      "text/plain": [
       "('MainThread', 4702164480, 3325268, False, True)"
      ]
     },
     "execution_count": 11,
     "metadata": {},
     "output_type": "execute_result"
    }
   ],
   "source": [
    "main.name, main.ident, main.native_id, main.daemon, main.is_alive()"
   ]
  },
  {
   "cell_type": "code",
   "execution_count": 12,
   "id": "7177ccac-c2bb-4d33-9047-f62b05d7f4be",
   "metadata": {},
   "outputs": [
    {
     "data": {
      "text/plain": [
       "(4702164480, 3325268)"
      ]
     },
     "execution_count": 12,
     "metadata": {},
     "output_type": "execute_result"
    }
   ],
   "source": [
    "threading.get_ident(), threading.get_native_id()"
   ]
  },
  {
   "cell_type": "code",
   "execution_count": 13,
   "id": "eddf22bb-f394-4ad9-8fde-40638c13d610",
   "metadata": {},
   "outputs": [
    {
     "data": {
      "text/plain": [
       "\u001b[0;31mDocstring:\u001b[0m\n",
       "get_ident() -> integer\n",
       "\n",
       "Return a non-zero integer that uniquely identifies the current thread\n",
       "amongst other threads that exist simultaneously.\n",
       "This may be used to identify per-thread resources.\n",
       "Even though on some platforms threads identities may appear to be\n",
       "allocated consecutive numbers starting at 1, this behavior should not\n",
       "be relied upon, and the number should be seen purely as a magic cookie.\n",
       "A thread's identity may be reused for another thread after it exits.\n",
       "\u001b[0;31mType:\u001b[0m      builtin_function_or_method"
      ]
     },
     "metadata": {},
     "output_type": "display_data"
    }
   ],
   "source": [
    "threading.get_ident?"
   ]
  },
  {
   "cell_type": "code",
   "execution_count": 15,
   "id": "4d43e88b-723b-4892-b24a-1b61f3534ff0",
   "metadata": {},
   "outputs": [
    {
     "data": {
      "text/plain": [
       "123145487994880"
      ]
     },
     "execution_count": 15,
     "metadata": {},
     "output_type": "execute_result"
    }
   ],
   "source": [
    "threading.enumerate()[3].ident"
   ]
  },
  {
   "cell_type": "code",
   "execution_count": 16,
   "id": "061d754a-9706-4c0e-a691-38725e6a1030",
   "metadata": {},
   "outputs": [],
   "source": [
    "import time"
   ]
  },
  {
   "cell_type": "code",
   "execution_count": 26,
   "id": "f593f07c-14a9-4003-b6b4-745678d1b521",
   "metadata": {},
   "outputs": [
    {
     "name": "stdout",
     "output_type": "stream",
     "text": [
      "data_th.is_alive()=False\n",
      "self.name='Thread-8', self.ident=123145572478976, self.native_id=3411771, self.n=10\n",
      "i=0\n",
      "i=1\n",
      "i=2\n",
      "i=3\n"
     ]
    }
   ],
   "source": [
    "class DataProcessor(threading.Thread):\n",
    "    def __init__(self, n):\n",
    "        super().__init__()\n",
    "        self.n = n\n",
    "\n",
    "    def run(self):\n",
    "        print(f\"{self.name=}, {self.ident=}, {self.native_id=}, {self.n=}\")\n",
    "\n",
    "        for i in range(self.n):\n",
    "            print(f\"{i=}\")\n",
    "            time.sleep(1)\n",
    "\n",
    "data_th = DataProcessor(10)\n",
    "print(f\"{data_th.is_alive()=}\")\n",
    "data_th.start()"
   ]
  },
  {
   "cell_type": "code",
   "execution_count": 19,
   "id": "c566ebdf-c829-463e-9849-4f2810c5459e",
   "metadata": {},
   "outputs": [
    {
     "name": "stdout",
     "output_type": "stream",
     "text": [
      "121\n",
      "i=8\n",
      "i=9\n"
     ]
    }
   ],
   "source": [
    "print(121)"
   ]
  },
  {
   "cell_type": "code",
   "execution_count": 27,
   "id": "7595fad8-8ce3-44ef-a1e3-780ddfa57651",
   "metadata": {},
   "outputs": [
    {
     "data": {
      "text/plain": [
       "True"
      ]
     },
     "execution_count": 27,
     "metadata": {},
     "output_type": "execute_result"
    },
    {
     "name": "stdout",
     "output_type": "stream",
     "text": [
      "i=4\n",
      "i=5\n",
      "i=6\n",
      "i=7\n",
      "i=8\n",
      "i=9\n"
     ]
    }
   ],
   "source": [
    "data_th.is_alive()"
   ]
  },
  {
   "cell_type": "code",
   "execution_count": 28,
   "id": "8a0aa394-b7f2-4132-8906-4927747ca029",
   "metadata": {},
   "outputs": [
    {
     "data": {
      "text/plain": [
       "False"
      ]
     },
     "execution_count": 28,
     "metadata": {},
     "output_type": "execute_result"
    }
   ],
   "source": [
    "data_th.is_alive()"
   ]
  },
  {
   "cell_type": "code",
   "execution_count": 33,
   "id": "61f9df99-824e-4b46-b848-99927e010e40",
   "metadata": {},
   "outputs": [
    {
     "name": "stdout",
     "output_type": "stream",
     "text": [
      "data_th.is_alive()=False\n",
      "self.name='Thread-12', self.ident=123145572478976, self.native_id=3415056, self.n=10\n",
      "i=0\n",
      "i=1\n",
      "i=2\n",
      "i=3\n",
      "i=4\n",
      "after join\n",
      "i=5\n",
      "i=6\n",
      "i=7\n",
      "i=8\n"
     ]
    }
   ],
   "source": [
    "class DataProcessor(threading.Thread):\n",
    "    def __init__(self, n):\n",
    "        super().__init__()\n",
    "        self.n = n\n",
    "\n",
    "    def run(self):\n",
    "        print(f\"{self.name=}, {self.ident=}, {self.native_id=}, {self.n=}\")\n",
    "\n",
    "        for i in range(self.n):\n",
    "            print(f\"{i=}\")\n",
    "            time.sleep(1)\n",
    "\n",
    "data_th = DataProcessor(10)\n",
    "print(f\"{data_th.is_alive()=}\")\n",
    "data_th.start()\n",
    "data_th.join(timeout=5)\n",
    "print(\"after join\")"
   ]
  },
  {
   "cell_type": "code",
   "execution_count": null,
   "id": "a1d5f653-6160-4333-82ae-e20901fdc619",
   "metadata": {},
   "outputs": [],
   "source": []
  },
  {
   "cell_type": "code",
   "execution_count": 39,
   "id": "e2064339-ba64-41ee-8f71-40217cce6e4a",
   "metadata": {},
   "outputs": [],
   "source": [
    "N = 10 ** 8\n",
    "\n",
    "def counter(a, b):\n",
    "    while a < b:\n",
    "        a += 1"
   ]
  },
  {
   "cell_type": "code",
   "execution_count": 40,
   "id": "79e28754-067e-458b-bfb1-aed4bc1aa4ae",
   "metadata": {},
   "outputs": [
    {
     "name": "stdout",
     "output_type": "stream",
     "text": [
      "CPU times: user 5.06 s, sys: 90.6 ms, total: 5.15 s\n",
      "Wall time: 6.89 s\n"
     ]
    }
   ],
   "source": [
    "%%time\n",
    "\n",
    "counter(0, N)"
   ]
  },
  {
   "cell_type": "code",
   "execution_count": 43,
   "id": "7e48d44d-123d-4061-a5a4-32fd0ceab0aa",
   "metadata": {},
   "outputs": [
    {
     "name": "stdout",
     "output_type": "stream",
     "text": [
      "CPU times: user 5.23 s, sys: 125 ms, total: 5.35 s\n",
      "Wall time: 7.33 s\n"
     ]
    }
   ],
   "source": [
    "%%time\n",
    "\n",
    "count_th = threading.Thread(target=counter, args=(0, N))\n",
    "count_th.start()\n",
    "count_th.join()"
   ]
  },
  {
   "cell_type": "code",
   "execution_count": 47,
   "id": "6d39730d-f04a-4716-b331-e339727ac82d",
   "metadata": {},
   "outputs": [
    {
     "name": "stdout",
     "output_type": "stream",
     "text": [
      "counter_th_0\n",
      "counter_th_1\n",
      "counter_th_2\n",
      "counter_th_3\n",
      "counter_th_4\n",
      "counter_th_5\n",
      "counter_th_6\n",
      "counter_th_7\n",
      "counter_th_8\n",
      "counter_th_9\n",
      "CPU times: user 5.39 s, sys: 227 ms, total: 5.62 s\n",
      "Wall time: 7.3 s\n"
     ]
    }
   ],
   "source": [
    "%%time\n",
    "\n",
    "N = 10 ** 8\n",
    "N_THREADS = 10\n",
    "WORK_SIZE = N / N_THREADS\n",
    "\n",
    "def counter(a, b):\n",
    "    print(f\"{threading.current_thread().name}\")\n",
    "    while a < b:\n",
    "        a += 1\n",
    "# 0 - 100\n",
    "# 100 - 200\n",
    "# ... - N\n",
    "\n",
    "threads = [\n",
    "    threading.Thread(\n",
    "        target=counter,\n",
    "        args=(i * WORK_SIZE, (i + 1) * WORK_SIZE),\n",
    "        name=f\"counter_th_{i}\",\n",
    "    )\n",
    "    for i in range(N_THREADS)\n",
    "]\n",
    "for th in threads:\n",
    "    th.start()\n",
    "\n",
    "for th in threads:\n",
    "    th.join()"
   ]
  },
  {
   "cell_type": "code",
   "execution_count": null,
   "id": "9aeab77f-406b-4644-8843-1ba2eef00f1d",
   "metadata": {},
   "outputs": [],
   "source": []
  },
  {
   "cell_type": "code",
   "execution_count": null,
   "id": "b8afa76d-1e1a-4a2d-9137-e36c016123c8",
   "metadata": {},
   "outputs": [],
   "source": []
  },
  {
   "cell_type": "code",
   "execution_count": 48,
   "id": "77a7df64-f82c-4ee6-a50a-f65b512ff0b2",
   "metadata": {},
   "outputs": [],
   "source": [
    "import sys"
   ]
  },
  {
   "cell_type": "code",
   "execution_count": 49,
   "id": "8f24d97f-7fad-4243-982e-a1edad83b479",
   "metadata": {},
   "outputs": [
    {
     "data": {
      "text/plain": [
       "0.005"
      ]
     },
     "execution_count": 49,
     "metadata": {},
     "output_type": "execute_result"
    }
   ],
   "source": [
    "sys.getswitchinterval()"
   ]
  },
  {
   "cell_type": "code",
   "execution_count": 50,
   "id": "7f5f3670-d7f6-4df9-896f-786a8d7fc28a",
   "metadata": {},
   "outputs": [
    {
     "data": {
      "text/plain": [
       "<function sys.setswitchinterval(interval, /)>"
      ]
     },
     "execution_count": 50,
     "metadata": {},
     "output_type": "execute_result"
    }
   ],
   "source": [
    "sys.setswitchinterval"
   ]
  },
  {
   "cell_type": "code",
   "execution_count": null,
   "id": "34d82c22-3c5e-4bae-85ea-8202ec455e91",
   "metadata": {},
   "outputs": [],
   "source": []
  },
  {
   "cell_type": "code",
   "execution_count": null,
   "id": "31aa584e-8c75-43a7-90cd-e722b3d846b3",
   "metadata": {},
   "outputs": [],
   "source": []
  },
  {
   "cell_type": "code",
   "execution_count": 51,
   "id": "0615e4e4-a503-4e31-8099-e63b975dd965",
   "metadata": {},
   "outputs": [
    {
     "name": "stdout",
     "output_type": "stream",
     "text": [
      "count=0\n",
      "counter_th_0\n",
      "counter_th_1\n",
      "counter_th_2\n",
      "counter_th_3\n",
      "counter_th_4\n",
      "counter_th_5\n",
      "counter_th_6\n",
      "counter_th_7\n",
      "counter_th_8\n",
      "counter_th_9\n",
      "count=138418\n",
      "CPU times: user 3.82 s, sys: 181 ms, total: 4 s\n",
      "Wall time: 5.35 s\n"
     ]
    }
   ],
   "source": [
    "%%time\n",
    "\n",
    "N = 10 ** 6\n",
    "N_THREADS = 10\n",
    "WORK_SIZE = N / N_THREADS\n",
    "\n",
    "count = 0\n",
    "\n",
    "\n",
    "def counter(a, b):\n",
    "    print(f\"{threading.current_thread().name}\")\n",
    "    global count\n",
    "    \n",
    "    while a < b:\n",
    "        tmp = count\n",
    "        a += 1\n",
    "        tmp += 1\n",
    "        lst = list(range(-10, 10))\n",
    "        y = sorted(lst, key=lambda x: x ** 2)\n",
    "        count = tmp\n",
    "\n",
    "\n",
    "threads = [\n",
    "    threading.Thread(\n",
    "        target=counter,\n",
    "        args=(i * WORK_SIZE, (i + 1) * WORK_SIZE),\n",
    "        name=f\"counter_th_{i}\",\n",
    "    )\n",
    "    for i in range(N_THREADS)\n",
    "]\n",
    "\n",
    "print(f\"{count=}\")\n",
    "\n",
    "for th in threads:\n",
    "    th.start()\n",
    "\n",
    "for th in threads:\n",
    "    th.join()\n",
    "\n",
    "print(f\"{count=}\")"
   ]
  },
  {
   "cell_type": "code",
   "execution_count": 52,
   "id": "b0688b1e-ddae-40c8-a915-cc319ad28a19",
   "metadata": {},
   "outputs": [
    {
     "name": "stdout",
     "output_type": "stream",
     "text": [
      "count=0\n",
      "counter_th_0\n",
      "counter_th_1\n",
      "counter_th_2\n",
      "counter_th_3\n",
      "counter_th_4\n",
      "counter_th_5\n",
      "counter_th_6\n",
      "counter_th_7\n",
      "counter_th_8\n",
      "counter_th_9\n",
      "count=1000000\n",
      "CPU times: user 3.39 s, sys: 200 ms, total: 3.59 s\n",
      "Wall time: 4.56 s\n"
     ]
    }
   ],
   "source": [
    "\n",
    "%%time\n",
    "\n",
    "N = 10 ** 6\n",
    "N_THREADS = 10\n",
    "WORK_SIZE = N / N_THREADS\n",
    "\n",
    "count = 0\n",
    "lock = threading.Lock()\n",
    "\n",
    "\n",
    "def counter(a, b):\n",
    "    print(f\"{threading.current_thread().name}\")\n",
    "    global count\n",
    "    \n",
    "    while a < b:\n",
    "        lock.acquire()\n",
    "        tmp = count\n",
    "        a += 1\n",
    "        tmp += 1\n",
    "        lst = list(range(-10, 10))\n",
    "        y = sorted(lst, key=lambda x: x ** 2)\n",
    "        count = tmp\n",
    "        lock.release()\n",
    "\n",
    "\n",
    "threads = [\n",
    "    threading.Thread(\n",
    "        target=counter,\n",
    "        args=(i * WORK_SIZE, (i + 1) * WORK_SIZE),\n",
    "        name=f\"counter_th_{i}\",\n",
    "    )\n",
    "    for i in range(N_THREADS)\n",
    "]\n",
    "\n",
    "print(f\"{count=}\")\n",
    "\n",
    "for th in threads:\n",
    "    th.start()\n",
    "\n",
    "for th in threads:\n",
    "    th.join()\n",
    "\n",
    "print(f\"{count=}\")"
   ]
  },
  {
   "cell_type": "code",
   "execution_count": null,
   "id": "257e70c1-21e0-4397-b912-b0798c70c0ef",
   "metadata": {},
   "outputs": [],
   "source": []
  },
  {
   "cell_type": "code",
   "execution_count": null,
   "id": "14b17e46-91b6-4c2f-8266-141676dda343",
   "metadata": {},
   "outputs": [],
   "source": []
  },
  {
   "cell_type": "code",
   "execution_count": 53,
   "id": "eee9299f-5239-4dfa-8747-0d8c6b9c4f8e",
   "metadata": {},
   "outputs": [],
   "source": [
    "from urllib.request import urlopen"
   ]
  },
  {
   "cell_type": "code",
   "execution_count": 54,
   "id": "6f3fb7c9-54c8-419a-bd41-69d71527dec2",
   "metadata": {},
   "outputs": [],
   "source": [
    "def fetch_url(url):\n",
    "    resp = urlopen(url)\n",
    "    return resp"
   ]
  },
  {
   "cell_type": "code",
   "execution_count": 55,
   "id": "92ed0eda-9679-456c-9f81-49034b19fb26",
   "metadata": {},
   "outputs": [],
   "source": [
    "URL = \"http://ru.wikipedia.org/wiki/Python\""
   ]
  },
  {
   "cell_type": "code",
   "execution_count": 56,
   "id": "4ac7fe6c-c707-4026-9ac9-f8b6f0396de2",
   "metadata": {},
   "outputs": [],
   "source": [
    "resp = fetch_url(URL)"
   ]
  },
  {
   "cell_type": "code",
   "execution_count": 60,
   "id": "8108b588-af52-4ead-b31e-cfdeffad469a",
   "metadata": {},
   "outputs": [
    {
     "name": "stdout",
     "output_type": "stream",
     "text": [
      "CPU times: user 88.4 ms, sys: 29.6 ms, total: 118 ms\n",
      "Wall time: 5.92 s\n"
     ]
    }
   ],
   "source": [
    "%%time\n",
    "\n",
    "URL = \"http://ru.wikipedia.org/wiki/Python\"\n",
    "URLS = [URL] * 20\n",
    "\n",
    "\n",
    "def fetch_url(url):\n",
    "    resp = urlopen(url)\n",
    "    return resp\n",
    "\n",
    "\n",
    "def fetch_batch_urls(urls):\n",
    "    for url in urls:\n",
    "        fetch_url(url)\n",
    "\n",
    "\n",
    "fetch_batch_urls(URLS)"
   ]
  },
  {
   "cell_type": "code",
   "execution_count": null,
   "id": "cfff7334-4006-4bbe-940f-90247d308eb3",
   "metadata": {},
   "outputs": [],
   "source": []
  },
  {
   "cell_type": "code",
   "execution_count": 68,
   "id": "3dbfe5a5-bf57-459e-9324-bc0e7f9772e2",
   "metadata": {},
   "outputs": [
    {
     "name": "stdout",
     "output_type": "stream",
     "text": [
      "fetcher_th_0\n",
      "fetcher_th_1\n",
      "fetcher_th_2\n",
      "fetcher_th_3\n",
      "fetcher_th_4\n",
      "fetcher_th_5\n",
      "fetcher_th_6\n",
      "fetcher_th_7\n",
      "fetcher_th_8\n",
      "fetcher_th_9\n",
      "fetcher_th_0, t2 - t1=1.6411490440368652\n",
      "fetcher_th_1, t2 - t1=1.6497299671173096\n",
      "fetcher_th_3, t2 - t1=1.9293251037597656\n",
      "fetcher_th_2, t2 - t1=1.938978910446167\n",
      "fetcher_th_4, t2 - t1=2.1756319999694824\n",
      "fetcher_th_5, t2 - t1=2.1962778568267822\n",
      "fetcher_th_6, t2 - t1=2.43249773979187\n",
      "fetcher_th_7, t2 - t1=2.460860013961792\n",
      "fetcher_th_8, t2 - t1=2.702885866165161\n",
      "fetcher_th_9, t2 - t1=2.754934072494507\n",
      "CPU times: user 113 ms, sys: 41.8 ms, total: 155 ms\n",
      "Wall time: 2.76 s\n"
     ]
    }
   ],
   "source": [
    "%%time\n",
    "\n",
    "URL = \"http://ru.wikipedia.org/wiki/Python\"\n",
    "URLS = [URL] * 20\n",
    "N_THREADS = 10\n",
    "WORK_SIZE = len(URLS) // N_THREADS\n",
    "\n",
    "\n",
    "def fetch_url(url, sem):\n",
    "    with sem:\n",
    "        resp = urlopen(url)\n",
    "    return resp\n",
    "\n",
    "\n",
    "def fetch_batch_urls(urls, sem):\n",
    "    print(f\"{threading.current_thread().name}\")\n",
    "    t1 = time.time()\n",
    "    for url in urls:\n",
    "        fetch_url(url, sem)\n",
    "    t2 = time.time()\n",
    "    print(f\"{threading.current_thread().name}, {t2 - t1=}\")\n",
    "\n",
    "\n",
    "def run():\n",
    "    sem = threading.Semaphore(2)\n",
    "    \n",
    "    threads = [\n",
    "        threading.Thread(\n",
    "            target=fetch_batch_urls,\n",
    "            args=(URLS[i * WORK_SIZE : (i + 1) * WORK_SIZE], sem),\n",
    "            name=f\"fetcher_th_{i}\",\n",
    "        )\n",
    "        for i in range(N_THREADS)\n",
    "    ]\n",
    "    \n",
    "    for th in threads:\n",
    "        th.start()\n",
    "    \n",
    "    for th in threads:\n",
    "        th.join()\n",
    "\n",
    "run()"
   ]
  },
  {
   "cell_type": "code",
   "execution_count": 69,
   "id": "6cac7b93-b199-4bc3-8328-3d0826a252fa",
   "metadata": {},
   "outputs": [],
   "source": [
    "import queue"
   ]
  },
  {
   "cell_type": "code",
   "execution_count": 72,
   "id": "fd1fc599-4470-4d01-ae53-b54bf220d463",
   "metadata": {},
   "outputs": [
    {
     "name": "stdout",
     "output_type": "stream",
     "text": [
      "fetcher_th_0fetcher_th_1\n",
      "fetcher_th_2\n",
      "\n",
      "fetcher_th_3\n",
      "fetcher_th_4\n",
      "fetcher_th_5\n",
      "fetcher_th_6\n",
      "fetcher_th_7\n",
      "fetcher_th_8\n",
      "fetcher_th_9\n",
      "fetcher_th_8, t2 - t1=12.704658031463623, count=10\n",
      "fetcher_th_4, t2 - t1=13.310893774032593, count=9\n",
      "fetcher_th_3, t2 - t1=13.319364786148071, count=9\n",
      "fetcher_th_2, t2 - t1=13.552070140838623, count=12\n",
      "fetcher_th_1, t2 - t1=13.57404112815857, count=11\n",
      "fetcher_th_7, t2 - t1=13.817423105239868, count=9\n",
      "fetcher_th_6, t2 - t1=13.939372777938843, count=10\n",
      "fetcher_th_9, t2 - t1=14.133655071258545, count=9\n",
      "fetcher_th_0, t2 - t1=14.198372840881348, count=9\n",
      "fetcher_th_5, t2 - t1=14.395900249481201, count=12\n",
      "CPU times: user 492 ms, sys: 161 ms, total: 653 ms\n",
      "Wall time: 14.4 s\n"
     ]
    }
   ],
   "source": [
    "%%time\n",
    "\n",
    "URL = \"http://ru.wikipedia.org/wiki/Python\"\n",
    "URLS = [URL] * 100\n",
    "N_THREADS = 10\n",
    "WORK_SIZE = len(URLS) // N_THREADS\n",
    "\n",
    "\n",
    "def fetch_url(url, sem):\n",
    "    with sem:\n",
    "        resp = urlopen(url)\n",
    "    return resp\n",
    "\n",
    "\n",
    "def worker_fetch(que, sem):\n",
    "    print(f\"{threading.current_thread().name}\")\n",
    "    t1 = time.time()\n",
    "    count = 0\n",
    "    while True:\n",
    "        url = que.get()\n",
    "        if url is None:\n",
    "            que.put(url)\n",
    "            break\n",
    "\n",
    "        count += 1\n",
    "        fetch_url(url, sem)\n",
    "\n",
    "    t2 = time.time()\n",
    "    print(f\"{threading.current_thread().name}, {t2 - t1=}, {count=}\")\n",
    "\n",
    "\n",
    "def run():\n",
    "    sem = threading.Semaphore(2)\n",
    "    que = queue.Queue()\n",
    "    for url in URLS:\n",
    "        que.put(url)\n",
    "    que.put(None)\n",
    "    \n",
    "    threads = [\n",
    "        threading.Thread(\n",
    "            target=worker_fetch,\n",
    "            args=(que, sem),\n",
    "            name=f\"fetcher_th_{i}\",\n",
    "        )\n",
    "        for i in range(N_THREADS)\n",
    "    ]\n",
    "    \n",
    "    for th in threads:\n",
    "        th.start()\n",
    "    \n",
    "    for th in threads:\n",
    "        th.join()\n",
    "\n",
    "run()"
   ]
  },
  {
   "cell_type": "code",
   "execution_count": null,
   "id": "00167a22-21a9-48ae-aeb7-0c573cd7bd0d",
   "metadata": {},
   "outputs": [],
   "source": []
  },
  {
   "cell_type": "code",
   "execution_count": null,
   "id": "8d373b78-6f9b-4a01-a53c-b5f55f7d26d7",
   "metadata": {},
   "outputs": [],
   "source": []
  },
  {
   "cell_type": "code",
   "execution_count": 74,
   "id": "87035bd5-eead-4ffe-9db1-329ffd215ed7",
   "metadata": {},
   "outputs": [
    {
     "name": "stderr",
     "output_type": "stream",
     "text": [
      "Exception in thread Thread-18 (bad_data_process):\n",
      "Traceback (most recent call last):\n",
      "  File \"/Library/Frameworks/Python.framework/Versions/3.12/lib/python3.12/threading.py\", line 1075, in _bootstrap_inner\n",
      "    self.run()\n",
      "  File \"/Users/g.kandaurov/venv_education/vk_py312/lib/python3.12/site-packages/ipykernel/ipkernel.py\", line 766, in run_closure\n",
      "    _threading_Thread_run(self)\n",
      "  File \"/Library/Frameworks/Python.framework/Versions/3.12/lib/python3.12/threading.py\", line 1012, in run\n",
      "    self._target(*self._args, **self._kwargs)\n",
      "  File \"/var/folders/c1/9wdb7dps2x332c6l1y2hrqkh0000gp/T/ipykernel_31000/2875439389.py\", line 3, in bad_data_process\n",
      "Exception: BAD_ERROR\n"
     ]
    },
    {
     "name": "stdout",
     "output_type": "stream",
     "text": [
      "start bad\n",
      "finish bad\n"
     ]
    }
   ],
   "source": [
    "def bad_data_process():\n",
    "    print(\"start bad\")\n",
    "    raise Exception(\"BAD_ERROR\")\n",
    "\n",
    "\n",
    "th = threading.Thread(target=bad_data_process)\n",
    "th.start()\n",
    "th.join()\n",
    "print(\"finish bad\")"
   ]
  },
  {
   "cell_type": "code",
   "execution_count": 75,
   "id": "e87468cc-0f48-4141-9627-fae91684e1eb",
   "metadata": {},
   "outputs": [
    {
     "name": "stdout",
     "output_type": "stream",
     "text": [
      "start bad\n",
      "process_error args=(_thread._ExceptHookArgs(exc_type=<class 'Exception'>, exc_value=Exception('BAD_ERROR'), exc_traceback=<traceback object at 0x10e342540>, thread=<Thread(Thread-19 (bad_data_process), started 123145590341632)>),), kwargs={}\n",
      "finish bad\n"
     ]
    }
   ],
   "source": [
    "def process_error(*args, **kwargs):\n",
    "    print(f\"process_error {args=}, {kwargs=}\")\n",
    "\n",
    "threading.excepthook = process_error\n",
    "\n",
    "\n",
    "def bad_data_process():\n",
    "    print(\"start bad\")\n",
    "    raise Exception(\"BAD_ERROR\")\n",
    "\n",
    "\n",
    "th = threading.Thread(target=bad_data_process)\n",
    "th.start()\n",
    "th.join()\n",
    "print(\"finish bad\")"
   ]
  },
  {
   "cell_type": "code",
   "execution_count": null,
   "id": "bdeb5d0c-df9f-4177-8ba7-57f4710f88c5",
   "metadata": {},
   "outputs": [],
   "source": []
  },
  {
   "cell_type": "code",
   "execution_count": null,
   "id": "4bdd246f-6537-4e69-80de-71d4501bebd8",
   "metadata": {},
   "outputs": [],
   "source": []
  },
  {
   "cell_type": "code",
   "execution_count": null,
   "id": "7917877c-a497-4687-89e3-be5363857594",
   "metadata": {},
   "outputs": [],
   "source": []
  }
 ],
 "metadata": {
  "kernelspec": {
   "display_name": "Python 3 (ipykernel)",
   "language": "python",
   "name": "python3"
  },
  "language_info": {
   "codemirror_mode": {
    "name": "ipython",
    "version": 3
   },
   "file_extension": ".py",
   "mimetype": "text/x-python",
   "name": "python",
   "nbconvert_exporter": "python",
   "pygments_lexer": "ipython3",
   "version": "3.12.5"
  }
 },
 "nbformat": 4,
 "nbformat_minor": 5
}
