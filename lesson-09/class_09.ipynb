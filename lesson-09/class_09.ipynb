{
 "cells": [
  {
   "cell_type": "code",
   "execution_count": 1,
   "id": "cfea13a4-58b9-47cb-99ee-bc1bf9b5381e",
   "metadata": {},
   "outputs": [],
   "source": [
    "import logging"
   ]
  },
  {
   "cell_type": "code",
   "execution_count": 3,
   "id": "c873784a-b0cd-42dc-b944-3d6d800356e0",
   "metadata": {},
   "outputs": [],
   "source": [
    "root_logger = logging.getLogger()\n",
    "edx_logger = logging.getLogger(\"edx\")"
   ]
  },
  {
   "cell_type": "code",
   "execution_count": 5,
   "id": "2e84f116-d07d-4e80-b3d7-69da2979f27c",
   "metadata": {},
   "outputs": [],
   "source": [
    "root_logger.info(\"inf_root\")"
   ]
  },
  {
   "cell_type": "code",
   "execution_count": 6,
   "id": "1fb3164f-d09c-4a67-ae15-6a5519d03fe6",
   "metadata": {},
   "outputs": [],
   "source": [
    "edx_logger.info(\"edx_root\")"
   ]
  },
  {
   "cell_type": "code",
   "execution_count": 7,
   "id": "659b2495-f94b-4438-a726-b8fd1381feeb",
   "metadata": {},
   "outputs": [],
   "source": [
    "logging.info(\"!!!\")"
   ]
  },
  {
   "cell_type": "code",
   "execution_count": 8,
   "id": "f4a24827-1ba7-4712-8776-f1a6d49c8c9d",
   "metadata": {},
   "outputs": [
    {
     "data": {
      "text/plain": [
       "30"
      ]
     },
     "execution_count": 8,
     "metadata": {},
     "output_type": "execute_result"
    }
   ],
   "source": [
    "root_logger.getEffectiveLevel()"
   ]
  },
  {
   "cell_type": "code",
   "execution_count": 9,
   "id": "2a1fa87a-8d57-4216-8097-3a714e8deb66",
   "metadata": {},
   "outputs": [
    {
     "data": {
      "text/plain": [
       "30"
      ]
     },
     "execution_count": 9,
     "metadata": {},
     "output_type": "execute_result"
    }
   ],
   "source": [
    "logging.WARNING"
   ]
  },
  {
   "cell_type": "code",
   "execution_count": 10,
   "id": "a870499a-cf14-408f-a5f8-8d5a8394cc3f",
   "metadata": {},
   "outputs": [
    {
     "name": "stderr",
     "output_type": "stream",
     "text": [
      "WARNING:root:inf_root\n"
     ]
    }
   ],
   "source": [
    "root_logger.warning(\"inf_root\")"
   ]
  },
  {
   "cell_type": "code",
   "execution_count": 11,
   "id": "ecd3e71a-9e2e-4a2e-b749-88c010c0d2c8",
   "metadata": {},
   "outputs": [
    {
     "name": "stderr",
     "output_type": "stream",
     "text": [
      "ERROR:edx:edx_root\n"
     ]
    }
   ],
   "source": [
    "edx_logger.error(\"edx_root\")"
   ]
  },
  {
   "cell_type": "code",
   "execution_count": 12,
   "id": "8aa1b5d3-6b24-413e-97e8-0919e94fec2f",
   "metadata": {},
   "outputs": [
    {
     "name": "stderr",
     "output_type": "stream",
     "text": [
      "CRITICAL:root:!!!\n"
     ]
    }
   ],
   "source": [
    "logging.critical(\"!!!\")"
   ]
  },
  {
   "cell_type": "code",
   "execution_count": null,
   "id": "5ff2dd47-d4e7-4d5c-b4e4-bc52847f5a77",
   "metadata": {},
   "outputs": [],
   "source": []
  },
  {
   "cell_type": "code",
   "execution_count": 13,
   "id": "e1b304b2-ed2f-4cc0-a38c-bec334eff551",
   "metadata": {},
   "outputs": [],
   "source": [
    "edx_logger_2 = logging.getLogger(\"edx\")"
   ]
  },
  {
   "cell_type": "code",
   "execution_count": 14,
   "id": "3e00288d-ee89-4996-88c1-6b2a67bfd2a6",
   "metadata": {},
   "outputs": [
    {
     "data": {
      "text/plain": [
       "True"
      ]
     },
     "execution_count": 14,
     "metadata": {},
     "output_type": "execute_result"
    }
   ],
   "source": [
    "edx_logger is edx_logger_2"
   ]
  },
  {
   "cell_type": "code",
   "execution_count": null,
   "id": "a9055bc4-568e-4f8d-8872-c3a2b6423a4d",
   "metadata": {},
   "outputs": [],
   "source": []
  },
  {
   "cell_type": "code",
   "execution_count": null,
   "id": "3dfafe23-db8d-46dc-ab2c-c644e362c0a5",
   "metadata": {},
   "outputs": [],
   "source": []
  },
  {
   "cell_type": "code",
   "execution_count": 27,
   "id": "53f002b1-c9c7-45cb-8cf4-c6223adc4411",
   "metadata": {},
   "outputs": [],
   "source": [
    "import logging\n",
    "\n",
    "logging.basicConfig(\n",
    "    filename=\"root.log\",\n",
    "    filemode=\"w\",\n",
    "    level=logging.INFO,\n",
    "    format=\"%(asctime)s\\t%(levelname)s\\t%(name)s\\t%(message)s\",\n",
    "    force=True,\n",
    ")"
   ]
  },
  {
   "cell_type": "code",
   "execution_count": 28,
   "id": "e6d2f0cd-8ea4-4efc-8a2f-fddfeff451f3",
   "metadata": {},
   "outputs": [],
   "source": [
    "root = logging.getLogger()"
   ]
  },
  {
   "cell_type": "code",
   "execution_count": 31,
   "id": "4ff61904-be89-4229-bbda-b04ec4f8773b",
   "metadata": {},
   "outputs": [],
   "source": [
    "root.debug(\"dbg\")\n",
    "root.info(\"inf\")\n",
    "root.warning(\"warn\")\n",
    "root.error(\"err\")\n",
    "root.critical(\"crit\")"
   ]
  },
  {
   "cell_type": "code",
   "execution_count": 23,
   "id": "e311cc3a-27d2-4098-9dbb-75259652a368",
   "metadata": {},
   "outputs": [
    {
     "name": "stdout",
     "output_type": "stream",
     "text": [
      "class_09.ipynb homework.md    lesson-09.pdf  root.log\n"
     ]
    }
   ],
   "source": [
    "!ls"
   ]
  },
  {
   "cell_type": "code",
   "execution_count": 32,
   "id": "82a0fd09-86a1-40df-a396-8452c2e37c6d",
   "metadata": {},
   "outputs": [
    {
     "name": "stdout",
     "output_type": "stream",
     "text": [
      "2024-11-18 19:05:29,117\tINFO\troot\tinf\n",
      "2024-11-18 19:05:29,118\tWARNING\troot\twarn\n",
      "2024-11-18 19:05:29,118\tERROR\troot\terr\n",
      "2024-11-18 19:05:29,119\tCRITICAL\troot\tcrit\n",
      "2024-11-18 19:05:48,845\tINFO\troot\tinf\n",
      "2024-11-18 19:05:48,846\tWARNING\troot\twarn\n",
      "2024-11-18 19:05:48,846\tERROR\troot\terr\n",
      "2024-11-18 19:05:48,846\tCRITICAL\troot\tcrit\n"
     ]
    }
   ],
   "source": [
    "!cat root.log"
   ]
  },
  {
   "cell_type": "code",
   "execution_count": 34,
   "id": "2e983f32-4540-445f-bd7a-cb5fc62487dc",
   "metadata": {},
   "outputs": [],
   "source": [
    "root.handlers[0].setLevel(logging.ERROR)"
   ]
  },
  {
   "cell_type": "code",
   "execution_count": 35,
   "id": "fe17eb15-92c8-458a-8ab0-4d2716b95c7e",
   "metadata": {},
   "outputs": [],
   "source": [
    "root.debug(\"dbg\")\n",
    "root.info(\"inf\")\n",
    "root.warning(\"warn\")\n",
    "root.error(\"err\")\n",
    "root.critical(\"crit\")"
   ]
  },
  {
   "cell_type": "code",
   "execution_count": 36,
   "id": "21ba43d8-3f70-48a9-8178-a68616720061",
   "metadata": {},
   "outputs": [
    {
     "name": "stdout",
     "output_type": "stream",
     "text": [
      "2024-11-18 19:05:29,117\tINFO\troot\tinf\n",
      "2024-11-18 19:05:29,118\tWARNING\troot\twarn\n",
      "2024-11-18 19:05:29,118\tERROR\troot\terr\n",
      "2024-11-18 19:05:29,119\tCRITICAL\troot\tcrit\n",
      "2024-11-18 19:05:48,845\tINFO\troot\tinf\n",
      "2024-11-18 19:05:48,846\tWARNING\troot\twarn\n",
      "2024-11-18 19:05:48,846\tERROR\troot\terr\n",
      "2024-11-18 19:05:48,846\tCRITICAL\troot\tcrit\n",
      "2024-11-18 19:06:51,172\tERROR\troot\terr\n",
      "2024-11-18 19:06:51,173\tCRITICAL\troot\tcrit\n"
     ]
    }
   ],
   "source": [
    "!cat root.log"
   ]
  },
  {
   "cell_type": "code",
   "execution_count": null,
   "id": "253fcf36-2600-4070-9953-4907b1c1753b",
   "metadata": {},
   "outputs": [],
   "source": []
  },
  {
   "cell_type": "code",
   "execution_count": 60,
   "id": "f23004e9-1ef8-40d7-ab60-b8b4900a75fc",
   "metadata": {},
   "outputs": [],
   "source": [
    "def create_logger(name):\n",
    "    new_logger = logging.getLogger(name)\n",
    "    new_logger.setLevel(logging.DEBUG)\n",
    "    \n",
    "    formatter1 = logging.Formatter(\"11111 %(asctime)s\\t%(levelname)s\\t%(name)s\\t%(message)s\")\n",
    "    formatter2 = logging.Formatter(\"22222 %(asctime)s\\t%(levelname)s\\t%(name)s\\t%(message)s\")\n",
    "    \n",
    "    stream_handler = logging.StreamHandler()\n",
    "    stream_handler.setLevel(logging.DEBUG)\n",
    "    stream_handler.setFormatter(formatter1)\n",
    "    \n",
    "    file_handler = logging.FileHandler(f\"{name}.log\", mode=\"w\")\n",
    "    file_handler.setLevel(logging.WARNING)\n",
    "    file_handler.setFormatter(formatter2)\n",
    "    \n",
    "    new_logger.addHandler(stream_handler)\n",
    "    new_logger.addHandler(file_handler)\n",
    "\n",
    "    return new_logger"
   ]
  },
  {
   "cell_type": "code",
   "execution_count": 54,
   "id": "99fbb6ce-2d0c-4d25-8112-8c683db4b9ee",
   "metadata": {},
   "outputs": [
    {
     "name": "stderr",
     "output_type": "stream",
     "text": [
      "11111 2024-11-18 19:27:57,268\tDEBUG\tedx.deep_py.lecture\tdbg\n",
      "11111 2024-11-18 19:27:57,268\tDEBUG\tedx.deep_py.lecture\tdbg\n",
      "11111 2024-11-18 19:27:57,268\tDEBUG\tedx.deep_py.lecture\tdbg\n",
      "11111 2024-11-18 19:27:57,268\tDEBUG\tedx.deep_py.lecture\tdbg\n",
      "11111 2024-11-18 19:27:57,278\tINFO\tedx.deep_py.lecture\tinf\n",
      "11111 2024-11-18 19:27:57,278\tINFO\tedx.deep_py.lecture\tinf\n",
      "11111 2024-11-18 19:27:57,278\tINFO\tedx.deep_py.lecture\tinf\n",
      "11111 2024-11-18 19:27:57,278\tINFO\tedx.deep_py.lecture\tinf\n",
      "11111 2024-11-18 19:27:57,283\tWARNING\tedx.deep_py.lecture\twarn\n",
      "11111 2024-11-18 19:27:57,283\tWARNING\tedx.deep_py.lecture\twarn\n",
      "11111 2024-11-18 19:27:57,283\tWARNING\tedx.deep_py.lecture\twarn\n",
      "11111 2024-11-18 19:27:57,283\tWARNING\tedx.deep_py.lecture\twarn\n",
      "11111 2024-11-18 19:27:57,289\tERROR\tedx.deep_py.lecture\terr\n",
      "11111 2024-11-18 19:27:57,289\tERROR\tedx.deep_py.lecture\terr\n",
      "11111 2024-11-18 19:27:57,289\tERROR\tedx.deep_py.lecture\terr\n",
      "11111 2024-11-18 19:27:57,289\tERROR\tedx.deep_py.lecture\terr\n",
      "11111 2024-11-18 19:27:57,317\tCRITICAL\tedx.deep_py.lecture\tcrit\n",
      "11111 2024-11-18 19:27:57,317\tCRITICAL\tedx.deep_py.lecture\tcrit\n",
      "11111 2024-11-18 19:27:57,317\tCRITICAL\tedx.deep_py.lecture\tcrit\n",
      "11111 2024-11-18 19:27:57,317\tCRITICAL\tedx.deep_py.lecture\tcrit\n"
     ]
    }
   ],
   "source": [
    "edx = create_logger(\"edx.deep_py.lecture\")\n",
    "\n",
    "edx.debug(\"dbg\")\n",
    "edx.info(\"inf\")\n",
    "edx.warning(\"warn\")\n",
    "edx.error(\"err\")\n",
    "edx.critical(\"crit\")"
   ]
  },
  {
   "cell_type": "code",
   "execution_count": 55,
   "id": "01895f59-1d0d-4e64-8662-cdbcbb2312cb",
   "metadata": {},
   "outputs": [
    {
     "name": "stdout",
     "output_type": "stream",
     "text": [
      "22222 2024-11-18 19:27:57,283\tWARNING\tedx.deep_py.lecture\twarn\n",
      "22222 2024-11-18 19:27:57,289\tERROR\tedx.deep_py.lecture\terr\n",
      "22222 2024-11-18 19:27:57,317\tCRITICAL\tedx.deep_py.lecture\tcrit\n",
      "22222 2024-11-18 19:27:57,283\tWARNING\tedx.deep_py.lecture\twarn\n",
      "22222 2024-11-18 19:27:57,289\tERROR\tedx.deep_py.lecture\terr\n",
      "22222 2024-11-18 19:27:57,317\tCRITICAL\tedx.deep_py.lecture\tcrit\n",
      "22222 2024-11-18 19:27:57,283\tWARNING\tedx.deep_py.lecture\twarn\n",
      "22222 2024-11-18 19:27:57,289\tERROR\tedx.deep_py.lecture\terr\n",
      "22222 2024-11-18 19:27:57,317\tCRITICAL\tedx.deep_py.lecture\tcrit\n"
     ]
    }
   ],
   "source": [
    "!cat edx.deep_py.lecture.log"
   ]
  },
  {
   "cell_type": "code",
   "execution_count": 57,
   "id": "91539f14-35bc-4789-8eca-afb9b06a62fb",
   "metadata": {},
   "outputs": [
    {
     "name": "stdout",
     "output_type": "stream",
     "text": [
      "2024-11-18 19:05:29,117\tINFO\troot\tinf\n",
      "2024-11-18 19:05:29,118\tWARNING\troot\twarn\n",
      "2024-11-18 19:05:29,118\tERROR\troot\terr\n",
      "2024-11-18 19:05:29,119\tCRITICAL\troot\tcrit\n",
      "2024-11-18 19:05:48,845\tINFO\troot\tinf\n",
      "2024-11-18 19:05:48,846\tWARNING\troot\twarn\n",
      "2024-11-18 19:05:48,846\tERROR\troot\terr\n",
      "2024-11-18 19:05:48,846\tCRITICAL\troot\tcrit\n",
      "2024-11-18 19:06:51,172\tERROR\troot\terr\n",
      "2024-11-18 19:06:51,173\tCRITICAL\troot\tcrit\n",
      "2024-11-18 19:19:38,560\tERROR\tedx.deep_py.lecture\terr\n",
      "2024-11-18 19:19:38,562\tCRITICAL\tedx.deep_py.lecture\tcrit\n",
      "2024-11-18 19:24:28,630\tERROR\tedx.deep_py.lecture\terr\n",
      "2024-11-18 19:24:28,634\tCRITICAL\tedx.deep_py.lecture\tcrit\n",
      "2024-11-18 19:25:25,998\tERROR\tedx.deep_py.lecture\terr\n",
      "2024-11-18 19:25:26,032\tCRITICAL\tedx.deep_py.lecture\tcrit\n",
      "2024-11-18 19:27:57,289\tERROR\tedx.deep_py.lecture\terr\n",
      "2024-11-18 19:27:57,317\tCRITICAL\tedx.deep_py.lecture\tcrit\n"
     ]
    }
   ],
   "source": [
    "!cat root.log"
   ]
  },
  {
   "cell_type": "code",
   "execution_count": 59,
   "id": "ef10ed6b-64ac-422d-a56c-ae76b16ff19d",
   "metadata": {},
   "outputs": [
    {
     "data": {
      "text/plain": [
       "[<StreamHandler stderr (DEBUG)>,\n",
       " <FileHandler /Users/g.kandaurov/projects/deep_python_autumn_2024/lesson-09/edx.log (WARNING)>,\n",
       " <StreamHandler stderr (DEBUG)>,\n",
       " <FileHandler /Users/g.kandaurov/projects/deep_python_autumn_2024/lesson-09/edx.deep_py.lecture.log (WARNING)>,\n",
       " <StreamHandler stderr (DEBUG)>,\n",
       " <FileHandler /Users/g.kandaurov/projects/deep_python_autumn_2024/lesson-09/edx.deep_py.lecture.log (WARNING)>,\n",
       " <StreamHandler stderr (DEBUG)>,\n",
       " <FileHandler /Users/g.kandaurov/projects/deep_python_autumn_2024/lesson-09/edx.deep_py.lecture.log (WARNING)>]"
      ]
     },
     "execution_count": 59,
     "metadata": {},
     "output_type": "execute_result"
    }
   ],
   "source": [
    "edx.handlers"
   ]
  },
  {
   "cell_type": "code",
   "execution_count": null,
   "id": "fccc12e9-561b-4fcc-b293-09a446bdb960",
   "metadata": {},
   "outputs": [],
   "source": []
  },
  {
   "cell_type": "code",
   "execution_count": 75,
   "id": "74ce7928-99c7-47be-875d-4fb8a6850324",
   "metadata": {},
   "outputs": [],
   "source": [
    "def create_logger(name):\n",
    "    new_logger = logging.getLogger(name)\n",
    "    new_logger.setLevel(logging.DEBUG)\n",
    "    \n",
    "    formatter1 = logging.Formatter(\"11111 %(asctime)s\\t%(levelname)s\\t%(name)s\\t%(message)s\")\n",
    "    formatter2 = logging.Formatter(\"22222 %(asctime)s\\t%(levelname)s\\t%(name)s\\t%(message)s\")\n",
    "    \n",
    "    stream_handler = logging.StreamHandler()\n",
    "    stream_handler.setLevel(logging.DEBUG)\n",
    "    stream_handler.setFormatter(formatter1)\n",
    "    \n",
    "    file_handler = logging.FileHandler(f\"{name}.log\", mode=\"w\")\n",
    "    file_handler.setLevel(logging.WARNING)\n",
    "    file_handler.setFormatter(formatter2)\n",
    "\n",
    "    for handler in new_logger.handlers[:]:\n",
    "        new_logger.removeHandler(handler)\n",
    "\n",
    "    print(\"RESID\", new_logger.handlers)\n",
    "    \n",
    "    new_logger.addHandler(stream_handler)\n",
    "    new_logger.addHandler(file_handler)\n",
    "\n",
    "    return new_logger"
   ]
  },
  {
   "cell_type": "code",
   "execution_count": 76,
   "id": "b7608c91-9a49-49c6-9782-7d7c5c7a05c4",
   "metadata": {},
   "outputs": [
    {
     "name": "stderr",
     "output_type": "stream",
     "text": [
      "11111 2024-11-18 19:41:27,668\tDEBUG\tedx.deep_py.lecture\tdbg\n",
      "11111 2024-11-18 19:41:27,679\tINFO\tedx.deep_py.lecture\tinf\n",
      "11111 2024-11-18 19:41:27,682\tWARNING\tedx.deep_py.lecture\twarn\n",
      "11111 2024-11-18 19:41:27,684\tERROR\tedx.deep_py.lecture\terr\n",
      "11111 2024-11-18 19:41:27,687\tCRITICAL\tedx.deep_py.lecture\tcrit\n"
     ]
    },
    {
     "name": "stdout",
     "output_type": "stream",
     "text": [
      "RESID []\n"
     ]
    }
   ],
   "source": [
    "edx = create_logger(\"edx.deep_py.lecture\")\n",
    "\n",
    "edx.debug(\"dbg\")\n",
    "edx.info(\"inf\")\n",
    "edx.warning(\"warn\")\n",
    "edx.error(\"err\")\n",
    "edx.critical(\"crit\")"
   ]
  },
  {
   "cell_type": "code",
   "execution_count": 77,
   "id": "0be01a2c-baef-40b4-92bc-1db330679f78",
   "metadata": {},
   "outputs": [
    {
     "data": {
      "text/plain": [
       "[<StreamHandler stderr (DEBUG)>,\n",
       " <FileHandler /Users/g.kandaurov/projects/deep_python_autumn_2024/lesson-09/edx.deep_py.lecture.log (WARNING)>]"
      ]
     },
     "execution_count": 77,
     "metadata": {},
     "output_type": "execute_result"
    }
   ],
   "source": [
    "edx.handlers"
   ]
  },
  {
   "cell_type": "code",
   "execution_count": 78,
   "id": "1d4be877-e5ad-496b-a99a-378603dee3a6",
   "metadata": {},
   "outputs": [
    {
     "name": "stdout",
     "output_type": "stream",
     "text": [
      "22222 2024-11-18 19:41:27,682\tWARNING\tedx.deep_py.lecture\twarn\n",
      "22222 2024-11-18 19:41:27,684\tERROR\tedx.deep_py.lecture\terr\n",
      "22222 2024-11-18 19:41:27,687\tCRITICAL\tedx.deep_py.lecture\tcrit\n"
     ]
    }
   ],
   "source": [
    "!cat edx.deep_py.lecture.log"
   ]
  },
  {
   "cell_type": "code",
   "execution_count": 65,
   "id": "a5bd9841-6877-4d7f-b04c-0bae208553ab",
   "metadata": {},
   "outputs": [],
   "source": [
    "lst = list(range(10))"
   ]
  },
  {
   "cell_type": "code",
   "execution_count": 66,
   "id": "bd6283a0-0c04-485a-845e-c6fe086dc58c",
   "metadata": {},
   "outputs": [
    {
     "data": {
      "text/plain": [
       "[0, 1, 2, 3, 4, 5, 6, 7, 8, 9]"
      ]
     },
     "execution_count": 66,
     "metadata": {},
     "output_type": "execute_result"
    }
   ],
   "source": [
    "lst"
   ]
  },
  {
   "cell_type": "code",
   "execution_count": 72,
   "id": "23712a68-df68-4119-add4-48f55543a48e",
   "metadata": {},
   "outputs": [
    {
     "name": "stdout",
     "output_type": "stream",
     "text": [
      "B [0, 1, 2, 3, 4, 5, 6, 7, 8, 9]\n",
      "0 [1, 2, 3, 4, 5, 6, 7, 8, 9]\n",
      "2 [1, 3, 4, 5, 6, 7, 8, 9]\n",
      "4 [1, 3, 5, 6, 7, 8, 9]\n",
      "6 [1, 3, 5, 7, 8, 9]\n",
      "8 [1, 3, 5, 7, 9]\n"
     ]
    }
   ],
   "source": [
    "lst = list(range(10))\n",
    "print(\"B\", lst)\n",
    "\n",
    "for x in lst:\n",
    "    lst.remove(x)\n",
    "    print(x, lst)"
   ]
  },
  {
   "cell_type": "code",
   "execution_count": 73,
   "id": "81b65034-a265-42da-8f89-361e2985a0fa",
   "metadata": {},
   "outputs": [
    {
     "name": "stdout",
     "output_type": "stream",
     "text": [
      "B [0, 1, 2, 3, 4, 5, 6, 7, 8, 9]\n",
      "0 [1, 2, 3, 4, 5, 6, 7, 8, 9]\n",
      "1 [2, 3, 4, 5, 6, 7, 8, 9]\n",
      "2 [3, 4, 5, 6, 7, 8, 9]\n",
      "3 [4, 5, 6, 7, 8, 9]\n",
      "4 [5, 6, 7, 8, 9]\n",
      "5 [6, 7, 8, 9]\n",
      "6 [7, 8, 9]\n",
      "7 [8, 9]\n",
      "8 [9]\n",
      "9 []\n"
     ]
    }
   ],
   "source": [
    "lst = list(range(10))\n",
    "print(\"B\", lst)\n",
    "\n",
    "for x in lst[:]:\n",
    "    lst.remove(x)\n",
    "    print(x, lst)"
   ]
  },
  {
   "cell_type": "code",
   "execution_count": 74,
   "id": "faa99b55-6c94-449c-be4a-3981039189d4",
   "metadata": {},
   "outputs": [
    {
     "name": "stdout",
     "output_type": "stream",
     "text": [
      "B [0, 1, 2, 3, 4, 5, 6, 7, 8, 9]\n",
      "9 [0, 1, 2, 3, 4, 5, 6, 7, 8]\n",
      "8 [0, 1, 2, 3, 4, 5, 6, 7]\n",
      "7 [0, 1, 2, 3, 4, 5, 6]\n",
      "6 [0, 1, 2, 3, 4, 5]\n",
      "5 [0, 1, 2, 3, 4]\n",
      "4 [0, 1, 2, 3]\n",
      "3 [0, 1, 2]\n",
      "2 [0, 1]\n",
      "1 [0]\n",
      "0 []\n"
     ]
    }
   ],
   "source": [
    "lst = list(range(10))\n",
    "print(\"B\", lst)\n",
    "\n",
    "while lst:\n",
    "    x = lst.pop()\n",
    "    print(x, lst)"
   ]
  },
  {
   "cell_type": "code",
   "execution_count": null,
   "id": "b2ce058b-5a27-4558-ba70-b883550853fd",
   "metadata": {},
   "outputs": [],
   "source": []
  },
  {
   "cell_type": "code",
   "execution_count": null,
   "id": "e7c4cd51-807d-41e4-ab7f-e20303f890c1",
   "metadata": {},
   "outputs": [],
   "source": []
  },
  {
   "cell_type": "code",
   "execution_count": 83,
   "id": "6b9df90e-2d71-442f-bfbe-5740eff70123",
   "metadata": {},
   "outputs": [
    {
     "name": "stderr",
     "output_type": "stream",
     "text": [
      "11111 2024-11-18 19:44:14,475\tDEBUG\tedx.deep_py.lecture\tdbg\n",
      "11111 2024-11-18 19:44:14,479\tINFO\tedx.deep_py.lecture\tinf\n",
      "11111 2024-11-18 19:44:14,481\tWARNING\tedx.deep_py.lecture\twarn\n",
      "11111 2024-11-18 19:44:14,483\tERROR\tedx.deep_py.lecture\terr\n",
      "11111 2024-11-18 19:44:14,485\tCRITICAL\tedx.deep_py.lecture\tcrit\n"
     ]
    }
   ],
   "source": [
    "def create_logger(name):\n",
    "    new_logger = logging.getLogger(name)\n",
    "    new_logger.setLevel(logging.DEBUG)\n",
    "    new_logger.propagate = False\n",
    "    \n",
    "    formatter1 = logging.Formatter(\"11111 %(asctime)s\\t%(levelname)s\\t%(name)s\\t%(message)s\")\n",
    "    formatter2 = logging.Formatter(\"22222 %(asctime)s\\t%(levelname)s\\t%(name)s\\t%(message)s\")\n",
    "    \n",
    "    stream_handler = logging.StreamHandler()\n",
    "    stream_handler.setLevel(logging.DEBUG)\n",
    "    stream_handler.setFormatter(formatter1)\n",
    "    \n",
    "    file_handler = logging.FileHandler(f\"{name}.log\", mode=\"w\")\n",
    "    file_handler.setLevel(logging.WARNING)\n",
    "    file_handler.setFormatter(formatter2)\n",
    "\n",
    "    for handler in new_logger.handlers[:]:\n",
    "        new_logger.removeHandler(handler)\n",
    "    \n",
    "    new_logger.addHandler(stream_handler)\n",
    "    new_logger.addHandler(file_handler)\n",
    "\n",
    "    return new_logger\n",
    "\n",
    "\n",
    "edx = create_logger(\"edx.deep_py.lecture\")\n",
    "\n",
    "edx.debug(\"dbg\")\n",
    "edx.info(\"inf\")\n",
    "edx.warning(\"warn\")\n",
    "edx.error(\"err\")\n",
    "edx.critical(\"crit\")"
   ]
  },
  {
   "cell_type": "code",
   "execution_count": 84,
   "id": "cf009c6d-5643-45b2-8fc7-d2a1ecddd21e",
   "metadata": {},
   "outputs": [
    {
     "name": "stdout",
     "output_type": "stream",
     "text": [
      "22222 2024-11-18 19:44:14,481\tWARNING\tedx.deep_py.lecture\twarn\n",
      "22222 2024-11-18 19:44:14,483\tERROR\tedx.deep_py.lecture\terr\n",
      "22222 2024-11-18 19:44:14,485\tCRITICAL\tedx.deep_py.lecture\tcrit\n"
     ]
    }
   ],
   "source": [
    "!cat edx.deep_py.lecture.log"
   ]
  },
  {
   "cell_type": "code",
   "execution_count": 85,
   "id": "bc23d4a9-2e9d-4094-abe7-4776cf6c1921",
   "metadata": {},
   "outputs": [
    {
     "name": "stdout",
     "output_type": "stream",
     "text": [
      "2024-11-18 19:05:29,117\tINFO\troot\tinf\n",
      "2024-11-18 19:05:29,118\tWARNING\troot\twarn\n",
      "2024-11-18 19:05:29,118\tERROR\troot\terr\n",
      "2024-11-18 19:05:29,119\tCRITICAL\troot\tcrit\n",
      "2024-11-18 19:05:48,845\tINFO\troot\tinf\n",
      "2024-11-18 19:05:48,846\tWARNING\troot\twarn\n",
      "2024-11-18 19:05:48,846\tERROR\troot\terr\n",
      "2024-11-18 19:05:48,846\tCRITICAL\troot\tcrit\n",
      "2024-11-18 19:06:51,172\tERROR\troot\terr\n",
      "2024-11-18 19:06:51,173\tCRITICAL\troot\tcrit\n",
      "2024-11-18 19:19:38,560\tERROR\tedx.deep_py.lecture\terr\n",
      "2024-11-18 19:19:38,562\tCRITICAL\tedx.deep_py.lecture\tcrit\n",
      "2024-11-18 19:24:28,630\tERROR\tedx.deep_py.lecture\terr\n",
      "2024-11-18 19:24:28,634\tCRITICAL\tedx.deep_py.lecture\tcrit\n",
      "2024-11-18 19:25:25,998\tERROR\tedx.deep_py.lecture\terr\n",
      "2024-11-18 19:25:26,032\tCRITICAL\tedx.deep_py.lecture\tcrit\n",
      "2024-11-18 19:27:57,289\tERROR\tedx.deep_py.lecture\terr\n",
      "2024-11-18 19:27:57,317\tCRITICAL\tedx.deep_py.lecture\tcrit\n",
      "2024-11-18 19:33:02,106\tERROR\tedx.deep_py.lecture\terr\n",
      "2024-11-18 19:33:02,109\tCRITICAL\tedx.deep_py.lecture\tcrit\n",
      "2024-11-18 19:41:27,684\tERROR\tedx.deep_py.lecture\terr\n",
      "2024-11-18 19:41:27,687\tCRITICAL\tedx.deep_py.lecture\tcrit\n",
      "2024-11-18 19:42:51,862\tERROR\tedx.deep_py.lecture\terr\n",
      "2024-11-18 19:42:51,865\tCRITICAL\tedx.deep_py.lecture\tcrit\n"
     ]
    }
   ],
   "source": [
    "!cat root.log"
   ]
  },
  {
   "cell_type": "code",
   "execution_count": null,
   "id": "969481f8-9e62-47aa-b801-7a9b6ee28bbc",
   "metadata": {},
   "outputs": [],
   "source": []
  },
  {
   "cell_type": "code",
   "execution_count": null,
   "id": "255a22db-c44e-4bc2-a6d2-0d99b8cba7ac",
   "metadata": {},
   "outputs": [],
   "source": []
  },
  {
   "cell_type": "code",
   "execution_count": 86,
   "id": "43ca5c42-5e87-40a5-a3b1-66f565ab9a80",
   "metadata": {},
   "outputs": [
    {
     "name": "stderr",
     "output_type": "stream",
     "text": [
      "11111 2024-11-18 20:07:32,447\tDEBUG\tedx.deep_py.lecture\tdbg\tqwerty\n",
      "11111 2024-11-18 20:07:32,448\tINFO\tedx.deep_py.lecture\tinf\tqwerty\n",
      "11111 2024-11-18 20:07:32,449\tWARNING\tedx.deep_py.lecture\twarn\tqwerty\n",
      "11111 2024-11-18 20:07:32,451\tERROR\tedx.deep_py.lecture\terr\tqwerty\n",
      "11111 2024-11-18 20:07:32,453\tCRITICAL\tedx.deep_py.lecture\tcrit\tqwerty\n"
     ]
    }
   ],
   "source": [
    "def create_logger(name):\n",
    "    new_logger = logging.getLogger(name)\n",
    "    new_logger.setLevel(logging.DEBUG)\n",
    "    new_logger.propagate = False\n",
    "    \n",
    "    formatter1 = logging.Formatter(\"11111 %(asctime)s\\t%(levelname)s\\t%(name)s\\t%(message)s\\t%(extra_data)s\")\n",
    "    formatter2 = logging.Formatter(\"22222 %(asctime)s\\t%(levelname)s\\t%(name)s\\t%(message)s\")\n",
    "    \n",
    "    stream_handler = logging.StreamHandler()\n",
    "    stream_handler.setLevel(logging.DEBUG)\n",
    "    stream_handler.setFormatter(formatter1)\n",
    "    \n",
    "    file_handler = logging.FileHandler(f\"{name}.log\", mode=\"w\")\n",
    "    file_handler.setLevel(logging.WARNING)\n",
    "    file_handler.setFormatter(formatter2)\n",
    "\n",
    "    for handler in new_logger.handlers[:]:\n",
    "        new_logger.removeHandler(handler)\n",
    "    \n",
    "    new_logger.addHandler(stream_handler)\n",
    "    new_logger.addHandler(file_handler)\n",
    "\n",
    "    return new_logger\n",
    "\n",
    "\n",
    "edx = create_logger(\"edx.deep_py.lecture\")\n",
    "\n",
    "edx.debug(\"dbg\", extra={\"extra_data\": \"qwerty\"})\n",
    "edx.info(\"inf\", extra={\"extra_data\": \"qwerty\"})\n",
    "edx.warning(\"warn\", extra={\"extra_data\": \"qwerty\"})\n",
    "edx.error(\"err\", extra={\"extra_data\": \"qwerty\"})\n",
    "edx.critical(\"crit\", extra={\"extra_data\": \"qwerty\"})"
   ]
  },
  {
   "cell_type": "code",
   "execution_count": 87,
   "id": "ba3dc180-0be0-4cdd-ba10-c54d5812ef48",
   "metadata": {},
   "outputs": [
    {
     "name": "stdout",
     "output_type": "stream",
     "text": [
      "22222 2024-11-18 20:07:32,449\tWARNING\tedx.deep_py.lecture\twarn\n",
      "22222 2024-11-18 20:07:32,451\tERROR\tedx.deep_py.lecture\terr\n",
      "22222 2024-11-18 20:07:32,453\tCRITICAL\tedx.deep_py.lecture\tcrit\n"
     ]
    }
   ],
   "source": [
    "!cat edx.deep_py.lecture.log"
   ]
  },
  {
   "cell_type": "code",
   "execution_count": null,
   "id": "ba1670e6-539f-44c5-a372-2de26447192a",
   "metadata": {},
   "outputs": [],
   "source": []
  },
  {
   "cell_type": "code",
   "execution_count": null,
   "id": "4e6d5973-adab-4c8a-b1f9-88b308293753",
   "metadata": {},
   "outputs": [],
   "source": []
  },
  {
   "cell_type": "code",
   "execution_count": 91,
   "id": "e2d7cca9-15cd-41bc-af4e-e85f11e0a2ed",
   "metadata": {},
   "outputs": [
    {
     "name": "stderr",
     "output_type": "stream",
     "text": [
      "11111 2024-11-18 20:12:45,317\tINFO\tedx.deep_py.lecture\tuser Steve connect db Persons\n",
      "11111 2024-11-18 20:12:45,319\tWARNING\tedx.deep_py.lecture\tuser Steve connect db Persons\n",
      "11111 2024-11-18 20:12:45,321\tERROR\tedx.deep_py.lecture\tuser Steve connect db Persons\n",
      "11111 2024-11-18 20:12:45,323\tCRITICAL\tedx.deep_py.lecture\tuser Steve connect db Persons\n"
     ]
    }
   ],
   "source": [
    "def create_logger(name):\n",
    "    new_logger = logging.getLogger(name)\n",
    "    new_logger.setLevel(logging.INFO)\n",
    "    new_logger.propagate = False\n",
    "    \n",
    "    formatter1 = logging.Formatter(\"11111 %(asctime)s\\t%(levelname)s\\t%(name)s\\t%(message)s\")\n",
    "    formatter2 = logging.Formatter(\"22222 %(asctime)s\\t%(levelname)s\\t%(name)s\\t%(message)s\")\n",
    "    \n",
    "    stream_handler = logging.StreamHandler()\n",
    "    stream_handler.setLevel(logging.DEBUG)\n",
    "    stream_handler.setFormatter(formatter1)\n",
    "    \n",
    "    file_handler = logging.FileHandler(f\"{name}.log\", mode=\"w\")\n",
    "    file_handler.setLevel(logging.WARNING)\n",
    "    file_handler.setFormatter(formatter2)\n",
    "\n",
    "    for handler in new_logger.handlers[:]:\n",
    "        new_logger.removeHandler(handler)\n",
    "    \n",
    "    new_logger.addHandler(stream_handler)\n",
    "    new_logger.addHandler(file_handler)\n",
    "\n",
    "    return new_logger\n",
    "\n",
    "\n",
    "edx = create_logger(\"edx.deep_py.lecture\")\n",
    "\n",
    "username = \"Steve\"\n",
    "dbname = \"Persons\"\n",
    "\n",
    "edx.debug(f\"user {username} connect db {dbname}\")\n",
    "edx.info(f\"user {username} connect db {dbname}\")\n",
    "edx.warning(f\"user {username} connect db {dbname}\")\n",
    "edx.error(f\"user {username} connect db {dbname}\")\n",
    "edx.critical(f\"user {username} connect db {dbname}\")"
   ]
  },
  {
   "cell_type": "code",
   "execution_count": 92,
   "id": "bbd0fc15-763f-4bbb-8d5e-e1f8b136b028",
   "metadata": {},
   "outputs": [
    {
     "name": "stdout",
     "output_type": "stream",
     "text": [
      "22222 2024-11-18 20:12:45,319\tWARNING\tedx.deep_py.lecture\tuser Steve connect db Persons\n",
      "22222 2024-11-18 20:12:45,321\tERROR\tedx.deep_py.lecture\tuser Steve connect db Persons\n",
      "22222 2024-11-18 20:12:45,323\tCRITICAL\tedx.deep_py.lecture\tuser Steve connect db Persons\n"
     ]
    }
   ],
   "source": [
    "!cat edx.deep_py.lecture.log"
   ]
  },
  {
   "cell_type": "code",
   "execution_count": 93,
   "id": "7bf1a7f7-f407-4ddf-bf0e-282fb2621a87",
   "metadata": {},
   "outputs": [
    {
     "name": "stderr",
     "output_type": "stream",
     "text": [
      "11111 2024-11-18 20:14:23,543\tINFO\tedx.deep_py.lecture\tuser Steve connect db Persons\n",
      "11111 2024-11-18 20:14:23,545\tWARNING\tedx.deep_py.lecture\tuser Steve connect db Persons\n",
      "11111 2024-11-18 20:14:23,546\tERROR\tedx.deep_py.lecture\tuser Steve connect db Persons\n",
      "11111 2024-11-18 20:14:23,547\tCRITICAL\tedx.deep_py.lecture\tuser Steve connect db Persons\n"
     ]
    }
   ],
   "source": [
    "def create_logger(name):\n",
    "    new_logger = logging.getLogger(name)\n",
    "    new_logger.setLevel(logging.INFO)\n",
    "    new_logger.propagate = False\n",
    "    \n",
    "    formatter1 = logging.Formatter(\"11111 %(asctime)s\\t%(levelname)s\\t%(name)s\\t%(message)s\")\n",
    "    formatter2 = logging.Formatter(\"22222 %(asctime)s\\t%(levelname)s\\t%(name)s\\t%(message)s\")\n",
    "    \n",
    "    stream_handler = logging.StreamHandler()\n",
    "    stream_handler.setLevel(logging.DEBUG)\n",
    "    stream_handler.setFormatter(formatter1)\n",
    "    \n",
    "    file_handler = logging.FileHandler(f\"{name}.log\", mode=\"w\")\n",
    "    file_handler.setLevel(logging.WARNING)\n",
    "    file_handler.setFormatter(formatter2)\n",
    "\n",
    "    for handler in new_logger.handlers[:]:\n",
    "        new_logger.removeHandler(handler)\n",
    "    \n",
    "    new_logger.addHandler(stream_handler)\n",
    "    new_logger.addHandler(file_handler)\n",
    "\n",
    "    return new_logger\n",
    "\n",
    "\n",
    "edx = create_logger(\"edx.deep_py.lecture\")\n",
    "\n",
    "username = \"Steve\"\n",
    "dbname = \"Persons\"\n",
    "\n",
    "template = \"user %s connect db %s\"\n",
    "\n",
    "edx.debug(template, username, dbname)\n",
    "edx.info(template, username, dbname)\n",
    "edx.warning(template, username, dbname)\n",
    "edx.error(template, username, dbname)\n",
    "edx.critical(template, username, dbname)"
   ]
  },
  {
   "cell_type": "code",
   "execution_count": null,
   "id": "ecccf2d5-15bd-4c23-82c9-6fd7b0bda288",
   "metadata": {},
   "outputs": [],
   "source": []
  },
  {
   "cell_type": "code",
   "execution_count": null,
   "id": "037295a1-ca91-440b-9ebd-42dbe9913ce9",
   "metadata": {},
   "outputs": [],
   "source": []
  },
  {
   "cell_type": "code",
   "execution_count": 101,
   "id": "77721351-1b4d-4f97-9c31-4c57eae63b0e",
   "metadata": {},
   "outputs": [
    {
     "name": "stderr",
     "output_type": "stream",
     "text": [
      "11111 2024-11-18 20:38:50,109\tINFO\tedx.deep_py.lecture\tuser Steve connect db Persons\n",
      "11111 2024-11-18 20:38:50,125\tWARNING\tedx.deep_py.lecture\tuser Steve connect db Persons\n",
      "11111 2024-11-18 20:38:50,145\tCRITICAL\tedx.deep_py.lecture\tuser Steve connect db Persons\n"
     ]
    }
   ],
   "source": [
    "class DbDataFilter(logging.Filter):\n",
    "    def filter(self, record):\n",
    "        #import pdb; pdb.set_trace()\n",
    "\n",
    "        return \"Steve\" == record.args[0]\n",
    "    \n",
    "\n",
    "def create_logger(name):\n",
    "    new_logger = logging.getLogger(name)\n",
    "    new_logger.setLevel(logging.INFO)\n",
    "    new_logger.propagate = False\n",
    "    \n",
    "    formatter1 = logging.Formatter(\"11111 %(asctime)s\\t%(levelname)s\\t%(name)s\\t%(message)s\")\n",
    "    formatter2 = logging.Formatter(\"22222 %(asctime)s\\t%(levelname)s\\t%(name)s\\t%(message)s\")\n",
    "    \n",
    "    stream_handler = logging.StreamHandler()\n",
    "    stream_handler.setLevel(logging.DEBUG)\n",
    "    stream_handler.setFormatter(formatter1)\n",
    "    stream_handler.addFilter(DbDataFilter())\n",
    "    \n",
    "    file_handler = logging.FileHandler(f\"{name}.log\", mode=\"w\")\n",
    "    file_handler.setLevel(logging.WARNING)\n",
    "    file_handler.setFormatter(formatter2)\n",
    "\n",
    "    for handler in new_logger.handlers[:]:\n",
    "        new_logger.removeHandler(handler)\n",
    "    \n",
    "    new_logger.addHandler(stream_handler)\n",
    "    new_logger.addHandler(file_handler)\n",
    "\n",
    "    return new_logger\n",
    "\n",
    "\n",
    "edx = create_logger(\"edx.deep_py.lecture\")\n",
    "\n",
    "username = \"Steve\"\n",
    "dbname = \"Persons\"\n",
    "\n",
    "template = \"user %s connect db %s\"\n",
    "\n",
    "edx.debug(template, \"Steve\", dbname)\n",
    "edx.info(template, \"Steve\", dbname)\n",
    "edx.warning(template, \"Steve\", dbname)\n",
    "edx.error(template, \"Peter\", dbname)\n",
    "edx.critical(template, \"Steve\", dbname)"
   ]
  },
  {
   "cell_type": "code",
   "execution_count": 102,
   "id": "16180889-b46b-4077-a786-3ce99924f424",
   "metadata": {},
   "outputs": [
    {
     "name": "stdout",
     "output_type": "stream",
     "text": [
      "22222 2024-11-18 20:38:50,125\tWARNING\tedx.deep_py.lecture\tuser Steve connect db Persons\n",
      "22222 2024-11-18 20:38:50,145\tERROR\tedx.deep_py.lecture\tuser Peter connect db Persons\n",
      "22222 2024-11-18 20:38:50,145\tCRITICAL\tedx.deep_py.lecture\tuser Steve connect db Persons\n"
     ]
    }
   ],
   "source": [
    "!cat edx.deep_py.lecture.log"
   ]
  },
  {
   "cell_type": "code",
   "execution_count": null,
   "id": "eb90f364-e12a-43a9-b812-f3e37b462d4e",
   "metadata": {},
   "outputs": [],
   "source": []
  },
  {
   "cell_type": "code",
   "execution_count": null,
   "id": "bc2d94d8-a593-43ac-8328-6ddabad6e8c7",
   "metadata": {},
   "outputs": [],
   "source": []
  },
  {
   "cell_type": "code",
   "execution_count": 111,
   "id": "153ffd53-7d60-4e9b-b507-d1fbf4d67392",
   "metadata": {},
   "outputs": [],
   "source": [
    "import logging\n",
    "import logging.config\n",
    "\n",
    "\n",
    "conf = {\n",
    "    \"version\": 1,\n",
    "    \"formatters\": {\n",
    "        \"form1\": {\n",
    "            \"format\": \"11111 %(asctime)s\\t%(levelname)s\\t%(name)s\\t%(message)s\",\n",
    "        },\n",
    "        \"form2\": {\n",
    "            \"format\": \"22222 %(asctime)s\\t%(levelname)s\\t%(name)s\\t%(message)s\",\n",
    "        },\n",
    "        \"form3\": {\n",
    "            \"format\": \"rooot %(asctime)s\\t%(levelname)s\\t%(name)s\\t%(message)s\",\n",
    "        },\n",
    "    },\n",
    "    \"handlers\": {\n",
    "        \"stream_handler\": {\n",
    "            \"class\": \"logging.StreamHandler\",\n",
    "            \"level\": \"INFO\",\n",
    "            \"formatter\": \"form1\",\n",
    "        },\n",
    "        \"root_stream_handler\": {\n",
    "            \"class\": \"logging.StreamHandler\",\n",
    "            \"level\": \"DEBUG\",\n",
    "            \"formatter\": \"form3\",\n",
    "        },\n",
    "        \"file_handler\": {\n",
    "            \"class\": \"logging.FileHandler\",\n",
    "            \"level\": \"ERROR\",\n",
    "            \"formatter\": \"form2\",\n",
    "            \"filename\": \"dict_fh.log\",\n",
    "            \"mode\": \"w\",\n",
    "        },\n",
    "    },\n",
    "    \"loggers\": {\n",
    "        \"\": {\n",
    "            \"level\": \"DEBUG\",\n",
    "            \"handlers\": [\"root_stream_handler\"],\n",
    "        },\n",
    "        \"edx\": {\n",
    "            \"level\": \"INFO\",\n",
    "            \"handlers\": [\"stream_handler\", \"file_handler\"],\n",
    "            \"propagate\": False,\n",
    "        },\n",
    "    },\n",
    "}\n",
    "\n",
    "logging.config.dictConfig(conf)"
   ]
  },
  {
   "cell_type": "code",
   "execution_count": 104,
   "id": "42e43ab8-d822-4abe-a9e8-73fbe7e10a7c",
   "metadata": {},
   "outputs": [],
   "source": [
    "root = logging.getLogger()"
   ]
  },
  {
   "cell_type": "code",
   "execution_count": 107,
   "id": "e1e1a49f-19a1-4e02-ad79-0bb12715aefd",
   "metadata": {},
   "outputs": [
    {
     "name": "stderr",
     "output_type": "stream",
     "text": [
      "rooot 2024-11-18 20:51:13,928\tERROR\troot\twrong\n"
     ]
    }
   ],
   "source": [
    "root.error(\"wrong\")"
   ]
  },
  {
   "cell_type": "code",
   "execution_count": 112,
   "id": "4526adca-b5d3-4610-8c10-0361cc754b55",
   "metadata": {},
   "outputs": [],
   "source": [
    "edx = logging.getLogger(\"edx\")"
   ]
  },
  {
   "cell_type": "code",
   "execution_count": 113,
   "id": "c1aeb381-8b18-43a4-a55e-64aa0c59577e",
   "metadata": {},
   "outputs": [
    {
     "name": "stderr",
     "output_type": "stream",
     "text": [
      "11111 2024-11-18 20:53:44,671\tERROR\tedx\tfailed to connect\n"
     ]
    }
   ],
   "source": [
    "edx.error(\"failed to connect\")"
   ]
  },
  {
   "cell_type": "code",
   "execution_count": 114,
   "id": "95a6c40f-b9fa-41fe-9c64-12761eb661a5",
   "metadata": {},
   "outputs": [
    {
     "name": "stdout",
     "output_type": "stream",
     "text": [
      "22222 2024-11-18 20:53:44,671\tERROR\tedx\tfailed to connect\n"
     ]
    }
   ],
   "source": [
    "!cat dict_fh.log"
   ]
  },
  {
   "cell_type": "code",
   "execution_count": null,
   "id": "d04a18e4-2c10-402c-bb04-8c913415128e",
   "metadata": {},
   "outputs": [],
   "source": []
  },
  {
   "cell_type": "code",
   "execution_count": 115,
   "id": "5890a133-2599-4c4a-af66-7de8050044b8",
   "metadata": {},
   "outputs": [],
   "source": [
    "unknown = logging.getLogger(\"unknown\")"
   ]
  },
  {
   "cell_type": "code",
   "execution_count": 117,
   "id": "b0ad0ebf-2804-4d5a-9443-94fdaee22a5f",
   "metadata": {},
   "outputs": [
    {
     "name": "stderr",
     "output_type": "stream",
     "text": [
      "rooot 2024-11-18 20:54:58,496\tERROR\tunknown\tname error\n"
     ]
    }
   ],
   "source": [
    "unknown.error(\"name error\")"
   ]
  },
  {
   "cell_type": "code",
   "execution_count": 118,
   "id": "a58fa1a8-f4d0-499d-95fd-ba0488e92e23",
   "metadata": {},
   "outputs": [],
   "source": [
    "unknown1 = logging.getLogger(\"unknown\")"
   ]
  },
  {
   "cell_type": "code",
   "execution_count": 120,
   "id": "41086718-01d3-469f-9571-41277b5a4d98",
   "metadata": {},
   "outputs": [
    {
     "data": {
      "text/plain": [
       "True"
      ]
     },
     "execution_count": 120,
     "metadata": {},
     "output_type": "execute_result"
    }
   ],
   "source": [
    "unknown is unknown1"
   ]
  },
  {
   "cell_type": "code",
   "execution_count": 121,
   "id": "bcd3fa28-1f29-4c17-8ee4-08f401ba59e1",
   "metadata": {},
   "outputs": [],
   "source": [
    "unknown.addHandler(logging.StreamHandler())"
   ]
  },
  {
   "cell_type": "code",
   "execution_count": 122,
   "id": "c854a3e7-35af-4427-9e6a-89014cacc95d",
   "metadata": {},
   "outputs": [
    {
     "name": "stderr",
     "output_type": "stream",
     "text": [
      "name error\n",
      "rooot 2024-11-18 20:56:46,572\tERROR\tunknown\tname error\n"
     ]
    }
   ],
   "source": [
    "unknown.error(\"name error\")"
   ]
  },
  {
   "cell_type": "code",
   "execution_count": null,
   "id": "6b338021-c1ec-4259-9d7f-e871c973a6b5",
   "metadata": {},
   "outputs": [],
   "source": []
  },
  {
   "cell_type": "code",
   "execution_count": null,
   "id": "f5cf0af7-0353-40ae-8e1d-63efcf7bfb2c",
   "metadata": {},
   "outputs": [],
   "source": []
  },
  {
   "cell_type": "code",
   "execution_count": 123,
   "id": "e02d93da-ee0e-4bdd-a7b3-d928d2e87f68",
   "metadata": {},
   "outputs": [],
   "source": [
    "import dis"
   ]
  },
  {
   "cell_type": "code",
   "execution_count": 125,
   "id": "f1af1ed2-cd07-4734-a66c-5b746a65c281",
   "metadata": {},
   "outputs": [
    {
     "data": {
      "text/plain": [
       "('zzzz', 'aaaaaaaaaa')"
      ]
     },
     "execution_count": 125,
     "metadata": {},
     "output_type": "execute_result"
    }
   ],
   "source": [
    "def calc(num: int, template: str) -> str:\n",
    "    z = 0\n",
    "    if num > z:\n",
    "        return template * num\n",
    "\n",
    "    for i in range(5):\n",
    "        z += i\n",
    "\n",
    "    return template * z\n",
    "\n",
    "\n",
    "calc(4, \"z\"), calc(-2, \"a\")"
   ]
  },
  {
   "cell_type": "code",
   "execution_count": 126,
   "id": "b84f9558-1533-4f90-97c4-dda8fd86d434",
   "metadata": {},
   "outputs": [
    {
     "name": "stdout",
     "output_type": "stream",
     "text": [
      "  1           0 RESUME                   0\n",
      "\n",
      "  2           2 LOAD_CONST               1 (0)\n",
      "              4 STORE_FAST               2 (z)\n",
      "\n",
      "  3           6 LOAD_FAST                0 (num)\n",
      "              8 LOAD_FAST                2 (z)\n",
      "             10 COMPARE_OP              68 (>)\n",
      "             14 POP_JUMP_IF_FALSE        5 (to 26)\n",
      "\n",
      "  4          16 LOAD_FAST                1 (template)\n",
      "             18 LOAD_FAST                0 (num)\n",
      "             20 BINARY_OP                5 (*)\n",
      "             24 RETURN_VALUE\n",
      "\n",
      "  6     >>   26 LOAD_GLOBAL              1 (NULL + range)\n",
      "             36 LOAD_CONST               2 (5)\n",
      "             38 CALL                     1\n",
      "             46 GET_ITER\n",
      "        >>   48 FOR_ITER                 7 (to 66)\n",
      "             52 STORE_FAST               3 (i)\n",
      "\n",
      "  7          54 LOAD_FAST                2 (z)\n",
      "             56 LOAD_FAST                3 (i)\n",
      "             58 BINARY_OP               13 (+=)\n",
      "             62 STORE_FAST               2 (z)\n",
      "             64 JUMP_BACKWARD            9 (to 48)\n",
      "\n",
      "  6     >>   66 END_FOR\n",
      "\n",
      "  9          68 LOAD_FAST                1 (template)\n",
      "             70 LOAD_FAST                2 (z)\n",
      "             72 BINARY_OP                5 (*)\n",
      "             76 RETURN_VALUE\n"
     ]
    }
   ],
   "source": [
    "dis.dis(calc)"
   ]
  },
  {
   "cell_type": "code",
   "execution_count": null,
   "id": "c05f9f15-5f6d-4dbe-b6a4-9d6b76b9aa77",
   "metadata": {},
   "outputs": [],
   "source": []
  },
  {
   "cell_type": "code",
   "execution_count": 127,
   "id": "6d13f307-d4cc-442b-b500-66d9238ce0c2",
   "metadata": {},
   "outputs": [
    {
     "name": "stdout",
     "output_type": "stream",
     "text": [
      "  1           0 RESUME                   0\n",
      "\n",
      "  2           2 LOAD_FAST                0 (n)\n",
      "              4 RETURN_VALUE\n"
     ]
    }
   ],
   "source": [
    "def fn(n):\n",
    "    return n\n",
    "\n",
    "dis.dis(fn)"
   ]
  },
  {
   "cell_type": "code",
   "execution_count": 128,
   "id": "d2dde55f-97a8-49e3-bce4-28c5b53585d3",
   "metadata": {},
   "outputs": [
    {
     "name": "stdout",
     "output_type": "stream",
     "text": [
      "  1           0 RESUME                   0\n",
      "              2 LOAD_FAST                0 (n)\n",
      "              4 RETURN_VALUE\n"
     ]
    }
   ],
   "source": [
    "f_lambda = lambda n: n\n",
    "\n",
    "dis.dis(f_lambda)"
   ]
  },
  {
   "cell_type": "code",
   "execution_count": 129,
   "id": "2160a2f9-3aa3-491a-a9f4-8714d4b65f10",
   "metadata": {},
   "outputs": [],
   "source": [
    "def calc(fn):\n",
    "    x = fn()\n",
    "    return x"
   ]
  },
  {
   "cell_type": "code",
   "execution_count": 131,
   "id": "f3e76b7b-877d-487e-b906-8f8d9e380d18",
   "metadata": {},
   "outputs": [
    {
     "name": "stdout",
     "output_type": "stream",
     "text": [
      "  1           0 RESUME                   0\n",
      "\n",
      "  2           2 LOAD_GLOBAL              1 (NULL + calc)\n",
      "             12 LOAD_GLOBAL              2 (fn)\n",
      "             22 CALL                     1\n",
      "             30 POP_TOP\n",
      "             32 RETURN_CONST             0 (None)\n",
      "----\n",
      "  4           0 RESUME                   0\n",
      "\n",
      "  5           2 LOAD_GLOBAL              1 (NULL + calc)\n",
      "             12 LOAD_CONST               1 (<code object <lambda> at 0x10a443ab0, file \"/var/folders/c1/9wdb7dps2x332c6l1y2hrqkh0000gp/T/ipykernel_85757/1637338276.py\", line 5>)\n",
      "             14 MAKE_FUNCTION            0\n",
      "             16 CALL                     1\n",
      "             24 POP_TOP\n",
      "             26 RETURN_CONST             0 (None)\n",
      "\n",
      "Disassembly of <code object <lambda> at 0x10a443ab0, file \"/var/folders/c1/9wdb7dps2x332c6l1y2hrqkh0000gp/T/ipykernel_85757/1637338276.py\", line 5>:\n",
      "  5           0 RESUME                   0\n",
      "              2 LOAD_FAST                0 (n)\n",
      "              4 RETURN_VALUE\n"
     ]
    }
   ],
   "source": [
    "def calc_fn():\n",
    "    calc(fn)\n",
    "\n",
    "def calc_lambda():\n",
    "    calc(lambda n: n)\n",
    "\n",
    "\n",
    "dis.dis(calc_fn)\n",
    "\n",
    "print(\"----\")\n",
    "\n",
    "dis.dis(calc_lambda)"
   ]
  },
  {
   "cell_type": "code",
   "execution_count": null,
   "id": "7aed7f56-9400-442b-b7a7-3cc1e8713bf4",
   "metadata": {},
   "outputs": [],
   "source": []
  },
  {
   "cell_type": "code",
   "execution_count": null,
   "id": "24821fd4-f211-4522-b00c-67ac8fb4ddf1",
   "metadata": {},
   "outputs": [],
   "source": []
  },
  {
   "cell_type": "code",
   "execution_count": 132,
   "id": "2fca5a88-51ca-46df-abd5-fe22790035f8",
   "metadata": {},
   "outputs": [],
   "source": [
    "import logging\n",
    "import logging.config\n",
    "\n",
    "\n",
    "conf = {\n",
    "    \"version\": 1,\n",
    "    \"formatters\": {\n",
    "        \"form1\": {\n",
    "            \"format\": \"11111 %(asctime)s\\t%(levelname)s\\t%(name)s\\t%(message)s\",\n",
    "        },\n",
    "        \"form2\": {\n",
    "            \"format\": \"22222 %(asctime)s\\t%(levelname)s\\t%(name)s\\t%(message)s\",\n",
    "        },\n",
    "        \"form3\": {\n",
    "            \"format\": \"rooot %(asctime)s\\t%(levelname)s\\t%(name)s\\t%(message)s\",\n",
    "        },\n",
    "    },\n",
    "    \"handlers\": {\n",
    "        \"stream_handler\": {\n",
    "            \"class\": \"logging.StreamHandler\",\n",
    "            \"level\": \"INFO\",\n",
    "            \"formatter\": \"form1\",\n",
    "        },\n",
    "        \"root_stream_handler\": {\n",
    "            \"class\": \"logging.StreamHandler\",\n",
    "            \"level\": \"DEBUG\",\n",
    "            \"formatter\": \"form3\",\n",
    "        },\n",
    "        \"file_handler\": {\n",
    "            \"class\": \"logging.FileHandler\",\n",
    "            \"level\": \"ERROR\",\n",
    "            \"formatter\": \"form2\",\n",
    "            \"filename\": \"dict_fh.log\",\n",
    "            \"mode\": \"w\",\n",
    "        },\n",
    "    },\n",
    "    \"loggers\": {\n",
    "        \"\": {\n",
    "            \"level\": \"DEBUG\",\n",
    "            \"handlers\": [\"root_stream_handler\"],\n",
    "        },\n",
    "    },\n",
    "}\n",
    "\n",
    "logging.config.dictConfig(conf)"
   ]
  },
  {
   "cell_type": "code",
   "execution_count": 133,
   "id": "65b77550-18bb-4e42-b84c-441b8bec5fcf",
   "metadata": {},
   "outputs": [],
   "source": [
    "edx2 = logging.getLogger(\"edx2\")\n",
    "edx2.addHandler(\"stream_handler\")"
   ]
  },
  {
   "cell_type": "code",
   "execution_count": 134,
   "id": "c33fd897-e1f9-4060-9195-b74f2c13766a",
   "metadata": {},
   "outputs": [
    {
     "ename": "AttributeError",
     "evalue": "'str' object has no attribute 'level'",
     "output_type": "error",
     "traceback": [
      "\u001b[0;31m---------------------------------------------------------------------------\u001b[0m",
      "\u001b[0;31mAttributeError\u001b[0m                            Traceback (most recent call last)",
      "Cell \u001b[0;32mIn[134], line 1\u001b[0m\n\u001b[0;32m----> 1\u001b[0m \u001b[43medx2\u001b[49m\u001b[38;5;241;43m.\u001b[39;49m\u001b[43merror\u001b[49m\u001b[43m(\u001b[49m\u001b[38;5;124;43m\"\u001b[39;49m\u001b[38;5;124;43mWRONG\u001b[39;49m\u001b[38;5;124;43m\"\u001b[39;49m\u001b[43m)\u001b[49m\n",
      "File \u001b[0;32m/Library/Frameworks/Python.framework/Versions/3.12/lib/python3.12/logging/__init__.py:1568\u001b[0m, in \u001b[0;36mLogger.error\u001b[0;34m(self, msg, *args, **kwargs)\u001b[0m\n\u001b[1;32m   1559\u001b[0m \u001b[38;5;250m\u001b[39m\u001b[38;5;124;03m\"\"\"\u001b[39;00m\n\u001b[1;32m   1560\u001b[0m \u001b[38;5;124;03mLog 'msg % args' with severity 'ERROR'.\u001b[39;00m\n\u001b[1;32m   1561\u001b[0m \n\u001b[0;32m   (...)\u001b[0m\n\u001b[1;32m   1565\u001b[0m \u001b[38;5;124;03mlogger.error(\"Houston, we have a %s\", \"major problem\", exc_info=True)\u001b[39;00m\n\u001b[1;32m   1566\u001b[0m \u001b[38;5;124;03m\"\"\"\u001b[39;00m\n\u001b[1;32m   1567\u001b[0m \u001b[38;5;28;01mif\u001b[39;00m \u001b[38;5;28mself\u001b[39m\u001b[38;5;241m.\u001b[39misEnabledFor(ERROR):\n\u001b[0;32m-> 1568\u001b[0m     \u001b[38;5;28;43mself\u001b[39;49m\u001b[38;5;241;43m.\u001b[39;49m\u001b[43m_log\u001b[49m\u001b[43m(\u001b[49m\u001b[43mERROR\u001b[49m\u001b[43m,\u001b[49m\u001b[43m \u001b[49m\u001b[43mmsg\u001b[49m\u001b[43m,\u001b[49m\u001b[43m \u001b[49m\u001b[43margs\u001b[49m\u001b[43m,\u001b[49m\u001b[43m \u001b[49m\u001b[38;5;241;43m*\u001b[39;49m\u001b[38;5;241;43m*\u001b[39;49m\u001b[43mkwargs\u001b[49m\u001b[43m)\u001b[49m\n",
      "File \u001b[0;32m/Library/Frameworks/Python.framework/Versions/3.12/lib/python3.12/logging/__init__.py:1684\u001b[0m, in \u001b[0;36mLogger._log\u001b[0;34m(self, level, msg, args, exc_info, extra, stack_info, stacklevel)\u001b[0m\n\u001b[1;32m   1681\u001b[0m         exc_info \u001b[38;5;241m=\u001b[39m sys\u001b[38;5;241m.\u001b[39mexc_info()\n\u001b[1;32m   1682\u001b[0m record \u001b[38;5;241m=\u001b[39m \u001b[38;5;28mself\u001b[39m\u001b[38;5;241m.\u001b[39mmakeRecord(\u001b[38;5;28mself\u001b[39m\u001b[38;5;241m.\u001b[39mname, level, fn, lno, msg, args,\n\u001b[1;32m   1683\u001b[0m                          exc_info, func, extra, sinfo)\n\u001b[0;32m-> 1684\u001b[0m \u001b[38;5;28;43mself\u001b[39;49m\u001b[38;5;241;43m.\u001b[39;49m\u001b[43mhandle\u001b[49m\u001b[43m(\u001b[49m\u001b[43mrecord\u001b[49m\u001b[43m)\u001b[49m\n",
      "File \u001b[0;32m/Library/Frameworks/Python.framework/Versions/3.12/lib/python3.12/logging/__init__.py:1700\u001b[0m, in \u001b[0;36mLogger.handle\u001b[0;34m(self, record)\u001b[0m\n\u001b[1;32m   1698\u001b[0m \u001b[38;5;28;01mif\u001b[39;00m \u001b[38;5;28misinstance\u001b[39m(maybe_record, LogRecord):\n\u001b[1;32m   1699\u001b[0m     record \u001b[38;5;241m=\u001b[39m maybe_record\n\u001b[0;32m-> 1700\u001b[0m \u001b[38;5;28;43mself\u001b[39;49m\u001b[38;5;241;43m.\u001b[39;49m\u001b[43mcallHandlers\u001b[49m\u001b[43m(\u001b[49m\u001b[43mrecord\u001b[49m\u001b[43m)\u001b[49m\n",
      "File \u001b[0;32m/Library/Frameworks/Python.framework/Versions/3.12/lib/python3.12/logging/__init__.py:1761\u001b[0m, in \u001b[0;36mLogger.callHandlers\u001b[0;34m(self, record)\u001b[0m\n\u001b[1;32m   1759\u001b[0m \u001b[38;5;28;01mfor\u001b[39;00m hdlr \u001b[38;5;129;01min\u001b[39;00m c\u001b[38;5;241m.\u001b[39mhandlers:\n\u001b[1;32m   1760\u001b[0m     found \u001b[38;5;241m=\u001b[39m found \u001b[38;5;241m+\u001b[39m \u001b[38;5;241m1\u001b[39m\n\u001b[0;32m-> 1761\u001b[0m     \u001b[38;5;28;01mif\u001b[39;00m record\u001b[38;5;241m.\u001b[39mlevelno \u001b[38;5;241m>\u001b[39m\u001b[38;5;241m=\u001b[39m \u001b[43mhdlr\u001b[49m\u001b[38;5;241;43m.\u001b[39;49m\u001b[43mlevel\u001b[49m:\n\u001b[1;32m   1762\u001b[0m         hdlr\u001b[38;5;241m.\u001b[39mhandle(record)\n\u001b[1;32m   1763\u001b[0m \u001b[38;5;28;01mif\u001b[39;00m \u001b[38;5;129;01mnot\u001b[39;00m c\u001b[38;5;241m.\u001b[39mpropagate:\n",
      "\u001b[0;31mAttributeError\u001b[0m: 'str' object has no attribute 'level'"
     ]
    }
   ],
   "source": [
    "edx2.error(\"WRONG\")"
   ]
  },
  {
   "cell_type": "code",
   "execution_count": null,
   "id": "fb9213e5-9417-4170-a6ec-5c2a29b28257",
   "metadata": {},
   "outputs": [],
   "source": []
  }
 ],
 "metadata": {
  "kernelspec": {
   "display_name": "Python 3 (ipykernel)",
   "language": "python",
   "name": "python3"
  },
  "language_info": {
   "codemirror_mode": {
    "name": "ipython",
    "version": 3
   },
   "file_extension": ".py",
   "mimetype": "text/x-python",
   "name": "python",
   "nbconvert_exporter": "python",
   "pygments_lexer": "ipython3",
   "version": "3.12.5"
  }
 },
 "nbformat": 4,
 "nbformat_minor": 5
}
